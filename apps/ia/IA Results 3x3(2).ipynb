{
 "cells": [
  {
   "cell_type": "markdown",
   "metadata": {},
   "source": [
    "# Simulation Results for varying number of maximum iterations"
   ]
  },
  {
   "cell_type": "markdown",
   "metadata": {},
   "source": [
    "This notebook shows BER and Sum Capacity results for different IA\n",
    "algorithms when the maximum number of allowed iterations is limited.  Note\n",
    "that the algorithm might run less iterations than the allowed maximum if\n",
    "the precoders do not change significantly from one iteration to the next\n",
    "one.  The maximum number of allowed iterations vary from 5 to 60, except\n",
    "for the closed form algorithm, which is not iterative. The solid lines\n",
    "indicate the BER or Sum Capacity in the left axis, while the dashed lines\n",
    "indicate the mean number of iterations that algorithm used.\n",
    "\n",
    "Let's perform some initializations.\n",
    "\n",
    "First we enable the \"inline\" mode for plots."
   ]
  },
  {
   "cell_type": "code",
   "execution_count": null,
   "metadata": {
    "collapsed": false
   },
   "outputs": [],
   "source": [
    "%pylab inline"
   ]
  },
  {
   "cell_type": "markdown",
   "metadata": {},
   "source": [
    "Now we import some modules we use and add the PyPhysim to the python path."
   ]
  },
  {
   "cell_type": "code",
   "execution_count": null,
   "metadata": {
    "collapsed": false
   },
   "outputs": [],
   "source": [
    "import sys\n",
    "sys.path.append(\"/home/darlan/cvs_files/pyphysim\")\n",
    "# xxxxxxxxxx Import Statements xxxxxxxxxxxxxxxxxxxxxxxxxxxxxxxxxxxxxxxxxxxx\n",
    "from pyphysim.simulations.core import SimulationRunner, SimulationParameters, SimulationResults, Result\n",
    "from pyphysim.comm import modulators, channels\n",
    "from pyphysim.util.conversion import dB2Linear\n",
    "from pyphysim.util import misc\n",
    "# from pyphysim.ia import ia\n",
    "import numpy as np\n",
    "from pprint import pprint\n",
    "# xxxxxxxxxxxxxxxxxxxxxxxxxxxxxxxxxxxxxxxxxxxxxxxxxxxxxxxxxxxxxxxxxxxxxxxxx"
   ]
  },
  {
   "cell_type": "markdown",
   "metadata": {},
   "source": [
    "Now we set the transmit parameters and load the simulation results from the file corresponding to those transmit parameters."
   ]
  },
  {
   "cell_type": "code",
   "execution_count": null,
   "metadata": {
    "collapsed": false
   },
   "outputs": [],
   "source": [
    "# xxxxx Parameters xxxxxxxxxxxxxxxxxxxxxxxxxxxxxxxxxxxxxxxxxxxxxxxxxxxx\n",
    "#params = SimulationParameters.load_from_config_file('ia_config_file.txt')\n",
    "K = 3\n",
    "Nr = 3\n",
    "Nt = 3\n",
    "Ns = 2\n",
    "M = 4\n",
    "modulator = \"PSK\"\n",
    "# xxxxxxxxxxxxxxxxxxxxxxxxxxxxxxxxxxxxxxxxxxxxxxxxxxxxxxxxxxxxxxxxxxxxx\n",
    "\n",
    "# xxxxx Results base name xxxxxxxxxxxxxxxxxxxxxxxxxxxxxxxxxxxxxxxxxxxxx\n",
    "base_name = 'results_{M}-{modulator}_{Nr}x{Nt}_({Ns})_MaxIter_[5_(5)_120]'.format(M=M, modulator=modulator, Nr=Nr, Nt=Nt, Ns=Ns)\n",
    "base_name_no_iter = 'results_{M}-{modulator}_{Nr}x{Nt}_({Ns})'.format(M=M, modulator=modulator, Nr=Nr, Nt=Nt, Ns=Ns)  # Used only for the closed form algorithm, which is not iterative\n",
    "# xxxxxxxxxxxxxxxxxxxxxxxxxxxxxxxxxxxxxxxxxxxxxxxxxxxxxxxxxxxxxxxxxxxxx\n",
    "\n",
    "# xxxxxxxxxxxxxxxxxxxxxxxxxxxxxxxxxxxxxxxxxxxxxxxxxxxxxxxxxxxxxxxxxxxxx\n",
    "alt_min_results = SimulationResults.load_from_file(\n",
    "    'ia_alt_min_{0}.pickle'.format(base_name))\n",
    "closed_form_results = SimulationResults.load_from_file(\n",
    "    'ia_closed_form_{0}.pickle'.format(base_name_no_iter))\n",
    "# closed_form_first_results = SimulationResults.load_from_file(\n",
    "#     'ia_closed_form_first_init_{0}.pickle'.format(base_name))\n",
    "max_sinrn_results = SimulationResults.load_from_file(\n",
    "    \"ia_max_sinr_{0}_['random'].pickle\".format(base_name))\n",
    "# min_leakage_results = SimulationResults.load_from_file(\n",
    "#     'ia_min_leakage_{0}.pickle'.format(base_name))\n",
    "mmse_results = SimulationResults.load_from_file(\n",
    "    \"ia_mmse_{0}_['random'].pickle\".format(base_name))\n",
    "# xxxxxxxxxxxxxxxxxxxxxxxxxxxxxxxxxxxxxxxxxxxxxxxxxxxxxxxxxxxxxxxxxxxxx\n"
   ]
  },
  {
   "cell_type": "markdown",
   "metadata": {},
   "source": [
    "Let's define helper methods to get mean number of IA iterations from a simulation results object."
   ]
  },
  {
   "cell_type": "code",
   "execution_count": null,
   "metadata": {
    "collapsed": false
   },
   "outputs": [],
   "source": [
    "# Helper function to get the number of repetitions for a given set of transmit parameters\n",
    "def get_num_runned_reps(sim_results_object, fixed_params=dict()):\n",
    "    all_runned_reps = np.array(sim_results_object.runned_reps)\n",
    "    indexes = sim_results_object.params.get_pack_indexes(fixed_params)\n",
    "    return all_runned_reps[indexes]\n",
    "\n",
    "# Helper function to get the number of IA runned iterations for a given set of transmit parameters\n",
    "def get_num_mean_ia_iterations(sim_results_object, fixed_params=dict()):\n",
    "    return sim_results_object.get_result_values_list('ia_runned_iterations', fixed_params)"
   ]
  },
  {
   "cell_type": "markdown",
   "metadata": {},
   "source": [
    "Get the SNR values from the simulation parameters object."
   ]
  },
  {
   "cell_type": "code",
   "execution_count": null,
   "metadata": {
    "collapsed": false
   },
   "outputs": [],
   "source": [
    "SNR_alt_min = np.array(alt_min_results.params['SNR'])\n",
    "SNR_closed_form = np.array(closed_form_results.params['SNR'])\n",
    "SNR_max_SINR = np.array(max_sinrn_results.params['SNR'])\n",
    "# SNR_min_leakage = np.array(min_leakage_results.params['SNR'])\n",
    "SNR_mmse = np.array(mmse_results.params['SNR'])"
   ]
  },
  {
   "cell_type": "markdown",
   "metadata": {},
   "source": [
    "Define a function that we can call to plot the BER.\n",
    "This function will plot the BER for all SNR values for the four IA algorithms, given the desired \"max_iterations\" parameter value."
   ]
  },
  {
   "cell_type": "code",
   "execution_count": null,
   "metadata": {
    "collapsed": false
   },
   "outputs": [],
   "source": [
    "def plot_ber(max_iterations, ax=None):\n",
    "    ber_alt_min = alt_min_results.get_result_values_list(\n",
    "        'ber',\n",
    "        fixed_params={'max_iterations': max_iterations})\n",
    "    ber_CF_alt_min = alt_min_results.get_result_values_confidence_intervals(\n",
    "        'ber',\n",
    "        P=95,\n",
    "        fixed_params={'max_iterations': max_iterations})\n",
    "    ber_errors_alt_min = np.abs([i[1] - i[0] for i in ber_CF_alt_min])\n",
    "\n",
    "    ber_closed_form = closed_form_results.get_result_values_list(\n",
    "        'ber',\n",
    "        fixed_params={'max_iterations': max_iterations})\n",
    "    ber_CF_closed_form = closed_form_results.get_result_values_confidence_intervals(\n",
    "        'ber',\n",
    "        P=95,\n",
    "        fixed_params={'max_iterations': max_iterations})\n",
    "    ber_errors_closed_form = np.abs([i[1] - i[0] for i in ber_CF_closed_form])\n",
    "\n",
    "    # ber_closed_form_first = closed_form_first_results.get_result_values_list('ber')\n",
    "    # ber_CF_closed_form_first = closed_form_first_results.get_result_values_confidence_intervals('ber', P=95)\n",
    "    # ber_errors_closed_form_first = np.abs([i[1] - i[0] for i in ber_CF_closed_form_first])\n",
    "\n",
    "    ber_max_sinr = max_sinrn_results.get_result_values_list(\n",
    "        'ber',\n",
    "        fixed_params={'max_iterations': max_iterations})\n",
    "    ber_CF_max_sinr = max_sinrn_results.get_result_values_confidence_intervals(\n",
    "        'ber',\n",
    "        P=95,\n",
    "        fixed_params={'max_iterations': max_iterations})\n",
    "    ber_errors_max_sinr = np.abs([i[1] - i[0] for i in ber_CF_max_sinr])\n",
    "\n",
    "    # ber_min_leakage = min_leakage_results.get_result_values_list('ber')\n",
    "    # ber_CF_min_leakage = min_leakage_results.get_result_values_confidence_intervals('ber', P=95)\n",
    "    # ber_errors_min_leakage = np.abs([i[1] - i[0] for i in ber_CF_min_leakage])\n",
    "\n",
    "    ber_mmse = mmse_results.get_result_values_list(\n",
    "        'ber',\n",
    "        fixed_params={'max_iterations': max_iterations})\n",
    "    ber_CF_mmse = mmse_results.get_result_values_confidence_intervals(\n",
    "        'ber',\n",
    "        P=95,\n",
    "        fixed_params={'max_iterations': max_iterations})\n",
    "    ber_errors_mmse = np.abs([i[1] - i[0] for i in ber_CF_mmse])\n",
    "\n",
    "    if ax is None:\n",
    "        fig, ax = plt.subplots(nrows=1, ncols=1)\n",
    "    ax.errorbar(SNR_alt_min, ber_alt_min, ber_errors_alt_min, fmt='-r*', elinewidth=2.0, label='Alt. Min.')\n",
    "    ax.errorbar(SNR_closed_form, ber_closed_form, ber_errors_closed_form, fmt='-b*', elinewidth=2.0, label='Closed Form')\n",
    "    ax.errorbar(SNR_max_SINR, ber_max_sinr, ber_errors_max_sinr, fmt='-g*', elinewidth=2.0, label='Max SINR')\n",
    "    # ax.errorbar(SNR, ber_min_leakage, ber_errors_min_leakage, fmt='-k*', elinewidth=2.0, label='Min Leakage.')\n",
    "    ax.errorbar(SNR_mmse, ber_mmse, ber_errors_mmse, fmt='-m*', elinewidth=2.0, label='MMSE.')\n",
    "\n",
    "    ax.set_xlabel('SNR')\n",
    "    ax.set_ylabel('BER')\n",
    "    title = 'BER for Different Algorithms ({max_iterations} Max Iterations)\\nK={K}, Nr={Nr}, Nt={Nt}, Ns={Ns}, {M}-{modulator}'.replace(\"{max_iterations}\", str(max_iterations))\n",
    "    ax.set_title(title.format(**alt_min_results.params.parameters))\n",
    "\n",
    "    ax.set_yscale('log')\n",
    "    leg = ax.legend(fancybox=True, shadow=True, loc='lower left', bbox_to_anchor=(0.01, 0.01), ncol=4)\n",
    "    ax.grid(True, which='both', axis='both')\n",
    "    \n",
    "    # Lets plot the mean number of ia iterations\n",
    "    ax2 = ax.twinx()\n",
    "    mean_alt_min_ia_terations = get_num_mean_ia_iterations(alt_min_results, {'max_iterations': max_iterations})\n",
    "    mean_max_sinrn_ia_terations = get_num_mean_ia_iterations(max_sinrn_results, {'max_iterations': max_iterations})\n",
    "    mean_mmse_ia_terations = get_num_mean_ia_iterations(mmse_results, {'max_iterations': max_iterations})\n",
    "    ax2.plot(SNR_alt_min, mean_alt_min_ia_terations, '--r*')\n",
    "    ax2.plot(SNR_max_SINR, mean_max_sinrn_ia_terations, '--g*')\n",
    "    ax2.plot(SNR_mmse, mean_mmse_ia_terations, '--m*')\n",
    "    \n",
    "    # Horizontal line with the max alowed ia iterations\n",
    "    ax2.hlines(max_iterations, SNR_alt_min[0], SNR_alt_min[-1], linestyles='dashed')\n",
    "    ax2.set_ylim(0, max_iterations*1.1)\n",
    "    ax2.set_ylabel('IA Mean Iterations')\n",
    "\n",
    "    # Set the X axis limits\n",
    "    ax.set_xlim(SNR_alt_min[0], SNR_alt_min[-1])\n",
    "    # Set the Y axis limits\n",
    "    ax.set_ylim(1e-6, 1)"
   ]
  },
  {
   "cell_type": "markdown",
   "metadata": {},
   "source": [
    "# Plot the BER"
   ]
  },
  {
   "cell_type": "markdown",
   "metadata": {},
   "source": [
    "We can create a 4x4 grids if plots and call the plot_ber function to plot in each subplot."
   ]
  },
  {
   "cell_type": "code",
   "execution_count": null,
   "metadata": {
    "collapsed": false
   },
   "outputs": [],
   "source": [
    "fig, ax = subplots(2,2,figsize=(20,15))\n",
    "plot_ber(5, ax[0,0])\n",
    "plot_ber(10, ax[0,1])\n",
    "plot_ber(15, ax[1,0])\n",
    "plot_ber(20, ax[1,1])"
   ]
  },
  {
   "cell_type": "code",
   "execution_count": null,
   "metadata": {
    "collapsed": false
   },
   "outputs": [],
   "source": [
    "fig, ax = subplots(2,2,figsize=(20,15))\n",
    "plot_ber(25, ax[0,0])\n",
    "plot_ber(30, ax[0,1])\n",
    "plot_ber(35, ax[1,0])\n",
    "plot_ber(40, ax[1,1])"
   ]
  },
  {
   "cell_type": "code",
   "execution_count": null,
   "metadata": {
    "collapsed": false
   },
   "outputs": [],
   "source": [
    "fig, ax = subplots(2,2,figsize=(20,15))\n",
    "plot_ber(45, ax[0,0])\n",
    "plot_ber(50, ax[0,1])\n",
    "plot_ber(55, ax[1,0])\n",
    "plot_ber(60, ax[1,1])"
   ]
  },
  {
   "cell_type": "markdown",
   "metadata": {},
   "source": [
    "# Plot the Capacity"
   ]
  },
  {
   "cell_type": "code",
   "execution_count": null,
   "metadata": {
    "collapsed": false
   },
   "outputs": [],
   "source": [
    "def plot_capacity(max_iterations, ax=None):\n",
    "    # xxxxx Plot Sum Capacity (all) xxxxxxxxxxxxxxxxxxxxxxxxxxxxxxxxxxxxxxx\n",
    "    sum_capacity_alt_min = alt_min_results.get_result_values_list(\n",
    "        'sum_capacity',\n",
    "        fixed_params={'max_iterations': max_iterations})\n",
    "    sum_capacity_CF_alt_min = alt_min_results.get_result_values_confidence_intervals(\n",
    "        'sum_capacity',\n",
    "        P=95,\n",
    "        fixed_params={'max_iterations': max_iterations})\n",
    "    sum_capacity_errors_alt_min = np.abs([i[1] - i[0] for i in sum_capacity_CF_alt_min])\n",
    "\n",
    "    sum_capacity_closed_form = closed_form_results.get_result_values_list(\n",
    "        'sum_capacity',\n",
    "        fixed_params={'max_iterations': max_iterations})\n",
    "    sum_capacity_CF_closed_form = closed_form_results.get_result_values_confidence_intervals(\n",
    "        'sum_capacity',\n",
    "        P=95,\n",
    "        fixed_params={'max_iterations': max_iterations})\n",
    "    sum_capacity_errors_closed_form = np.abs([i[1] - i[0] for i in sum_capacity_CF_closed_form])\n",
    "\n",
    "    sum_capacity_max_sinr = max_sinrn_results.get_result_values_list(\n",
    "        'sum_capacity',\n",
    "        fixed_params={'max_iterations': max_iterations})\n",
    "    sum_capacity_CF_max_sinr = max_sinrn_results.get_result_values_confidence_intervals(\n",
    "        'sum_capacity',\n",
    "        P=95,\n",
    "        fixed_params={'max_iterations': max_iterations})\n",
    "    sum_capacity_errors_max_sinr = np.abs([i[1] - i[0] for i in sum_capacity_CF_max_sinr])\n",
    "\n",
    "    # sum_capacity_min_leakage = min_leakage_results.get_result_values_list('sum_capacity')\n",
    "    # sum_capacity_CF_min_leakage = min_leakage_results.get_result_values_confidence_intervals('sum_capacity', P=95)\n",
    "    # sum_capacity_errors_min_leakage = np.abs([i[1] - i[0] for i in sum_capacity_CF_min_leakage])\n",
    "\n",
    "    sum_capacity_mmse = mmse_results.get_result_values_list(\n",
    "        'sum_capacity',\n",
    "        fixed_params={'max_iterations': max_iterations})\n",
    "    sum_capacity_CF_mmse = mmse_results.get_result_values_confidence_intervals(\n",
    "        'sum_capacity',\n",
    "        P=95,\n",
    "        fixed_params={'max_iterations': max_iterations})\n",
    "    sum_capacity_errors_mmse = np.abs([i[1] - i[0] for i in sum_capacity_CF_mmse])\n",
    "\n",
    "    if ax is None:\n",
    "        fig, ax = plt.subplots(nrows=1, ncols=1)\n",
    "    # xxxxxxxxxxxxxxxxxxxxxxxxxxxxxxxxxxxxxxxxxxxxxxxxxxxxxxxxxxxxxxxxxxxxx\n",
    "    ax.errorbar(SNR_alt_min, sum_capacity_alt_min, sum_capacity_errors_alt_min, fmt='-r*', elinewidth=2.0, label='Alt. Min.')\n",
    "    ax.errorbar(SNR_closed_form, sum_capacity_closed_form, sum_capacity_errors_closed_form, fmt='-b*', elinewidth=2.0, label='Closed Form')\n",
    "    ax.errorbar(SNR_max_SINR, sum_capacity_max_sinr, sum_capacity_errors_max_sinr, fmt='-g*', elinewidth=2.0, label='Max SINR')\n",
    "    # ax.errorbar(SNR, sum_capacity_min_leakage, sum_capacity_errors_min_leakage, fmt='-k*', elinewidth=2.0, label='Min Leakage.')\n",
    "    ax.errorbar(SNR_mmse, sum_capacity_mmse, sum_capacity_errors_mmse, fmt='-m*', elinewidth=2.0, label='MMSE.')\n",
    "    # xxxxxxxxxxxxxxxxxxxxxxxxxxxxxxxxxxxxxxxxxxxxxxxxxxxxxxxxxxxxxxxxxxxxx\n",
    "\n",
    "    ax.set_xlabel('SNR')\n",
    "    ax.set_ylabel('Sum Capacity')\n",
    "    title = 'Sum Capacity for Different Algorithms ({max_iterations} Max Iterations)\\nK={K}, Nr={Nr}, Nt={Nt}, Ns={Ns}, {M}-{modulator}'.replace(\"{max_iterations}\", str(max_iterations))\n",
    "    ax.set_title(title.format(**alt_min_results.params.parameters))\n",
    "\n",
    "    #leg = ax.legend(fancybox=True, shadow=True, loc=2)\n",
    "    leg = ax.legend(fancybox=True, shadow=True, loc='lower right', bbox_to_anchor=(0.99, 0.01), ncol=4)\n",
    "    \n",
    "    ax.grid(True, which='both', axis='both')\n",
    "    \n",
    "    # Lets plot the mean number of ia iterations\n",
    "    ax2 = ax.twinx()\n",
    "    mean_alt_min_ia_terations = get_num_mean_ia_iterations(alt_min_results, {'max_iterations': max_iterations})\n",
    "    mean_max_sinrn_ia_terations = get_num_mean_ia_iterations(max_sinrn_results, {'max_iterations': max_iterations})\n",
    "    mean_mmse_ia_terations = get_num_mean_ia_iterations(mmse_results, {'max_iterations': max_iterations})\n",
    "    ax2.plot(SNR_alt_min, mean_alt_min_ia_terations, '--r*')\n",
    "    ax2.plot(SNR_max_SINR, mean_max_sinrn_ia_terations, '--g*')\n",
    "    ax2.plot(SNR_mmse, mean_mmse_ia_terations, '--m*')\n",
    "    \n",
    "    # Horizontal line with the max alowed ia iterations\n",
    "    ax2.hlines(max_iterations, SNR_alt_min[0], SNR_alt_min[-1], linestyles='dashed')\n",
    "    ax2.set_ylim(0, max_iterations*1.1)\n",
    "    ax2.set_ylabel('IA Mean Iterations')\n",
    "\n",
    "    # Set the X axis limits\n",
    "    ax.set_xlim(SNR_alt_min[0], SNR_alt_min[-1])\n",
    "    # Set the Y axis limits\n",
    "    #ax.set_ylim(1e-6, 1)"
   ]
  },
  {
   "cell_type": "code",
   "execution_count": null,
   "metadata": {
    "collapsed": false
   },
   "outputs": [],
   "source": [
    "fig, ax = subplots(2,2,figsize=(20,15))\n",
    "plot_capacity(5, ax[0,0])\n",
    "plot_capacity(10, ax[0,1])\n",
    "plot_capacity(15, ax[1,0])\n",
    "plot_capacity(20, ax[1,1])"
   ]
  },
  {
   "cell_type": "code",
   "execution_count": null,
   "metadata": {
    "collapsed": false
   },
   "outputs": [],
   "source": [
    "fig, ax = subplots(2,2,figsize=(20,15))\n",
    "plot_capacity(25, ax[0,0])\n",
    "plot_capacity(30, ax[0,1])\n",
    "plot_capacity(35, ax[1,0])\n",
    "plot_capacity(40, ax[1,1])"
   ]
  },
  {
   "cell_type": "code",
   "execution_count": null,
   "metadata": {
    "collapsed": false
   },
   "outputs": [],
   "source": [
    "fig, ax = subplots(2,2,figsize=(20,15))\n",
    "plot_capacity(45, ax[0,0])\n",
    "plot_capacity(50, ax[0,1])\n",
    "plot_capacity(55, ax[1,0])\n",
    "plot_capacity(60, ax[1,1])"
   ]
  }
 ],
 "metadata": {
  "kernelspec": {
   "display_name": "IPython (Python 3)",
   "language": "python",
   "name": "python3"
  },
  "language_info": {
   "codemirror_mode": {
    "name": "ipython",
    "version": 3
   },
   "file_extension": ".py",
   "mimetype": "text/x-python",
   "name": "python",
   "nbconvert_exporter": "python",
   "pygments_lexer": "ipython3",
   "version": "3.5.0+"
  }
 },
 "nbformat": 4,
 "nbformat_minor": 0
}
