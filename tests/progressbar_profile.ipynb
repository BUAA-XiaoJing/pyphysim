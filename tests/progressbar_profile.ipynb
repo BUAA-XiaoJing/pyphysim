{
 "cells": [
  {
   "cell_type": "code",
   "execution_count": 1,
   "metadata": {},
   "outputs": [],
   "source": [
    "from time import sleep, time\n",
    "\n",
    "from IPython.display import HTML, Latex, display\n",
    "from tqdm import tqdm\n",
    "\n",
    "from pyphysim.progressbar.progressbar import (\n",
    "    DummyProgressbar,\n",
    "    ProgressBarIPython,\n",
    "    ProgressbarText,\n",
    "    ProgressbarText2,\n",
    "    ProgressbarText3,\n",
    ")\n",
    "from pyphysim.simulations.parameters import SimulationParameters\n",
    "from pyphysim.simulations.results import Result, SimulationResults\n",
    "from pyphysim.util.misc import pretty_time"
   ]
  },
  {
   "cell_type": "code",
   "execution_count": 2,
   "metadata": {},
   "outputs": [],
   "source": [
    "# Create some dummy parameters (including two parameters set to be\n",
    "# unpacked)\n",
    "params = SimulationParameters()\n",
    "params.add(\"extra\", 2.3)\n",
    "params.add(\"SNR\", np.array([0, 3, 6, 9]))\n",
    "params.add(\"bias\", [1.2, 1.6])\n",
    "params.set_unpack_parameter('SNR')\n",
    "params.set_unpack_parameter('bias')\n",
    "params.add(\"Name\", \"Some string\")\n",
    "\n",
    "sim_results = SimulationResults()\n",
    "for p in params.get_unpacked_params_list():\n",
    "    extra = p['extra']\n",
    "    SNR = p['SNR']\n",
    "    bias = p['bias']\n",
    "    sim_results.append_result(\n",
    "        Result.create('res1', Result.SUMTYPE, extra * SNR + bias))\n",
    "    sim_results.append_result(\n",
    "        Result.create('res2', Result.SUMTYPE, bias * SNR + extra))\n",
    "sim_results.set_parameters(params)\n",
    "\n",
    "# Now lets convert this SimulationResults object to a pandas\n",
    "# DataFrame\n",
    "df = sim_results.to_dataframe()"
   ]
  },
  {
   "cell_type": "code",
   "execution_count": 3,
   "metadata": {},
   "outputs": [
    {
     "data": {
      "text/html": [
       "<div>\n",
       "<style scoped>\n",
       "    .dataframe tbody tr th:only-of-type {\n",
       "        vertical-align: middle;\n",
       "    }\n",
       "\n",
       "    .dataframe tbody tr th {\n",
       "        vertical-align: top;\n",
       "    }\n",
       "\n",
       "    .dataframe thead th {\n",
       "        text-align: right;\n",
       "    }\n",
       "</style>\n",
       "<table border=\"1\" class=\"dataframe\">\n",
       "  <thead>\n",
       "    <tr style=\"text-align: right;\">\n",
       "      <th></th>\n",
       "      <th>extra</th>\n",
       "      <th>SNR</th>\n",
       "      <th>bias</th>\n",
       "      <th>Name</th>\n",
       "      <th>res1</th>\n",
       "      <th>res2</th>\n",
       "      <th>runned_reps</th>\n",
       "    </tr>\n",
       "  </thead>\n",
       "  <tbody>\n",
       "    <tr>\n",
       "      <th>0</th>\n",
       "      <td>2.3</td>\n",
       "      <td>0</td>\n",
       "      <td>1.2</td>\n",
       "      <td>Some string</td>\n",
       "      <td>1.2</td>\n",
       "      <td>2.3</td>\n",
       "      <td>None</td>\n",
       "    </tr>\n",
       "    <tr>\n",
       "      <th>1</th>\n",
       "      <td>2.3</td>\n",
       "      <td>0</td>\n",
       "      <td>1.6</td>\n",
       "      <td>Some string</td>\n",
       "      <td>1.6</td>\n",
       "      <td>2.3</td>\n",
       "      <td>None</td>\n",
       "    </tr>\n",
       "    <tr>\n",
       "      <th>2</th>\n",
       "      <td>2.3</td>\n",
       "      <td>3</td>\n",
       "      <td>1.2</td>\n",
       "      <td>Some string</td>\n",
       "      <td>8.1</td>\n",
       "      <td>5.9</td>\n",
       "      <td>None</td>\n",
       "    </tr>\n",
       "    <tr>\n",
       "      <th>3</th>\n",
       "      <td>2.3</td>\n",
       "      <td>3</td>\n",
       "      <td>1.6</td>\n",
       "      <td>Some string</td>\n",
       "      <td>8.5</td>\n",
       "      <td>7.1</td>\n",
       "      <td>None</td>\n",
       "    </tr>\n",
       "    <tr>\n",
       "      <th>4</th>\n",
       "      <td>2.3</td>\n",
       "      <td>6</td>\n",
       "      <td>1.2</td>\n",
       "      <td>Some string</td>\n",
       "      <td>15.0</td>\n",
       "      <td>9.5</td>\n",
       "      <td>None</td>\n",
       "    </tr>\n",
       "    <tr>\n",
       "      <th>5</th>\n",
       "      <td>2.3</td>\n",
       "      <td>6</td>\n",
       "      <td>1.6</td>\n",
       "      <td>Some string</td>\n",
       "      <td>15.4</td>\n",
       "      <td>11.9</td>\n",
       "      <td>None</td>\n",
       "    </tr>\n",
       "    <tr>\n",
       "      <th>6</th>\n",
       "      <td>2.3</td>\n",
       "      <td>9</td>\n",
       "      <td>1.2</td>\n",
       "      <td>Some string</td>\n",
       "      <td>21.9</td>\n",
       "      <td>13.1</td>\n",
       "      <td>None</td>\n",
       "    </tr>\n",
       "    <tr>\n",
       "      <th>7</th>\n",
       "      <td>2.3</td>\n",
       "      <td>9</td>\n",
       "      <td>1.6</td>\n",
       "      <td>Some string</td>\n",
       "      <td>22.3</td>\n",
       "      <td>16.7</td>\n",
       "      <td>None</td>\n",
       "    </tr>\n",
       "  </tbody>\n",
       "</table>\n",
       "</div>"
      ],
      "text/plain": [
       "   extra  SNR  bias         Name  res1  res2 runned_reps\n",
       "0    2.3    0   1.2  Some string   1.2   2.3        None\n",
       "1    2.3    0   1.6  Some string   1.6   2.3        None\n",
       "2    2.3    3   1.2  Some string   8.1   5.9        None\n",
       "3    2.3    3   1.6  Some string   8.5   7.1        None\n",
       "4    2.3    6   1.2  Some string  15.0   9.5        None\n",
       "5    2.3    6   1.6  Some string  15.4  11.9        None\n",
       "6    2.3    9   1.2  Some string  21.9  13.1        None\n",
       "7    2.3    9   1.6  Some string  22.3  16.7        None"
      ]
     },
     "execution_count": 3,
     "metadata": {},
     "output_type": "execute_result"
    }
   ],
   "source": [
    "sim_results.to_dataframe()"
   ]
  },
  {
   "cell_type": "code",
   "execution_count": 4,
   "metadata": {},
   "outputs": [
    {
     "name": "stdout",
     "output_type": "stream",
     "text": [
      "SimulationResults: ['res1', 'res2']\n"
     ]
    }
   ],
   "source": [
    "print(sim_results)"
   ]
  },
  {
   "cell_type": "code",
   "execution_count": 5,
   "metadata": {},
   "outputs": [
    {
     "data": {
      "text/plain": [
       "[Result -> res1: 1.2,\n",
       " Result -> res1: 1.6,\n",
       " Result -> res1: 8.1,\n",
       " Result -> res1: 8.5,\n",
       " Result -> res1: 14.999999999999998,\n",
       " Result -> res1: 15.399999999999999,\n",
       " Result -> res1: 21.9,\n",
       " Result -> res1: 22.3]"
      ]
     },
     "execution_count": 5,
     "metadata": {},
     "output_type": "execute_result"
    }
   ],
   "source": [
    "(sim_results[\"res1\"])"
   ]
  },
  {
   "cell_type": "code",
   "execution_count": 6,
   "metadata": {},
   "outputs": [],
   "source": [
    "# pbar = ProgressbarText(10)\n",
    "# pbar.start()\n",
    "# for i in range(1, 11):\n",
    "#     sleep(1)\n",
    "#     pbar.progress(i)\n",
    "#     print()\n",
    "#     print(f\"Elapsed time for {i} iterations: {pbar.elapsed_time}\")\n",
    "#     print(f\"Remaining time: {pretty_time(pbar.get_eta_in_seconds(i))}\")"
   ]
  },
  {
   "cell_type": "code",
   "execution_count": 7,
   "metadata": {},
   "outputs": [],
   "source": [
    "# print(pbar.elapsed_time)\n",
    "# print(pbar.get_eta_in_seconds(8))"
   ]
  },
  {
   "cell_type": "markdown",
   "metadata": {},
   "source": [
    "# DummyProgressbar"
   ]
  },
  {
   "cell_type": "code",
   "execution_count": 8,
   "metadata": {},
   "outputs": [
    {
     "name": "stdout",
     "output_type": "stream",
     "text": [
      "1.0966026782989502\n",
      "Time per iteration: 1.0966026782989502e-07\n"
     ]
    }
   ],
   "source": [
    "tic = time()\n",
    "num_iterations = 10000000\n",
    "pbar = DummyProgressbar(num_iterations)\n",
    "for i in range(1, num_iterations + 1):\n",
    "    pbar.progress(i)\n",
    "toc = time()\n",
    "elapsed_time = toc - tic\n",
    "print(elapsed_time)\n",
    "print(f\"Time per iteration: {elapsed_time/num_iterations}\")"
   ]
  },
  {
   "cell_type": "markdown",
   "metadata": {},
   "source": [
    "# ProgressbarText"
   ]
  },
  {
   "cell_type": "code",
   "execution_count": 9,
   "metadata": {},
   "outputs": [
    {
     "name": "stdout",
     "output_type": "stream",
     "text": [
      "------------ Running some simulation ------------1\n",
      "    1    2    3    4    5    6    7    8    9    0\n",
      "----0----0----0----0----0----0----0----0----0----0\n",
      "**************************************************\n",
      "Elapsed time:  2.33s\n",
      "Time per iteration: 4.664907932281494e-07\n"
     ]
    }
   ],
   "source": [
    "tic = time()\n",
    "num_iterations = 5000000\n",
    "pbar = ProgressbarText(num_iterations, message=\"Running some simulation\")\n",
    "for i in range(1, num_iterations + 1):\n",
    "    pbar.progress(i)\n",
    "toc = time()\n",
    "elapsed_time = toc - tic\n",
    "print(\"Elapsed time: \", pretty_time(elapsed_time))\n",
    "print(f\"Time per iteration: {elapsed_time/num_iterations}\")"
   ]
  },
  {
   "cell_type": "markdown",
   "metadata": {},
   "source": [
    "# ProgressbarText2"
   ]
  },
  {
   "cell_type": "code",
   "execution_count": 10,
   "metadata": {},
   "outputs": [
    {
     "name": "stdout",
     "output_type": "stream",
     "text": [
      "[**********************100%**********************]  100.00 6.92s 0.00s\n",
      "\n",
      "Elapsed time:  6.92s\n",
      "Time per iteration: 4.616387526194255e-07\n"
     ]
    }
   ],
   "source": [
    "tic = time()\n",
    "num_iterations = 15000000\n",
    "pbar = ProgressbarText2(num_iterations, message=\"{percent:.2f} {elapsed_time} {eta}\")\n",
    "for i in range(1, num_iterations + 1):\n",
    "    pbar.progress(i)\n",
    "toc = time()\n",
    "elapsed_time = toc - tic\n",
    "print()\n",
    "print(\"Elapsed time: \", pretty_time(elapsed_time))\n",
    "print(f\"Time per iteration: {elapsed_time/num_iterations}\")"
   ]
  },
  {
   "cell_type": "markdown",
   "metadata": {},
   "source": [
    "# ProgressbarText3"
   ]
  },
  {
   "cell_type": "code",
   "execution_count": 11,
   "metadata": {},
   "outputs": [
    {
     "name": "stdout",
     "output_type": "stream",
     "text": [
      "***************** 5000000/5000000 ****************\n",
      "Elapsed time:  2.25s\n",
      "Time per iteration: 4.5094685554504397e-07\n"
     ]
    }
   ],
   "source": [
    "tic = time()\n",
    "num_iterations = 5000000\n",
    "pbar = ProgressbarText3(num_iterations)\n",
    "for i in range(1, num_iterations + 1):\n",
    "    pbar.progress(i)\n",
    "toc = time()\n",
    "print()\n",
    "elapsed_time = toc - tic\n",
    "print(\"Elapsed time: \", pretty_time(elapsed_time))\n",
    "print(f\"Time per iteration: {elapsed_time/num_iterations}\")"
   ]
  },
  {
   "cell_type": "markdown",
   "metadata": {},
   "source": [
    "# ProgressBarIPython"
   ]
  },
  {
   "cell_type": "code",
   "execution_count": 12,
   "metadata": {},
   "outputs": [
    {
     "data": {
      "application/vnd.jupyter.widget-view+json": {
       "model_id": "ec56fe079e5044898f79460e5bfa13e2",
       "version_major": 2,
       "version_minor": 0
      },
      "text/plain": [
       "HBox(children=(FloatProgress(value=0.0), Label(value='')))"
      ]
     },
     "metadata": {},
     "output_type": "display_data"
    },
    {
     "name": "stdout",
     "output_type": "stream",
     "text": [
      "Elapsed time:  2.37s\n",
      "Time per iteration: 4.745389461517334e-07\n"
     ]
    }
   ],
   "source": [
    "tic = time()\n",
    "num_iterations = 5000000\n",
    "pbar = ProgressBarIPython(num_iterations)\n",
    "for i in range(1, num_iterations + 1):\n",
    "    pbar.progress(i)\n",
    "toc = time()\n",
    "elapsed_time = toc - tic\n",
    "print(\"Elapsed time: \", pretty_time(elapsed_time))\n",
    "print(f\"Time per iteration: {elapsed_time/num_iterations}\")"
   ]
  },
  {
   "cell_type": "markdown",
   "metadata": {},
   "source": [
    "# TQDM"
   ]
  },
  {
   "cell_type": "code",
   "execution_count": 13,
   "metadata": {},
   "outputs": [
    {
     "name": "stderr",
     "output_type": "stream",
     "text": [
      "100%|██████████| 5000000/5000000 [00:01<00:00, 2652476.96it/s]"
     ]
    },
    {
     "name": "stdout",
     "output_type": "stream",
     "text": [
      "Elapsed time:  1.89s\n",
      "Time per iteration: 3.7746176719665527e-07\n"
     ]
    },
    {
     "name": "stderr",
     "output_type": "stream",
     "text": [
      "\n"
     ]
    }
   ],
   "source": [
    "tic = time()\n",
    "num_iterations = 5000000\n",
    "pbar = tqdm(total=num_iterations)\n",
    "for i in range(num_iterations):\n",
    "    pbar.update()\n",
    "pbar.close()\n",
    "\n",
    "toc = time()\n",
    "elapsed_time = toc - tic\n",
    "print(\"Elapsed time: \", pretty_time(elapsed_time))\n",
    "print(f\"Time per iteration: {elapsed_time/num_iterations}\")"
   ]
  },
  {
   "cell_type": "markdown",
   "metadata": {},
   "source": [
    "# ZMQ Progressbar"
   ]
  },
  {
   "cell_type": "code",
   "execution_count": 14,
   "metadata": {},
   "outputs": [],
   "source": [
    "from pyphysim.progressbar.progressbar import ProgressbarZMQClient, ProgressbarZMQServer\n",
    "from time import time, sleep\n",
    "from pyphysim.util.misc import pretty_time"
   ]
  },
  {
   "cell_type": "code",
   "execution_count": 15,
   "metadata": {},
   "outputs": [],
   "source": [
    "num_iterations = 5000000\n",
    "# num_iterations = 100\n",
    "\n",
    "server = ProgressbarZMQServer()\n",
    "\n",
    "c1 = server.register_client_and_get_proxy_progressbar(num_iterations)\n",
    "c2 = server.register_client_and_get_proxy_progressbar(num_iterations)\n",
    "\n",
    "server.start_updater()"
   ]
  },
  {
   "cell_type": "code",
   "execution_count": 16,
   "metadata": {},
   "outputs": [
    {
     "name": "stdout",
     "output_type": "stream",
     "text": [
      "[*********************  44%                      ]  Elapsed time:  2.25s\n",
      "Time per iteration: 4.5099935531616213e-07\n"
     ]
    }
   ],
   "source": [
    "tic = time()\n",
    "\n",
    "# c1 = ProgressbarZMQClient(0, 'localhost', 7396, num_iterations)\n",
    "for i in range(1, num_iterations + 1):\n",
    "    #     sleep(0.1)\n",
    "    c1.progress(i)\n",
    "toc = time()\n",
    "elapsed_time = toc - tic\n",
    "\n",
    "print(\"Elapsed time: \", pretty_time(elapsed_time))\n",
    "print(f\"Time per iteration: {elapsed_time/num_iterations}\")"
   ]
  },
  {
   "cell_type": "code",
   "execution_count": 17,
   "metadata": {},
   "outputs": [
    {
     "name": "stdout",
     "output_type": "stream",
     "text": [
      "[**********************100%**********************]  \n",
      "Elapsed time:  2.19s\n",
      "Time per iteration: 4.383201599121094e-07\n"
     ]
    }
   ],
   "source": [
    "tic = time()\n",
    "\n",
    "# c2 = ProgressbarZMQClient(0, 'localhost', 7396, num_iterations)\n",
    "for i in range(1, num_iterations + 1):\n",
    "    #     sleep(0.1)\n",
    "    c2.progress(i)\n",
    "toc = time()\n",
    "elapsed_time = toc - tic\n",
    "\n",
    "server.stop_updater()\n",
    "\n",
    "print(\"Elapsed time: \", pretty_time(elapsed_time))\n",
    "print(f\"Time per iteration: {elapsed_time/num_iterations}\")"
   ]
  },
  {
   "cell_type": "code",
   "execution_count": 18,
   "metadata": {},
   "outputs": [],
   "source": [
    "server.stop_updater()"
   ]
  },
  {
   "cell_type": "markdown",
   "metadata": {},
   "source": [
    "# Mulriprocess Progressbar"
   ]
  },
  {
   "cell_type": "code",
   "execution_count": 25,
   "metadata": {},
   "outputs": [],
   "source": [
    "from pyphysim.progressbar.progressbar import ProgressbarMultiProcessServer, ProgressbarMultiProcessClient\n",
    "from time import time, sleep\n",
    "from pyphysim.util.misc import pretty_time"
   ]
  },
  {
   "cell_type": "code",
   "execution_count": 38,
   "metadata": {},
   "outputs": [],
   "source": [
    "num_iterations = 10000000\n",
    "# num_iterations = 100\n",
    "\n",
    "server = ProgressbarMultiProcessServer(message=\"{percent}% - Elapsed time: {elapsed_time}, ETA: {eta} \")\n",
    "\n",
    "c1 = server.register_client_and_get_proxy_progressbar(num_iterations)\n",
    "c2 = server.register_client_and_get_proxy_progressbar(num_iterations)\n",
    "\n",
    "server.start_updater()"
   ]
  },
  {
   "cell_type": "code",
   "execution_count": 39,
   "metadata": {},
   "outputs": [
    {
     "name": "stdout",
     "output_type": "stream",
     "text": [
      "[********************** 47%                      ]  47.356215% - Elapsed time: 4.33s, ETA: 4.81s A: 6.19s Elapsed time:  4.33s\n",
      "Time per iteration: 4.329408407211304e-07\n"
     ]
    }
   ],
   "source": [
    "tic = time()\n",
    "\n",
    "# c1 = ProgressbarZMQClient(0, 'localhost', 7396, num_iterations)\n",
    "for i in range(1, num_iterations + 1):\n",
    "    #     sleep(0.1)\n",
    "    c2.progress(i)\n",
    "toc = time()\n",
    "elapsed_time = toc - tic\n",
    "\n",
    "print(\"Elapsed time: \", pretty_time(elapsed_time))\n",
    "print(f\"Time per iteration: {elapsed_time/num_iterations}\")"
   ]
  },
  {
   "cell_type": "code",
   "execution_count": 40,
   "metadata": {},
   "outputs": [
    {
     "name": "stdout",
     "output_type": "stream",
     "text": [
      "[***********************50%                      ]  50.0% - Elapsed time: 5.42s, ETA: 5.42s \n",
      "Elapsed time:  1.33s\n",
      "Time per iteration: 1.3264193534851073e-07\n"
     ]
    }
   ],
   "source": [
    "tic = time()\n",
    "\n",
    "# c1 = ProgressbarZMQClient(0, 'localhost', 7396, num_iterations)\n",
    "for i in range(1, num_iterations + 1):\n",
    "    #     sleep(0.1)\n",
    "    c2.progress(i)\n",
    "toc = time()\n",
    "elapsed_time = toc - tic\n",
    "\n",
    "print()\n",
    "print(\"Elapsed time: \", pretty_time(elapsed_time))\n",
    "print(f\"Time per iteration: {elapsed_time/num_iterations}\")"
   ]
  },
  {
   "cell_type": "code",
   "execution_count": 41,
   "metadata": {},
   "outputs": [
    {
     "name": "stdout",
     "output_type": "stream",
     "text": [
      "[**********************100%**********************]  100.0% - Elapsed time: 6.45s, ETA: 0.00s \n"
     ]
    }
   ],
   "source": [
    "server.stop_updater()"
   ]
  },
  {
   "cell_type": "code",
   "execution_count": null,
   "metadata": {},
   "outputs": [],
   "source": []
  },
  {
   "cell_type": "code",
   "execution_count": null,
   "metadata": {},
   "outputs": [],
   "source": []
  }
 ],
 "metadata": {
  "kernelspec": {
   "display_name": "Python 3",
   "language": "python",
   "name": "python3"
  },
  "language_info": {
   "codemirror_mode": {
    "name": "ipython",
    "version": 3
   },
   "file_extension": ".py",
   "mimetype": "text/x-python",
   "name": "python",
   "nbconvert_exporter": "python",
   "pygments_lexer": "ipython3",
   "version": "3.8.5"
  }
 },
 "nbformat": 4,
 "nbformat_minor": 4
}
