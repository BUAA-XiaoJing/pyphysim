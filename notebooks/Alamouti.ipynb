{
 "cells": [
  {
   "cell_type": "markdown",
   "metadata": {},
   "source": [
    "# Alamouti Space-time block code"
   ]
  },
  {
   "cell_type": "markdown",
   "metadata": {},
   "source": [
    "This notebook illustrates the simulation of an Alamouti MIMO scheme transmission through a flat fading Rayleight channel.\n",
    "\n",
    "It also illustrates how to read configuration from a config file.\n",
    "\n",
    "We simulate the Alamouti STBC with a 16-QAM modulation, as well as BPSK modulation."
   ]
  },
  {
   "cell_type": "markdown",
   "metadata": {},
   "source": [
    "## Initializations"
   ]
  },
  {
   "cell_type": "code",
   "execution_count": 24,
   "metadata": {
    "collapsed": false,
    "jupyter": {
     "outputs_hidden": false
    }
   },
   "outputs": [],
   "source": [
    "%matplotlib inline\n",
    "import numpy as np\n",
    "from IPython.display import clear_output\n",
    "from matplotlib import pyplot as plt"
   ]
  },
  {
   "cell_type": "markdown",
   "metadata": {},
   "source": [
    "Because there is already an Alamouti simulator implemented in the \"apps\" folder of pyphysim, we simple import it here and set the desired simulation parameters. You should inspect the `apps/mimo/simulate_mimo.py` file for more, including reading parameters from a configuration file."
   ]
  },
  {
   "cell_type": "code",
   "execution_count": 25,
   "metadata": {
    "collapsed": false,
    "jupyter": {
     "outputs_hidden": false
    }
   },
   "outputs": [],
   "source": [
    "from pyphysim.modulators.fundamental import BPSK, QAM\n",
    "from apps.mimo.simulate_mimo import AlamoutiSimulationRunner, plot_ber, plot_ser, plot_ber_and_ser"
   ]
  },
  {
   "cell_type": "markdown",
   "metadata": {},
   "source": [
    "## Simulation of Alamouti with 16-QAM"
   ]
  },
  {
   "cell_type": "markdown",
   "metadata": {},
   "source": [
    "First we create the SimulationRunner objects. Note that the actual simulator is already implemented as an application in PyPhysim and we are only setting the parameters here."
   ]
  },
  {
   "cell_type": "code",
   "execution_count": 26,
   "metadata": {
    "collapsed": false,
    "jupyter": {
     "outputs_hidden": false
    }
   },
   "outputs": [],
   "source": [
    "sim = AlamoutiSimulationRunner('mimo_alamouti_config_file.txt', read_command_line_args=False)\n",
    "sim.NSymbs = 300\n",
    "sim.rep_max = 10000\n",
    "sim.params.add('SNR', np.linspace(0, 25, 11))\n",
    "sim.modulator = QAM(16)\n",
    "sim.Nr=1\n",
    "sim.update_progress_function_style = 'ipython'\n",
    "sim.progressbar_message = 'Simulating for SNR {SNR}'\n",
    "# max_bit_errors is used in the _keep_going method to stop the\n",
    "# simulation earlier if possible. We stop the simulation if the\n",
    "# accumulated number of bit errors becomes greater then 0.1% of the\n",
    "# total number of simulated bits\n",
    "sim.max_bit_errors = sim.rep_max * sim.NSymbs * 0.01\n",
    "sim.clear()\n",
    "\n",
    "sim2 = AlamoutiSimulationRunner('mimo_alamouti_config_file.txt', read_command_line_args=False)\n",
    "sim2.NSymbs = 300\n",
    "sim2.rep_max = 10000\n",
    "sim2.params.add('SNR', np.linspace(0, 25, 11))\n",
    "sim2.modulator = QAM(16)\n",
    "sim2.Nr=2\n",
    "sim2.update_progress_function_style = 'ipython'\n",
    "sim2.progressbar_message = 'Simulating for SNR {SNR}'\n",
    "sim2.max_bit_errors = sim2.rep_max * sim2.NSymbs * 0.01\n",
    "sim2.clear()"
   ]
  },
  {
   "cell_type": "code",
   "execution_count": 27,
   "metadata": {
    "collapsed": false,
    "jupyter": {
     "outputs_hidden": false
    }
   },
   "outputs": [
    {
     "name": "stdout",
     "output_type": "stream",
     "text": [
      "{'SNR*': [ 0.   2.5  5.   7.5 10.  12.5 15.  17.5 20.  22.5 25. ], 'M': 16, 'modulator': QAM, 'NSymbs': 200, 'Nr': 1, 'Nt': 2, 'rep_max': 5000, 'max_bit_errors': 5000, 'unpacked_parameters': ['SNR']}\n",
      "{'SNR*': [ 0.   2.5  5.   7.5 10.  12.5 15.  17.5 20.  22.5 25. ], 'M': 16, 'modulator': QAM, 'NSymbs': 200, 'Nr': 1, 'Nt': 2, 'rep_max': 5000, 'max_bit_errors': 5000, 'unpacked_parameters': ['SNR']}\n"
     ]
    }
   ],
   "source": [
    "print(sim.params)\n",
    "print(sim2.params)"
   ]
  },
  {
   "cell_type": "markdown",
   "metadata": {},
   "source": [
    "During the simulation, we are only interested in the progressbar output for simulation of the current parameters. Therefore, lets set the _on_simulate_current_params_finish method of the SimulationRunner objects to a function that erases all the output from the cell."
   ]
  },
  {
   "cell_type": "code",
   "execution_count": 28,
   "metadata": {
    "collapsed": false,
    "jupyter": {
     "outputs_hidden": false
    }
   },
   "outputs": [],
   "source": [
    "def clear_ipython_output(dummy1, dummy2=None):\n",
    "    clear_output()\n",
    "\n",
    "# Lets create a custom method to clear the output after the simulation of each combination of parameters\n",
    "sim._on_simulate_current_params_finish = clear_ipython_output\n",
    "sim2._on_simulate_current_params_finish = clear_ipython_output"
   ]
  },
  {
   "cell_type": "markdown",
   "metadata": {},
   "source": [
    "Now we can run the simulations.\n",
    "\n",
    "First we run the simulations for **NRx=1** with **16-QAM** modulation"
   ]
  },
  {
   "cell_type": "code",
   "execution_count": 29,
   "metadata": {
    "collapsed": false,
    "jupyter": {
     "outputs_hidden": false
    }
   },
   "outputs": [
    {
     "name": "stdout",
     "output_type": "stream",
     "text": [
      "Elapsed Time for simulation 1: 1m:19s\n"
     ]
    }
   ],
   "source": [
    "sim.simulate()\n",
    "clear_output()\n",
    "print(\"Elapsed Time for simulation 1: {0}\".format(sim.elapsed_time))"
   ]
  },
  {
   "cell_type": "markdown",
   "metadata": {},
   "source": [
    "and then we run the simulations for **NRx=2** with **16-QAM** modulation."
   ]
  },
  {
   "cell_type": "code",
   "execution_count": 30,
   "metadata": {
    "collapsed": false,
    "jupyter": {
     "outputs_hidden": false
    }
   },
   "outputs": [
    {
     "name": "stdout",
     "output_type": "stream",
     "text": [
      "Elapsed Time for simulation 2: 1m:21s\n"
     ]
    }
   ],
   "source": [
    "sim2.simulate()\n",
    "clear_output()\n",
    "print(\"Elapsed Time for simulation 2: {0}\".format(sim2.elapsed_time))"
   ]
  },
  {
   "cell_type": "markdown",
   "metadata": {},
   "source": [
    "### Plot the Results"
   ]
  },
  {
   "cell_type": "code",
   "execution_count": 31,
   "metadata": {
    "collapsed": false,
    "jupyter": {
     "outputs_hidden": false
    }
   },
   "outputs": [
    {
     "data": {
      "image/png": "[encoded data removed]",
      "text/plain": [
       "<Figure size 576x432 with 1 Axes>"
      ]
     },
     "metadata": {
      "needs_background": "light"
     },
     "output_type": "display_data"
    }
   ],
   "source": [
    "SNR = np.array(sim.results.params['SNR'])\n",
    "ber = sim.results.get_result_values_list('ber')\n",
    "ser = sim.results.get_result_values_list('ser')\n",
    "\n",
    "fig, ax = plt.subplots(figsize=(8,6))\n",
    "ax.semilogy(SNR, ber, '-k*', label='NTx=2, NRx=1')\n",
    "\n",
    "ber2 = sim2.results.get_result_values_list('ber')\n",
    "ser2 = sim2.results.get_result_values_list('ser')\n",
    "ax.semilogy(SNR, ber2, '-m*', label='NTx=2, NRx=2')\n",
    "\n",
    "ax.set_xlabel('SNR')\n",
    "ax.set_ylabel('Error')\n",
    "ax.set_title('BER for QAM modulation with Alamouti (Rayleight channel)'.format(sim.modulator.name))\n",
    "ax.legend()\n",
    "\n",
    "#grid(True, which='both', axis='both')\n",
    "ax.grid()\n",
    "# fig.show()"
   ]
  },
  {
   "cell_type": "markdown",
   "metadata": {},
   "source": [
    "----------------------------"
   ]
  },
  {
   "cell_type": "markdown",
   "metadata": {},
   "source": [
    "## Simulation of Alamouti with BPSK"
   ]
  },
  {
   "cell_type": "markdown",
   "metadata": {},
   "source": [
    "Now lets repeat the simulation, but for BPSK modulation.\n",
    "We can use the same SimulationRunner objects and only change the modulator, but we also need to call the \"clear\" method in both objects toerase results from the previous simulation."
   ]
  },
  {
   "cell_type": "code",
   "execution_count": 32,
   "metadata": {
    "collapsed": false,
    "jupyter": {
     "outputs_hidden": false
    }
   },
   "outputs": [],
   "source": [
    "sim.modulator = BPSK()\n",
    "sim2.modulator = BPSK()\n",
    "\n",
    "sim.clear()   # Erase results from the previous simulation with 16-QAM\n",
    "sim2.clear()  # Erase results from the previous simulation with 16-QAM"
   ]
  },
  {
   "cell_type": "markdown",
   "metadata": {},
   "source": [
    "Now we can run the simulations.\n",
    "\n",
    "First we run the simulations for **NRx=1** with **BPSK** modulation"
   ]
  },
  {
   "cell_type": "code",
   "execution_count": 33,
   "metadata": {
    "collapsed": false,
    "jupyter": {
     "outputs_hidden": false
    }
   },
   "outputs": [
    {
     "name": "stdout",
     "output_type": "stream",
     "text": [
      "Elapsed Time for simulation 1: 4m:27s\n"
     ]
    }
   ],
   "source": [
    "sim.simulate()\n",
    "clear_output()\n",
    "print(\"Elapsed Time for simulation 1: {0}\".format(sim.elapsed_time))"
   ]
  },
  {
   "cell_type": "markdown",
   "metadata": {},
   "source": [
    "and then we run the simulations for **NRx=2** with **BPSK** modulation."
   ]
  },
  {
   "cell_type": "code",
   "execution_count": 34,
   "metadata": {
    "collapsed": false,
    "jupyter": {
     "outputs_hidden": false
    }
   },
   "outputs": [
    {
     "name": "stdout",
     "output_type": "stream",
     "text": [
      "Elapsed Time for simulation 2: 4m:43s\n"
     ]
    }
   ],
   "source": [
    "sim2.simulate()\n",
    "clear_output()\n",
    "print(\"Elapsed Time for simulation 2: {0}\".format(sim2.elapsed_time))"
   ]
  },
  {
   "cell_type": "markdown",
   "metadata": {},
   "source": [
    "### Plot the Results"
   ]
  },
  {
   "cell_type": "code",
   "execution_count": 35,
   "metadata": {
    "collapsed": false,
    "jupyter": {
     "outputs_hidden": false
    }
   },
   "outputs": [
    {
     "data": {
      "image/png": "[encoded data removed]",
      "text/plain": [
       "<Figure size 576x432 with 1 Axes>"
      ]
     },
     "metadata": {
      "needs_background": "light"
     },
     "output_type": "display_data"
    }
   ],
   "source": [
    "SNR = np.array(sim.results.params['SNR'])\n",
    "ber = sim.results.get_result_values_list('ber')\n",
    "ser = sim.results.get_result_values_list('ser')\n",
    "len(SNR)\n",
    "\n",
    "fig2, ax2 = plt.subplots(figsize=(8,6))\n",
    "ax2.semilogy(SNR, ber, '-k*', label='NTx=2, NRx=1')\n",
    "\n",
    "ber2 = sim2.results.get_result_values_list('ber')\n",
    "ser2 = sim2.results.get_result_values_list('ser')\n",
    "ax2.semilogy(SNR, ber2, '-m*', label='NTx=2, NRx=2')\n",
    "\n",
    "ax2.set_xlabel('SNR')\n",
    "ax2.set_ylabel('Error')\n",
    "ax2.set_title('BER for BPSK modulation with Alamouti (Rayleight channel)'.format(sim.modulator.name))\n",
    "ax2.legend()\n",
    "\n",
    "#grid(True, which='both', axis='both')\n",
    "ax2.grid()\n",
    "# fig.show()"
   ]
  }
 ],
 "metadata": {
  "kernelspec": {
   "display_name": "Python 3",
   "language": "python",
   "name": "python3"
  },
  "language_info": {
   "codemirror_mode": {
    "name": "ipython",
    "version": 3
   },
   "file_extension": ".py",
   "mimetype": "text/x-python",
   "name": "python",
   "nbconvert_exporter": "python",
   "pygments_lexer": "ipython3",
   "version": "3.8.3"
  },
  "toc-autonumbering": true
 },
 "nbformat": 4,
 "nbformat_minor": 4
}
