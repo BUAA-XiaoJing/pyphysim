{
 "cells": [
  {
   "cell_type": "markdown",
   "metadata": {},
   "source": [
    "# Simulating transmission with Rayleigh and AWGN channels and different constellation sizes"
   ]
  },
  {
   "cell_type": "markdown",
   "metadata": {},
   "source": [
    "This notebook illustrates how to perform a simulation of a transmission through Rayleigh channel using different modulations. \n",
    "\n",
    "This is a modification of the [Transmission_with_AWGN_channel](Transmission_with_AWGN_channel.ipynb) notebook."
   ]
  },
  {
   "cell_type": "code",
   "execution_count": 1,
   "metadata": {},
   "outputs": [],
   "source": [
    "%matplotlib inline\n",
    "\n",
    "import math\n",
    "\n",
    "import numpy as np\n",
    "from matplotlib import pyplot as plt\n",
    "\n",
    "from pyphysim.modulators.fundamental import BPSK, QAM, Modulator\n",
    "from pyphysim.simulations import Result, SimulationResults, SimulationRunner\n",
    "from pyphysim.util.conversion import dB2Linear, linear2dB\n",
    "from pyphysim.util.misc import pretty_time, randn_c, count_bit_errors\n",
    "\n",
    "np.set_printoptions(precision=2, linewidth=120)"
   ]
  },
  {
   "cell_type": "markdown",
   "metadata": {},
   "source": [
    "# Visualize the constellation"
   ]
  },
  {
   "cell_type": "markdown",
   "metadata": {},
   "source": [
    "First let's visualize the different constellations that will be employed.\n",
    "\n",
    "For $M=2$, BPSK modulation will be used, with symbols being $-1$ and $1$. For other sizes QAM modulation will be used."
   ]
  },
  {
   "cell_type": "code",
   "execution_count": 2,
   "metadata": {},
   "outputs": [
    {
     "data": {
      "image/png": "[encoded data removed]",
      "text/plain": [
       "<Figure size 288x288 with 1 Axes>"
      ]
     },
     "metadata": {
      "needs_background": "light"
     },
     "output_type": "display_data"
    },
    {
     "data": {
      "image/png": "[encoded data removed]",
      "text/plain": [
       "<Figure size 576x576 with 4 Axes>"
      ]
     },
     "metadata": {
      "needs_background": "light"
     },
     "output_type": "display_data"
    }
   ],
   "source": [
    "bpsk = BPSK()\n",
    "qam4 = QAM(4)\n",
    "qam16 = QAM(16)\n",
    "qam64 = QAM(64)\n",
    "qam256 = QAM(256)\n",
    "\n",
    "fig_bpsk, ax_bpsk = plt.subplots(figsize=(4, 4))\n",
    "ax_bpsk.set_title(\"BPSK\")\n",
    "ax_bpsk.plot(bpsk.symbols.real, bpsk.symbols.imag, \"*r\", label=\"4-QAM\")\n",
    "ax_bpsk.axis(\"equal\")\n",
    "\n",
    "fig, [[ax11, ax12], [ax21, ax22]] = plt.subplots(figsize=(8, 8),\n",
    "                                                 nrows=2,\n",
    "                                                 ncols=2)\n",
    "\n",
    "ax11.set_title(\"4-QAM\")\n",
    "ax11.plot(qam4.symbols.real, qam4.symbols.imag, \"*r\", label=\"4-QAM\")\n",
    "ax11.axis(\"equal\")\n",
    "\n",
    "ax12.set_title(\"16-QAM\")\n",
    "ax12.plot(qam16.symbols.real, qam16.symbols.imag, \"*r\", label=\"16-QPSK\")\n",
    "ax12.axis(\"equal\")\n",
    "\n",
    "ax21.set_title(\"64-QAM\")\n",
    "ax21.plot(qam64.symbols.real, qam64.symbols.imag, \"*r\", label=\"64-QAM\")\n",
    "ax21.axis(\"equal\")\n",
    "\n",
    "ax22.set_title(\"256-QAM\")\n",
    "ax22.plot(qam256.symbols.real, qam256.symbols.imag, \"*r\", label=\"256-QAM\")\n",
    "ax22.axis(\"equal\");"
   ]
  },
  {
   "cell_type": "markdown",
   "metadata": {},
   "source": [
    "# Implement a simulator"
   ]
  },
  {
   "cell_type": "markdown",
   "metadata": {},
   "source": [
    "In this notebook we will use the `run_in_parallel` method to run the simulation, which **requires our simulator to be importable** (the reason is that it needs to work with pickle, which is not possible if the class is define interactively in the notebook). For that, we add the code in the cell below and used the `%%writefile` cell magic to save the content of the cell to a file. The cell content is **NOT executed**. After that, we can import from the file."
   ]
  },
  {
   "cell_type": "code",
   "execution_count": 3,
   "metadata": {},
   "outputs": [
    {
     "name": "stdout",
     "output_type": "stream",
     "text": [
      "Overwriting rayleigh_qam_simulator.py\n"
     ]
    }
   ],
   "source": [
    "%%writefile rayleigh_qam_simulator.py\n",
    "\n",
    "import math\n",
    "\n",
    "import numpy as np\n",
    "\n",
    "from pyphysim.modulators.fundamental import BPSK, QAM, Modulator\n",
    "from pyphysim.simulations import Result, SimulationResults, SimulationRunner\n",
    "from pyphysim.util.conversion import dB2Linear\n",
    "from pyphysim.util.misc import randn_c, count_bit_errors\n",
    "\n",
    "\n",
    "class RayleighOrAwgnSimulator(SimulationRunner):\n",
    "\n",
    "    def __init__(self, SINR_dB_values, simulate_with_rayleigh=False):\n",
    "        # If simulate_with_rayleigh is false only AWGN is used\n",
    "        super().__init__()\n",
    "\n",
    "        self._simulate_with_rayleigh = simulate_with_rayleigh\n",
    "\n",
    "        # Add the simulation parameters to the `params` attribute.\n",
    "        self.params.add('EbN0_db', SINR_dB_values)\n",
    "        self.params.set_unpack_parameter('EbN0_db')\n",
    "\n",
    "        # Note that when M=2 BPSK modulation will be used, while other values will use QAM\n",
    "        self.params.add(\"M\", [2, 4, 16, 64, 256])\n",
    "        self.params.set_unpack_parameter('M')\n",
    "\n",
    "        # Number of times the `_run_simulation` method will run when `simulate` method is called.\n",
    "        # We are using a value 100 times larger than before, but the simulation will not take\n",
    "        # 100 times the previous elapsed time to finish thanks to the implementation of the\n",
    "        # `_keep_going` method that will allow us to skip many of these iterations for low EbN0 values\n",
    "        self.rep_max = 50000\n",
    "\n",
    "        # Number of symbols generated for this realization\n",
    "        self.num_symbols = 1000\n",
    "\n",
    "        # Used in the implementation of `_keep_going` method. This is the maximum numbers of symbol\n",
    "        # errors we allow before `_run_simulation` is stoped for a given configuration\n",
    "        self.max_symbol_errors = 1. / 300. * self.num_symbols * self.rep_max\n",
    "\n",
    "        # Set a nice message for the progressbar\n",
    "        self.progressbar_message = f\"Simulating for {self.params.get_num_unpacked_variations()} configurations\"\n",
    "\n",
    "        self.update_progress_function_style = \"text1\"  # \"ipython\"\n",
    "\n",
    "    def _keep_going(self, current_params, current_sim_results, current_rep):\n",
    "        # Note that we have added a \"symbol_errors\" result in `_run_simulation` to use here\n",
    "\n",
    "        # Get the last value in the \"symbol_errors\" results list, which corresponds to the current configuration\n",
    "        cumulated_symbol_errors \\\n",
    "            = current_sim_results['symbol_errors'][-1].get_result()\n",
    "        return cumulated_symbol_errors < self.max_symbol_errors\n",
    "\n",
    "    def _run_simulation(self, current_parameters):\n",
    "        # Since EbN0_db is an \"unpacked parameter\" a single value is passed to `_run_simulation`.\n",
    "        # We can get the current value as below\n",
    "        sinr_dB = current_parameters['EbN0_db']\n",
    "        M = current_parameters['M']\n",
    "\n",
    "        modulator = BPSK() if M == 2 else QAM(M)\n",
    "\n",
    "        # Find the noise power from the EbN0 value (in dB)\n",
    "        EbN0_linear = dB2Linear(sinr_dB)\n",
    "        snr_linear = EbN0_linear * math.log2(M)\n",
    "        noise_power = 1 / snr_linear\n",
    "\n",
    "        # Generate random transmit data and modulate it\n",
    "        data = np.random.randint(0, modulator.M, size=self.num_symbols)\n",
    "        modulated_data = modulator.modulate(data)\n",
    "\n",
    "        # Noise vector\n",
    "        n = math.sqrt(noise_power) * randn_c(self.num_symbols)\n",
    "\n",
    "        if self._simulate_with_rayleigh:\n",
    "            # Rayleigh channel\n",
    "            h = randn_c(modulated_data.size)\n",
    "\n",
    "            # Receive the corrupted data\n",
    "            received_data = h * modulated_data + n\n",
    "\n",
    "            # Equalization\n",
    "            received_data /= h\n",
    "\n",
    "        else:\n",
    "            # Receive the corrupted data\n",
    "            received_data = modulated_data + n\n",
    "\n",
    "        # Demodulate the received data and compute the number of symbol errors\n",
    "        demodulated_data = modulator.demodulate(received_data)\n",
    "        symbol_errors = sum(demodulated_data != data)\n",
    "\n",
    "        num_bit_errors = count_bit_errors(data, demodulated_data)\n",
    "\n",
    "        # Create a SimulationResults object and save the symbol error rate.\n",
    "        # Note that the symbol error rate is given by the number of symbol errors divided by the number of\n",
    "        # transmited symbols. We want to combine the symbol error rate for the many calls of `_run_simulation`.\n",
    "        # Thus, we choose `Result.RATIOTYPE` as the \"update_type\". See the documentation of the `Result` class\n",
    "        # for more about it.\n",
    "        simResults = SimulationResults()\n",
    "        simResults.add_new_result(\"symbol_error_rate\",\n",
    "                                  Result.RATIOTYPE,\n",
    "                                  value=symbol_errors,\n",
    "                                  total=self.num_symbols)\n",
    "        simResults.add_new_result(\"symbol_errors\",\n",
    "                                  Result.SUMTYPE,\n",
    "                                  value=symbol_errors)\n",
    "        simResults.add_new_result(\"num_bit_errors\",\n",
    "                                  Result.SUMTYPE,\n",
    "                                  value=num_bit_errors)\n",
    "        simResults.add_new_result(\"bit_error_rate\",\n",
    "                                  Result.RATIOTYPE,\n",
    "                                  value=num_bit_errors,\n",
    "                                  total=int(np.log2(modulator.M)) * data.size)\n",
    "        return simResults"
   ]
  },
  {
   "cell_type": "markdown",
   "metadata": {},
   "source": [
    "# Running the simulation\n",
    "\n",
    "Now we import the simulator with the line below"
   ]
  },
  {
   "cell_type": "code",
   "execution_count": 4,
   "metadata": {},
   "outputs": [],
   "source": [
    "from rayleigh_qam_simulator import RayleighOrAwgnSimulator"
   ]
  },
  {
   "cell_type": "markdown",
   "metadata": {},
   "source": [
    "The parallel computation os powered by the `ipyparallel` library. Before you can run the simulation in parallel you must start the ipython cluster and engines. This can be done by running the `ipcluster start` command in a separated terminal.\n",
    "\n",
    "After that, in our python code we can import from the `ipyparallel` library and create a `Client`. From the client we get a \"view\" of the engines that can be used to run code in parallel. This view is passed to the `simulate_in_parallel` method of our simulator.\n",
    "\n",
    "The code below illustrates how to create a client and how to get a view. Note that each engine corresponds to a different python process (possible running in a different machine) and the working directory in the engines is where the cluster was started and not necessarelly our working directory. Assuming you started the engines in a shell with the virtual environment with pyphysim installed everything in pyphysim should be importable in the engines. However, code in the same folder of this notebook might not be importable in the engines. To solve that we add the current directory of this notebook in each engine's path."
   ]
  },
  {
   "cell_type": "code",
   "execution_count": 5,
   "metadata": {},
   "outputs": [],
   "source": [
    "from ipyparallel import Client\n",
    "import sys\n",
    "import os\n",
    "\n",
    "c = Client()\n",
    "# Get a \"direct view\" -> we will use it to run some code in all engines before we start the simulation\n",
    "# Partucularly, we want to clear the engine's workspace and to append the current working directory to each engine's path\n",
    "dview = c.direct_view()  # Get a view of all engines in the cluster\n",
    "# This will execute the command in ALL engines\n",
    "dview.execute('%reset')\n",
    "dview.execute('import sys')\n",
    "dview.execute('sys.path.append(\"{0}\")'.format(os.getcwd()), block=True)\n",
    "\n",
    "# Get a load balanced view, which is the one we will pass to the `simulate_in_parallel` method.\n",
    "lview = c.load_balanced_view()"
   ]
  },
  {
   "cell_type": "markdown",
   "metadata": {},
   "source": [
    "Now we can run the simulation. Let's create an `RayleighSimulator` and call the `simulate_in_parallel` method."
   ]
  },
  {
   "cell_type": "code",
   "execution_count": 6,
   "metadata": {},
   "outputs": [
    {
     "name": "stdout",
     "output_type": "stream",
     "text": [
      "Simulation parameters: {'EbN0_db*': [-5.  0.  5. 10. 15. 20. 25. 30.], 'M*': [2, 4, 16, 64, 256]}\n",
      "-------- Simulating for 40 configurations -------1\n",
      "    1    2    3    4    5    6    7    8    9    0\n",
      "----0----0----0----0----0----0----0----0----0----0\n",
      "**************************************************\n",
      "5m:55s\n"
     ]
    }
   ],
   "source": [
    "EbN0_db_rayleigh = np.linspace(-5, 30, 8)\n",
    "\n",
    "runner_rayleigh = RayleighOrAwgnSimulator(EbN0_db_rayleigh,\n",
    "                                          simulate_with_rayleigh=True)\n",
    "runner_rayleigh.set_results_filename(\"qam_rayleigh\")\n",
    "print(\"Simulation parameters:\", runner_rayleigh.params)\n",
    "\n",
    "runner_rayleigh.simulate_in_parallel(lview)\n",
    "# runner_rayleigh.simulate()\n",
    "print(runner_rayleigh.elapsed_time)"
   ]
  },
  {
   "cell_type": "markdown",
   "metadata": {},
   "source": [
    "Now let's simulate transmission in an AWGN channel. However, this time we will not pass an ipyparallel view. If a view is not passed, then one will be created inside the `simulate_in_parallel` method for us like the one we have previously defined. Usually that is enough, but it is useful to know how to pass a view manually as before if, for instance, you want to use a different profile (we have not specified one when we created the client and the default profile was used) or when you want a view that does not include all started engines."
   ]
  },
  {
   "cell_type": "code",
   "execution_count": null,
   "metadata": {},
   "outputs": [
    {
     "name": "stdout",
     "output_type": "stream",
     "text": [
      "Simulation parameters: {'EbN0_db*': [-5.  0.  5. 10. 15. 20. 25. 30.], 'M*': [2, 4, 16, 64, 256]}\n",
      "-------- Simulating for 40 configurations -------1\n",
      "    1    2    3    4    5    6    7    8    9    0\n",
      "----0----0----0----0----0----0----0----0----0----0\n",
      "************************************************  "
     ]
    }
   ],
   "source": [
    "EbN0_db_awgn = np.linspace(-5, 30, 8)\n",
    "\n",
    "runner_awgn = RayleighOrAwgnSimulator(EbN0_db_awgn,\n",
    "                                      simulate_with_rayleigh=False)\n",
    "runner_awgn.set_results_filename(\"qam_awgn\")\n",
    "print(\"Simulation parameters:\", runner_awgn.params)\n",
    "\n",
    "runner_awgn.simulate_in_parallel()\n",
    "# runner_awgn.simulate()\n",
    "print(runner_awgn.elapsed_time)"
   ]
  },
  {
   "cell_type": "markdown",
   "metadata": {},
   "source": [
    "# Visualizing the results\n",
    "\n",
    "To get the obtained results we can use the `runner.results.get_result_values_list` as before. However, since we have two parameters that were unpacked we will get the results of all possible combinations. We likely want to specify which subset we want. This can be done by passing the `fixed_params` argument to the `get_result_values_list` with a dictionary indicating the fixed values as below."
   ]
  },
  {
   "cell_type": "code",
   "execution_count": null,
   "metadata": {},
   "outputs": [],
   "source": [
    "symbol_error_rate_bpsk_rayleigh = runner_rayleigh.results.get_result_values_list(\n",
    "    \"symbol_error_rate\", fixed_params={\"M\": 2})\n",
    "symbol_error_rate_qam4_rayleigh = runner_rayleigh.results.get_result_values_list(\n",
    "    \"symbol_error_rate\", fixed_params={\"M\": 4})\n",
    "symbol_error_rate_qam16_rayleigh = runner_rayleigh.results.get_result_values_list(\n",
    "    \"symbol_error_rate\", fixed_params={\"M\": 16})\n",
    "symbol_error_rate_qam64_rayleigh = runner_rayleigh.results.get_result_values_list(\n",
    "    \"symbol_error_rate\", fixed_params={\"M\": 64})\n",
    "symbol_error_rate_qam256_rayleigh = runner_rayleigh.results.get_result_values_list(\n",
    "    \"symbol_error_rate\", fixed_params={\"M\": 256})\n",
    "\n",
    "print(\"Symbol Errors Rayleigh Channel (BPSK):\\n\",\n",
    "      symbol_error_rate_bpsk_rayleigh)\n",
    "print(\"Symbol Errors Rayleigh Channel (4-QAM):\\n\",\n",
    "      symbol_error_rate_qam4_rayleigh)\n",
    "print(\"Symbol Errors Rayleigh Channel (16-QAM):\\n\",\n",
    "      symbol_error_rate_qam16_rayleigh)\n",
    "print(\"Symbol Errors Rayleigh Channel (64-QAM):\\n\",\n",
    "      symbol_error_rate_qam64_rayleigh)\n",
    "print(\"Symbol Errors Rayleigh Channel (256-QAM):\\n\",\n",
    "      symbol_error_rate_qam256_rayleigh)\n",
    "\n",
    "symbol_error_rate_bpsk_awgn = runner_awgn.results.get_result_values_list(\n",
    "    \"symbol_error_rate\", fixed_params={\"M\": 2})\n",
    "symbol_error_rate_qam4_awgn = runner_awgn.results.get_result_values_list(\n",
    "    \"symbol_error_rate\", fixed_params={\"M\": 4})\n",
    "symbol_error_rate_qam16_awgn = runner_awgn.results.get_result_values_list(\n",
    "    \"symbol_error_rate\", fixed_params={\"M\": 16})\n",
    "symbol_error_rate_qam64_awgn = runner_awgn.results.get_result_values_list(\n",
    "    \"symbol_error_rate\", fixed_params={\"M\": 64})\n",
    "symbol_error_rate_qam256_awgn = runner_awgn.results.get_result_values_list(\n",
    "    \"symbol_error_rate\", fixed_params={\"M\": 256})\n",
    "\n",
    "print(\"Symbol Errors AWGN Channel (BPSK):\\n\", symbol_error_rate_qam4_awgn)\n",
    "print(\"Symbol Errors AWGN Channel (4-QAM):\\n\", symbol_error_rate_qam4_awgn)\n",
    "print(\"Symbol Errors AWGN Channel (16-QAM):\\n\", symbol_error_rate_qam16_awgn)\n",
    "print(\"Symbol Errors AWGN Channel (64-QAM):\\n\", symbol_error_rate_qam64_awgn)\n",
    "print(\"Symbol Errors AWGN Channel (256-QAM):\\n\", symbol_error_rate_qam256_awgn)"
   ]
  },
  {
   "cell_type": "markdown",
   "metadata": {},
   "source": [
    "Now we can finally see the plot and compare the simulated results with theoretical values."
   ]
  },
  {
   "cell_type": "code",
   "execution_count": null,
   "metadata": {},
   "outputs": [],
   "source": [
    "# Now let's plot the results\n",
    "fig, [ax1, ax2] = plt.subplots(figsize=(15, 6), ncols=2)\n",
    "\n",
    "ax1.semilogy(EbN0_db_rayleigh,\n",
    "             symbol_error_rate_bpsk_rayleigh,\n",
    "             \"-\",\n",
    "             color=\"red\",\n",
    "             label=\"BPSK Simulation\")\n",
    "ax1.semilogy(EbN0_db_rayleigh,\n",
    "             symbol_error_rate_qam4_rayleigh,\n",
    "             \"-\",\n",
    "             color=\"orange\",\n",
    "             label=\"4-QAM Simulation\")\n",
    "ax1.semilogy(EbN0_db_rayleigh,\n",
    "             symbol_error_rate_qam16_rayleigh,\n",
    "             \"-\",\n",
    "             color=\"blue\",\n",
    "             label=\"16-QAM Simulation\")\n",
    "ax1.semilogy(EbN0_db_rayleigh,\n",
    "             symbol_error_rate_qam64_rayleigh,\n",
    "             \"-\",\n",
    "             color=\"lightgreen\",\n",
    "             label=\"64-QAM Simulation\")\n",
    "ax1.semilogy(EbN0_db_rayleigh,\n",
    "             symbol_error_rate_qam256_rayleigh,\n",
    "             \"-\",\n",
    "             color=\"magenta\",\n",
    "             label=\"256-QAM Simulation\")\n",
    "# ax1.semilogy(EbN0_db, QAM(256).calcTheoreticalSER(EbN0_db), color=\"magenta\", label=\"M=256 Theory\")\n",
    "ax1.set_title(\"Symbol Error Rate (Rayleigh channel)\")\n",
    "ax1.set_ylabel(\"Symbol Error Rate\")\n",
    "ax1.set_xlabel(\"EbN0 (dB)\")\n",
    "ax1.grid(True, which=\"both\")\n",
    "ax1.set_ylim((1e-4, 1e0))\n",
    "ax1.legend()\n",
    "\n",
    "ax2.semilogy(EbN0_db_awgn,\n",
    "             symbol_error_rate_bpsk_awgn,\n",
    "             \"o\",\n",
    "             color=\"red\",\n",
    "             label=\"BPSK Simulation\")\n",
    "ax2.semilogy(EbN0_db_awgn,\n",
    "             BPSK().calcTheoreticalSER(EbN0_db_awgn),\n",
    "             color=\"red\",\n",
    "             label=\"BPSK Theory\")\n",
    "ax2.semilogy(EbN0_db_awgn,\n",
    "             symbol_error_rate_qam4_awgn,\n",
    "             \"o\",\n",
    "             color=\"orange\",\n",
    "             label=\"M=4 Simulation\")\n",
    "ax2.semilogy(EbN0_db_awgn,\n",
    "             QAM(4).calcTheoreticalSER(EbN0_db_awgn + linear2dB(2)),\n",
    "             color=\"orange\",\n",
    "             label=\"4-QAM Theory\")\n",
    "ax2.semilogy(EbN0_db_awgn,\n",
    "             symbol_error_rate_qam16_awgn,\n",
    "             \"o\",\n",
    "             color=\"blue\",\n",
    "             label=\"16-QAM Simulation\")\n",
    "ax2.semilogy(EbN0_db_awgn,\n",
    "             QAM(16).calcTheoreticalSER(EbN0_db_awgn + linear2dB(4)),\n",
    "             color=\"blue\",\n",
    "             label=\"16-QAM Theory\")\n",
    "ax2.semilogy(EbN0_db_awgn,\n",
    "             symbol_error_rate_qam64_awgn,\n",
    "             \"o\",\n",
    "             color=\"lightgreen\",\n",
    "             label=\"64-QAM Simulation\")\n",
    "ax2.semilogy(EbN0_db_awgn,\n",
    "             QAM(64).calcTheoreticalSER(EbN0_db_awgn + linear2dB(6)),\n",
    "             color=\"lightgreen\",\n",
    "             label=\"64-QAM Theory\")\n",
    "ax2.semilogy(EbN0_db_awgn,\n",
    "             symbol_error_rate_qam256_awgn,\n",
    "             \"o\",\n",
    "             color=\"magenta\",\n",
    "             label=\"256-QAM Simulation\")\n",
    "ax2.semilogy(EbN0_db_awgn,\n",
    "             QAM(256).calcTheoreticalSER(EbN0_db_awgn + linear2dB(8)),\n",
    "             color=\"magenta\",\n",
    "             label=\"256-QAM Theory\")\n",
    "ax2.set_title(\"Symbol Error Rate (AWGN channel)\")\n",
    "ax2.set_ylabel(\"Symbol Error Rate\")\n",
    "ax2.set_xlabel(\"EbN0 (dB)\")\n",
    "ax2.grid(True, which=\"both\")\n",
    "ax2.set_ylim((1e-5, 1e0))\n",
    "ax2.legend();"
   ]
  },
  {
   "cell_type": "markdown",
   "metadata": {},
   "source": [
    "The results matches the theoretical values pretty well for AWGN channel.\n",
    "\n",
    "See [this link for some derivations](http://www.dsplog.com/2012/01/01/symbol-error-rate-16qam-64qam-256qam/).\n"
   ]
  },
  {
   "cell_type": "code",
   "execution_count": null,
   "metadata": {},
   "outputs": [],
   "source": []
  }
 ],
 "metadata": {
  "kernelspec": {
   "display_name": "Python 3",
   "language": "python",
   "name": "python3"
  },
  "language_info": {
   "codemirror_mode": {
    "name": "ipython",
    "version": 3
   },
   "file_extension": ".py",
   "mimetype": "text/x-python",
   "name": "python",
   "nbconvert_exporter": "python",
   "pygments_lexer": "ipython3",
   "version": "3.8.3"
  },
  "toc-autonumbering": false,
  "toc-showmarkdowntxt": true
 },
 "nbformat": 4,
 "nbformat_minor": 4
}
