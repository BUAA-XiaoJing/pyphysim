{
 "cells": [
  {
   "cell_type": "markdown",
   "metadata": {},
   "source": [
    "# Display simulation progress\n",
    "\n",
    "This notebook illustrates the progressbar classes in pyphysim."
   ]
  },
  {
   "cell_type": "code",
   "execution_count": null,
   "metadata": {
    "collapsed": false,
    "jupyter": {
     "outputs_hidden": false
    }
   },
   "outputs": [],
   "source": [
    "from time import sleep\n",
    "\n",
    "import numpy as np\n",
    "from IPython.display import clear_output, display\n",
    "\n",
    "from pyphysim.progressbar.progressbar import *\n",
    "from pyphysim.simulations.results import *\n",
    "from pyphysim.simulations.runner import *"
   ]
  },
  {
   "cell_type": "markdown",
   "metadata": {},
   "source": [
    "## Text progressbars"
   ]
  },
  {
   "cell_type": "markdown",
   "metadata": {},
   "source": [
    "The `ProgressbarText` class is a simple text progressbar that **does not use \\r**. That is, the progressbar is not \"redraw\" at every iteration and instead it only print more characters to the output as the progress increases.\n",
    "It is particularly suitable if you want to save the progress to a file, instead of showing in a terminal (you can pass a file as the `output` argument of the `__init__` method)."
   ]
  },
  {
   "cell_type": "code",
   "execution_count": null,
   "metadata": {},
   "outputs": [],
   "source": [
    "rep_max = 20\n",
    "message = \"Running some long computation\"\n",
    "pbar = ProgressbarText(rep_max, message=message)\n",
    "# You can change the width of the progressbar, but only before the first time it is used.\n",
    "# Furthermore, the value is the highest myultiple of 10 which is lower than or equal to \n",
    "# the requested width.\n",
    "pbar.width = 65  # with 65 the actual width will be 60 characters\n",
    "\n",
    "for i in range(rep_max + 1):\n",
    "    sleep(0.1)\n",
    "    pbar.progress(i)"
   ]
  },
  {
   "cell_type": "markdown",
   "metadata": {},
   "source": [
    "The `ProgressbarText2` class redraws the whole progressbar as progress changes. You can, for instance, change the message that is shown as progress changes.\n",
    "It also allow changing the width of the progressbar (even after it has started, but you should not decrease it)."
   ]
  },
  {
   "cell_type": "code",
   "execution_count": null,
   "metadata": {},
   "outputs": [],
   "source": [
    "pbar = ProgressbarText2(rep_max, message=message)\n",
    "pbar.width = 60  # Notice that this width does not include the message in the side\n",
    "\n",
    "for i in range(1, rep_max + 1):\n",
    "    if i == 10:\n",
    "        pbar.width = 80\n",
    "    pbar.message = f\"Elapsed time: {pbar.elapsed_time}\"\n",
    "    sleep(0.1)\n",
    "    pbar.progress(i)\n",
    "    \n",
    "# This does not update the message because once 100% progress is reached the progressbar stops updating\n",
    "pbar.message = \"Finished\""
   ]
  },
  {
   "cell_type": "markdown",
   "metadata": {},
   "source": [
    "If you want to display a long message you might prefer the `ProgressbarText3` class. The message is shown in the middle of the progressbar and thus you have more space to increase the size of the progressbar."
   ]
  },
  {
   "cell_type": "code",
   "execution_count": null,
   "metadata": {},
   "outputs": [],
   "source": [
    "pbar = ProgressbarText3(rep_max)\n",
    "pbar.width = 80\n",
    "\n",
    "for i in range(rep_max + 1):\n",
    "    pbar.message = f\"Running some long computation - Elapsed time: {pbar.elapsed_time} - \"\n",
    "    sleep(0.1)\n",
    "    pbar.progress(i)"
   ]
  },
  {
   "cell_type": "markdown",
   "metadata": {},
   "source": [
    "When running inside a notebook such as jupyterlab, where widgets from the `ipywidgets` library can be used, you might preffer to use the `ProgressBarIPython` class."
   ]
  },
  {
   "cell_type": "code",
   "execution_count": null,
   "metadata": {},
   "outputs": [],
   "source": [
    "pbar = ProgressBarIPython(rep_max, message)\n",
    "\n",
    "for i in range(rep_max + 1):\n",
    "    pbar.message = f\"Elapsed time: {pbar.elapsed_time}\"\n",
    "    sleep(0.1)\n",
    "    pbar.progress(i)"
   ]
  },
  {
   "cell_type": "markdown",
   "metadata": {},
   "source": [
    "When working in a notebook the message is displayed using a `Label`, from `ipywidgets` library. That means it supports nice thins such as $\\LaTeX$ equations."
   ]
  },
  {
   "cell_type": "code",
   "execution_count": null,
   "metadata": {},
   "outputs": [],
   "source": [
    "pbar = ProgressBarIPython(rep_max, message=\"$y = a x^2 + b$\")\n",
    "\n",
    "for i in range(rep_max + 1):\n",
    "    sleep(0.1)\n",
    "    pbar.progress(i)"
   ]
  },
  {
   "cell_type": "markdown",
   "metadata": {},
   "source": [
    "## Display progress in simulators\n",
    "\n",
    "If you implement a simulator inheritting from `SimulationRunner` then you already get a progressbar and you don't need to create one manually. \n",
    "You can change which progressbar class is used to display the progress by changing the value of the `update_progress_function_style` property in your `__init__` method to one of \"text1\", \"text2\" (default), or \"ipython\". Likewise, you can set the message my changing the value of the `progressbar_message` property. If the message some parameter it will be replaced with its value."
   ]
  },
  {
   "cell_type": "code",
   "execution_count": null,
   "metadata": {
    "collapsed": false,
    "jupyter": {
     "outputs_hidden": false
    }
   },
   "outputs": [],
   "source": [
    "class MyRunner(SimulationRunner):\n",
    "\n",
    "    def __init__(self):\n",
    "        SimulationRunner.__init__(self, read_command_line_args=False)\n",
    "        self.params.add(\"param 1\", [1, 2, 3])\n",
    "        self.params.add(\"param 2\", \"something\")\n",
    "        self.params.set_unpack_parameter(\"param 1\")\n",
    "        \n",
    "        self.rep_max = 30\n",
    "        self.update_progress_function_style = 'ipython'  # 'text1', 'text2' or ipython'\n",
    "        self.progressbar_message = \"param 1 value: {param 1} - param 2: {param 2}\"\n",
    "\n",
    "    def _run_simulation(self, current_parameters):\n",
    "        sleep(0.1)\n",
    "        return SimulationResults()\n",
    "\n",
    "\n",
    "runner = MyRunner()\n",
    "runner.simulate()"
   ]
  },
  {
   "cell_type": "markdown",
   "metadata": {},
   "source": [
    "## Distributed progressbar\n",
    "\n",
    "It is also possible to use a single progressbar to track progress of multiple processes.\n",
    "\n",
    "For this you create a \"server\" progressbar, from which you can register \"client\" progressbars. See the `ProgressbarZMQServer` and `ProgressbarZMQClient` classes."
   ]
  },
  {
   "cell_type": "code",
   "execution_count": null,
   "metadata": {},
   "outputs": [],
   "source": [
    "from pyphysim.progressbar.progressbar import ProgressbarZMQServer, ProgressbarZMQClient"
   ]
  },
  {
   "cell_type": "code",
   "execution_count": null,
   "metadata": {},
   "outputs": [],
   "source": [
    "port = 10000\n",
    "server = ProgressbarZMQServer(style='ipython', port=port)\n",
    "server"
   ]
  },
  {
   "cell_type": "code",
   "execution_count": null,
   "metadata": {},
   "outputs": [],
   "source": [
    "# Register a client\n",
    "client1 = server.register_client_and_get_proxy_progressbar(10)\n",
    "client1"
   ]
  },
  {
   "cell_type": "code",
   "execution_count": null,
   "metadata": {},
   "outputs": [],
   "source": [
    "# Register another client\n",
    "client2 = server.register_client_and_get_proxy_progressbar(10)\n",
    "client2"
   ]
  },
  {
   "cell_type": "markdown",
   "metadata": {},
   "source": [
    "Now we can start the progressbar tracking in the server progressbar"
   ]
  },
  {
   "cell_type": "code",
   "execution_count": null,
   "metadata": {},
   "outputs": [],
   "source": [
    "server.start_updater()"
   ]
  },
  {
   "cell_type": "markdown",
   "metadata": {},
   "source": [
    "**In another process** we can create a client using the information we got when we registered clients."
   ]
  },
  {
   "cell_type": "code",
   "execution_count": null,
   "metadata": {},
   "outputs": [],
   "source": [
    "c1 = ProgressbarZMQClient(client_id=0, ip=\"localhost\", port=port, finalcount=10)\n",
    "c1.progress(5)"
   ]
  },
  {
   "cell_type": "markdown",
   "metadata": {},
   "source": [
    "And yet in another process we create the other client. **Notice that each client has a unique id**."
   ]
  },
  {
   "cell_type": "code",
   "execution_count": null,
   "metadata": {},
   "outputs": [],
   "source": [
    "c2 = ProgressbarZMQClient(client_id=1, ip=\"localhost\", port=port, finalcount=10)\n",
    "c2.progress(8)"
   ]
  },
  {
   "cell_type": "code",
   "execution_count": null,
   "metadata": {},
   "outputs": [],
   "source": [
    "# Let's finish the progress in both clients\n",
    "c1.progress(10)\n",
    "c2.progress(10)"
   ]
  },
  {
   "cell_type": "markdown",
   "metadata": {},
   "source": [
    "When implementing simulators inheriting from `SimulationRunner` you automatically get a dsitributed progressbar as above when you call the `simulate_in_parallel` method."
   ]
  },
  {
   "cell_type": "code",
   "execution_count": null,
   "metadata": {},
   "outputs": [],
   "source": [
    "runner = MyRunner()\n",
    "runner.progressbar_message = \"Running simulation in parallel\"\n",
    "\n",
    "# Note that you need to start the ipyparallel cluster in a terminal with the `ipcluster start` command before the line below is run\n",
    "runner.simulate_in_parallel()"
   ]
  },
  {
   "cell_type": "markdown",
   "metadata": {},
   "source": [
    "## Distributed progressbar using multiprocessing\n",
    "\n",
    "If you are using something such as python `multiprocessing` module for the parallel computation, you might preffer not use ZMQ for the communication between the client progressbars and the server progressbar. In that case, use the `ProgressbarMultiProcessServer` and `ProgressbarMultiProcessClient` classes instead. The following code illustrates the usage."
   ]
  },
  {
   "cell_type": "code",
   "execution_count": null,
   "metadata": {},
   "outputs": [],
   "source": [
    "import multiprocessing\n",
    "import numpy as np\n",
    "from pyphysim.progressbar import ProgressbarMultiProcessServer\n",
    "\n",
    "# Some \"heavy\" function to run in diferent proccesses\n",
    "def func(rep_max, progressbar):\n",
    "    for i in range(rep_max):\n",
    "        a = np.random.randn(3,3)\n",
    "        b = np.random.randn(3,3)\n",
    "        c = np.linalg.inv(a @ b)\n",
    "        progressbar.progress(i)\n",
    "    return c"
   ]
  },
  {
   "cell_type": "code",
   "execution_count": null,
   "metadata": {},
   "outputs": [],
   "source": [
    "# Create the server progressbar\n",
    "pb = ProgressbarMultiProcessServer(\n",
    "    message=\"Running heavy function\", style='ipython')\n",
    "\n",
    "# We will run separated instances of `func` in 4 different processes\n",
    "num_process = 4\n",
    "\n",
    "rep_max = 100000\n",
    "procs = []\n",
    "for i in range(num_process):\n",
    "    # The arguments that will be passed to the instance of `func` runing in a \n",
    "    # diferent process. Note that we pass the return of \n",
    "    # `pb.register_client_and_get_proxy_progressbar`, which is a client progressbar\n",
    "    proc_args = [\n",
    "        rep_max,\n",
    "        pb.register_client_and_get_proxy_progressbar(rep_max)\n",
    "    ]\n",
    "    procs.append(\n",
    "        multiprocessing.Process(target=func,\n",
    "                                args=proc_args))\n",
    "\n",
    "# xxxxx Start all processes xxxxxxxxxxxxxxxxxxxxxxxxxxxxxxxxxxxxxxxxxxx\n",
    "for proc in procs:\n",
    "    proc.start()\n",
    "# xxxxxxxxxxxxxxxxxxxxxxxxxxxxxxxxxxxxxxxxxxxxxxxxxxxxxxxxxxxxxxxxxxxxx\n",
    "\n",
    "# xxxxx Start the processbar xxxxxxxxxxxxxxxxxxxxxxxxxxxxxxxxxxxxxxxxxx\n",
    "pb.start_updater()\n",
    "# xxxxxxxxxxxxxxxxxxxxxxxxxxxxxxxxxxxxxxxxxxxxxxxxxxxxxxxxxxxxxxxxxxxxx\n",
    "\n",
    "# xxxxx Join all processes xxxxxxxxxxxxxxxxxxxxxxxxxxxxxxxxxxxxxxxxxxxx\n",
    "for proc in procs:\n",
    "    proc.join()\n",
    "# xxxxxxxxxxxxxxxxxxxxxxxxxxxxxxxxxxxxxxxxxxxxxxxxxxxxxxxxxxxxxxxxxxxxx\n",
    "\n",
    "# xxxxx Stop the processbar xxxxxxxxxxxxxxxxxxxxxxxxxxxxxxxxxxxxxxxxxxx\n",
    "pb.stop_updater()\n",
    "# xxxxxxxxxxxxxxxxxxxxxxxxxxxxxxxxxxxxxxxxxxxxxxxxxxxxxxxxxxxxxxxxxxxxx\n"
   ]
  },
  {
   "cell_type": "code",
   "execution_count": null,
   "metadata": {},
   "outputs": [],
   "source": []
  }
 ],
 "metadata": {
  "kernelspec": {
   "display_name": "Python 3",
   "language": "python",
   "name": "python3"
  },
  "language_info": {
   "codemirror_mode": {
    "name": "ipython",
    "version": 3
   },
   "file_extension": ".py",
   "mimetype": "text/x-python",
   "name": "python",
   "nbconvert_exporter": "python",
   "pygments_lexer": "ipython3",
   "version": "3.8.5"
  },
  "toc-autonumbering": true,
  "toc-showmarkdowntxt": true
 },
 "nbformat": 4,
 "nbformat_minor": 4
}
