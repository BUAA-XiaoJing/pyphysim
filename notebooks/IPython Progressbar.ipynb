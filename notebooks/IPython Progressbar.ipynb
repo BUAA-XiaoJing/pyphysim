{
 "cells": [
  {
   "cell_type": "markdown",
   "metadata": {},
   "source": [
    "# ProgressBarIPython\n",
    "\n",
    "This notebook illustrates the progressbar class specific to be used inside a notebook.\n",
    "\n",
    "**Note**: If you implement a simulator inheritting from `SimulationRunner` then you already get a progressbar. Set the value of `update_progress_function_style` property in your `__init__` method to `\"ipython\"` to use the notebook specific progressbar."
   ]
  },
  {
   "cell_type": "code",
   "execution_count": 1,
   "metadata": {
    "collapsed": false,
    "jupyter": {
     "outputs_hidden": false
    }
   },
   "outputs": [],
   "source": [
    "from time import sleep\n",
    "\n",
    "import numpy as np\n",
    "from IPython.display import clear_output, display\n",
    "\n",
    "from pyphysim.simulations.progressbar import *\n",
    "from pyphysim.simulations.results import *\n",
    "from pyphysim.simulations.runner import *"
   ]
  },
  {
   "cell_type": "code",
   "execution_count": 2,
   "metadata": {
    "collapsed": false,
    "jupyter": {
     "outputs_hidden": false
    }
   },
   "outputs": [
    {
     "data": {
      "application/vnd.jupyter.widget-view+json": {
       "model_id": "7ec64267af00473db2f6f952f7504940",
       "version_major": 2,
       "version_minor": 0
      },
      "text/plain": [
       "HBox(children=(FloatProgress(value=0.0), Label(value='Simulating $a+2^2$')))"
      ]
     },
     "metadata": {},
     "output_type": "display_data"
    }
   ],
   "source": [
    "bar = ProgressBarIPython(20, 'Simulating $a+2^2$')\n",
    "\n",
    "bar.progress(2)"
   ]
  },
  {
   "cell_type": "code",
   "execution_count": 3,
   "metadata": {
    "collapsed": false,
    "jupyter": {
     "outputs_hidden": false
    }
   },
   "outputs": [],
   "source": [
    "bar.progress(10)"
   ]
  },
  {
   "cell_type": "code",
   "execution_count": 4,
   "metadata": {
    "collapsed": false,
    "jupyter": {
     "outputs_hidden": false
    }
   },
   "outputs": [],
   "source": [
    "from ipywidgets.widgets import IntProgress, FloatProgress, Text, HBox, VBox"
   ]
  },
  {
   "cell_type": "code",
   "execution_count": 5,
   "metadata": {
    "collapsed": false,
    "jupyter": {
     "outputs_hidden": false
    }
   },
   "outputs": [],
   "source": [
    "bar2 = IntProgress(description='lala')"
   ]
  },
  {
   "cell_type": "code",
   "execution_count": 6,
   "metadata": {
    "collapsed": false,
    "jupyter": {
     "outputs_hidden": false
    }
   },
   "outputs": [],
   "source": [
    "bar2.value=50.5\n",
    "bar.prog_bar.value=50.5"
   ]
  },
  {
   "cell_type": "code",
   "execution_count": 7,
   "metadata": {
    "collapsed": false,
    "jupyter": {
     "outputs_hidden": false
    }
   },
   "outputs": [
    {
     "data": {
      "application/vnd.jupyter.widget-view+json": {
       "model_id": "a204f4df00204812be091587efe285cd",
       "version_major": 2,
       "version_minor": 0
      },
      "text/plain": [
       "HBox(children=(FloatProgress(value=30.0), Text(value='')))"
      ]
     },
     "metadata": {},
     "output_type": "display_data"
    },
    {
     "data": {
      "application/vnd.jupyter.widget-view+json": {
       "model_id": "cc8385a6bcf2404caf59fca3b1aebdc3",
       "version_major": 2,
       "version_minor": 0
      },
      "text/plain": [
       "VBox(children=(FloatProgress(value=30.0), Text(value='')))"
      ]
     },
     "metadata": {},
     "output_type": "display_data"
    }
   ],
   "source": [
    "p = FloatProgress()\n",
    "p.value = 30\n",
    "t = Text()\n",
    "t.value = ''\n",
    "t.visible = True\n",
    "container = HBox()\n",
    "container.children = [p, t]\n",
    "container2 = VBox()\n",
    "container2.children = [p, t]\n",
    "display(container)\n",
    "display(container2)"
   ]
  },
  {
   "cell_type": "markdown",
   "metadata": {},
   "source": [
    "# Vamos tentar com o SimulationRunner"
   ]
  },
  {
   "cell_type": "code",
   "execution_count": 8,
   "metadata": {
    "collapsed": false,
    "jupyter": {
     "outputs_hidden": false
    }
   },
   "outputs": [
    {
     "data": {
      "application/vnd.jupyter.widget-view+json": {
       "model_id": "c2f1e20449444b208e8a10782bafe375",
       "version_major": 2,
       "version_minor": 0
      },
      "text/plain": [
       "HBox(children=(FloatProgress(value=0.0), Label(value='Progress')))"
      ]
     },
     "metadata": {},
     "output_type": "display_data"
    }
   ],
   "source": [
    "class MyRunner(SimulationRunner):\n",
    "    def __init__(self):\n",
    "        SimulationRunner.__init__(self, read_command_line_args=False)\n",
    "        self.rep_max = 50\n",
    "        self.update_progress_function_style = 'ipython' #'ipython'\n",
    "        \n",
    "    def _run_simulation(self, current_parameters):\n",
    "        sleep(0.1)\n",
    "        return SimulationResults()\n",
    "    \n",
    "runner = MyRunner()\n",
    "runner.simulate()    "
   ]
  },
  {
   "cell_type": "code",
   "execution_count": 9,
   "metadata": {
    "collapsed": false,
    "jupyter": {
     "outputs_hidden": false
    }
   },
   "outputs": [
    {
     "data": {
      "application/vnd.jupyter.widget-view+json": {
       "model_id": "78c943a0b494495d9dc6bb969101cd40",
       "version_major": 2,
       "version_minor": 0
      },
      "text/plain": [
       "HBox(children=(FloatProgress(value=0.0), Label(value='This is the message')))"
      ]
     },
     "metadata": {},
     "output_type": "display_data"
    }
   ],
   "source": [
    "rep_max = 30\n",
    "barra = ProgressBarIPython(rep_max, 'This is the message')\n",
    "# barra.side_message.set_css({\n",
    "#         'margin-left': '10pt',\n",
    "#         #'margin-bottom': '20pt',\n",
    "#     })\n",
    "for i in range(rep_max+1):\n",
    "    sleep(0.1)\n",
    "    barra.progress(i)"
   ]
  }
 ],
 "metadata": {
  "kernelspec": {
   "display_name": "Python 3",
   "language": "python",
   "name": "python3"
  },
  "language_info": {
   "codemirror_mode": {
    "name": "ipython",
    "version": 3
   },
   "file_extension": ".py",
   "mimetype": "text/x-python",
   "name": "python",
   "nbconvert_exporter": "python",
   "pygments_lexer": "ipython3",
   "version": "3.8.3"
  }
 },
 "nbformat": 4,
 "nbformat_minor": 4
}
