{
 "metadata": {
  "name": "MRC"
 },
 "nbformat": 3,
 "nbformat_minor": 0,
 "worksheets": [
  {
   "cells": [
    {
     "cell_type": "markdown",
     "metadata": {},
     "source": [
      "Initializations\n",
      "---------------\n",
      "\n",
      "First we set the Python path and import some libraries."
     ]
    },
    {
     "cell_type": "code",
     "collapsed": false,
     "input": [
      "# xxxxxxxxxx Add the parent folder to the python path. xxxxxxxxxxxxxxxxxxxx\n",
      "import sys\n",
      "import os\n",
      "sys.path.append('../')\n",
      "# xxxxxxxxxxxxxxxxxxxxxxxxxxxxxxxxxxxxxxxxxxxxxxxxxxxxxxxxxxxxxxxxxxxxxxxxx\n",
      "\n",
      "import numpy as np\n",
      "from util.misc import randn_c\n",
      "from util.conversion import linear2dB"
     ],
     "language": "python",
     "metadata": {},
     "outputs": [],
     "prompt_number": 3
    },
    {
     "cell_type": "markdown",
     "metadata": {},
     "source": [
      "Now we set the simulation parameters"
     ]
    },
    {
     "cell_type": "code",
     "collapsed": false,
     "input": [
      "all_N = np.arange(1,21)  # Number of receive antennas\n",
      "rep_max = 10000  # Number of iterations\n",
      "rep_max = 10000  # Number of iteration"
     ],
     "language": "python",
     "metadata": {},
     "outputs": [],
     "prompt_number": 4
    },
    {
     "cell_type": "markdown",
     "metadata": {},
     "source": [
      "Simulation\n",
      "----------\n",
      "\n",
      "Now we simulate the MRC gain."
     ]
    },
    {
     "cell_type": "code",
     "collapsed": false,
     "input": [
      "SNR_gain_dB = np.empty(all_N.size)\n",
      "for index in range(all_N.size):\n",
      "    all_gains = np.empty(rep_max)\n",
      "    for rep in range(rep_max):\n",
      "        N = all_N[index]\n",
      "        # Generate the random channel matrix (here a column vector)\n",
      "        H = randn_c(N, 1)\n",
      "        all_gains[rep] = np.dot(H.transpose().conjugate(), H)[0,0].real\n",
      "    SNR_gain_dB[index] = linear2dB(np.mean(all_gains))\n",
      "\n",
      "SNR_gain_dB_theory = linear2dB(all_N)"
     ],
     "language": "python",
     "metadata": {},
     "outputs": [],
     "prompt_number": 8
    },
    {
     "cell_type": "markdown",
     "metadata": {},
     "source": [
      "Plotting\n",
      "--------\n",
      "\n",
      "Now we can finally plot the SNR gain obtained with MRC."
     ]
    },
    {
     "cell_type": "code",
     "collapsed": false,
     "input": [
      "#pylab inline\n",
      "from matplotlib import pyplot as plt\n",
      "plt.plot(SNR_gain_dB,'--bs', label='Simulated')\n",
      "plt.plot(SNR_gain_dB_theory,'--mo', label='Theory')\n",
      "\n",
      "plt.legend(loc='best')\n",
      "plt.grid()\n",
      "plt.show()"
     ],
     "language": "python",
     "metadata": {},
     "outputs": [],
     "prompt_number": 25
    },
    {
     "cell_type": "markdown",
     "metadata": {},
     "source": [
      "Error rate with Maximal Ratio Combining (MRC)\n",
      "---------------------------------------------\n",
      "\n",
      "Now we simulate a BPSK transmission with MRC through a Rayleight channel."
     ]
    },
    {
     "cell_type": "code",
     "collapsed": false,
     "input": [
      "# Add parent folder to path and import the required modules\n",
      "import numpy as np\n",
      "import sys\n",
      "sys.path.append('../')\n",
      "from util.conversion import dB2Linear\n",
      "\n",
      "# Transmission parameters\n",
      "N = 4  # Number of transmit antennas\n",
      "NSymbs = 10  # Number of simulated symbols\n",
      "NBits = NSymbs\n",
      "SNR = 5  # SNR (in dB)\n",
      "\n",
      "# Dependent Variables\n",
      "#noise_var = \n",
      "\n",
      "# xxxxxxxxxxxxxxxxxxxxxxxxxxxxxxxxxxxxxxxxxxxxxxxxxxxxxxx\n",
      "# Generates random data with 0 and 1\n",
      "input_data = np.random.randint(0, 2, NSymbs)\n",
      "\n",
      "# Modulate the data with BPSK\n",
      "symbols = 2 * input_data - 1\n",
      "\n",
      "# Generate the channel\n",
      "h = np.random.randn(N, 1)\n",
      "\n",
      "# Pass the data through the channel\n",
      "received_data = h * symbols  # This will use numpy broadcasting\n",
      "\n",
      "# Apply MRC\n",
      "improved_received_data = np.dot(h.transpose().conjugate(), received_data)\n",
      "\n",
      "# Decode the received data\n",
      "decoded_data = np.zeros(NSymbs, dtype=int)\n",
      "improved_received_data = np.squeeze(improved_received_data)\n",
      "decoded_data[improved_received_data>0] = 1\n",
      "\n",
      "# Count the number of bit errors\n",
      "bit_errors = np.sum(input_data != decoded_data)\n",
      "\n",
      "# Calculate the BER\n",
      "BER = float(bit_errors) / NSymbs\n",
      "\n",
      "print BER"
     ],
     "language": "python",
     "metadata": {},
     "outputs": [
      {
       "output_type": "stream",
       "stream": "stdout",
       "text": [
        "0.0\n"
       ]
      }
     ],
     "prompt_number": 5
    }
   ],
   "metadata": {}
  }
 ]
}