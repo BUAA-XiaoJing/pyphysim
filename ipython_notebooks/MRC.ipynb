{
 "metadata": {
  "name": "",
  "signature": "sha256:a8d391678272783264ac4b0fe1d73bb2dccf5e64dfe3a31e739013f42b321f5a"
 },
 "nbformat": 3,
 "nbformat_minor": 0,
 "worksheets": [
  {
   "cells": [
    {
     "cell_type": "markdown",
     "metadata": {},
     "source": [
      "MRC Gain\n",
      "========\n",
      "\n",
      "This notebook illustrates the gains obtained when using MRC in a SIMO system. It reproduces the results found [here](http://www.dsplog.com/2008/09/28/maximal-ratio-combining/).\n",
      "\n",
      "Initializations\n",
      "---------------\n",
      "\n",
      "First we set the Python path and import some libraries."
     ]
    },
    {
     "cell_type": "code",
     "collapsed": false,
     "input": [
      "%pylab inline\n",
      "from IPython.display import clear_output"
     ],
     "language": "python",
     "metadata": {},
     "outputs": [
      {
       "output_type": "stream",
       "stream": "stdout",
       "text": [
        "Populating the interactive namespace from numpy and matplotlib\n"
       ]
      }
     ],
     "prompt_number": 1
    },
    {
     "cell_type": "code",
     "collapsed": false,
     "input": [
      "# xxxxxxxxxx Add the parent folder to the python path. xxxxxxxxxxxxxxxxxxxx\n",
      "import sys\n",
      "import os\n",
      "sys.path.append('../')\n",
      "# xxxxxxxxxxxxxxxxxxxxxxxxxxxxxxxxxxxxxxxxxxxxxxxxxxxxxxxxxxxxxxxxxxxxxxxxx\n",
      "\n",
      "import numpy as np\n",
      "from pyphysim.util.misc import randn_c\n",
      "from pyphysim.util.conversion import linear2dB"
     ],
     "language": "python",
     "metadata": {},
     "outputs": [],
     "prompt_number": 2
    },
    {
     "cell_type": "markdown",
     "metadata": {},
     "source": [
      "Now we set the simulation parameters"
     ]
    },
    {
     "cell_type": "code",
     "collapsed": false,
     "input": [
      "all_N = np.arange(1,21)  # Number of receive antennas\n",
      "rep_max = 10000  # Number of iterations\n",
      "rep_max = 10000  # Number of iteration"
     ],
     "language": "python",
     "metadata": {},
     "outputs": [],
     "prompt_number": 3
    },
    {
     "cell_type": "markdown",
     "metadata": {},
     "source": [
      "Simulation\n",
      "----------\n",
      "\n",
      "Now we simulate the MRC gain."
     ]
    },
    {
     "cell_type": "code",
     "collapsed": false,
     "input": [
      "SNR_gain_dB = np.empty(all_N.size)\n",
      "for index in range(all_N.size):\n",
      "    all_gains = np.empty(rep_max)\n",
      "    for rep in range(rep_max):\n",
      "        N = all_N[index]\n",
      "        # Generate the random channel matrix (here a column vector)\n",
      "        H = randn_c(N, 1)\n",
      "        all_gains[rep] = np.dot(H.transpose().conjugate(), H)[0,0].real\n",
      "    SNR_gain_dB[index] = linear2dB(np.mean(all_gains))\n",
      "\n",
      "SNR_gain_dB_theory = linear2dB(all_N)"
     ],
     "language": "python",
     "metadata": {},
     "outputs": [],
     "prompt_number": 4
    },
    {
     "cell_type": "markdown",
     "metadata": {},
     "source": [
      "Plotting\n",
      "--------\n",
      "\n",
      "Now we can finally plot the SNR gain obtained with MRC."
     ]
    },
    {
     "cell_type": "code",
     "collapsed": false,
     "input": [
      "from matplotlib import pyplot as plt\n",
      "plt.plot(SNR_gain_dB,'--bs', label='Simulated')\n",
      "plt.plot(SNR_gain_dB_theory,'--mo', label='Theory')\n",
      "\n",
      "plt.legend(loc='best')\n",
      "plt.grid()\n",
      "plt.show()"
     ],
     "language": "python",
     "metadata": {},
     "outputs": [
      {
       "metadata": {},
       "output_type": "display_data",
       "png": "[encoded data removed]",
       "text": [
        "<matplotlib.figure.Figure at 0x4c121d0>"
       ]
      }
     ],
     "prompt_number": 5
    },
    {
     "cell_type": "markdown",
     "metadata": {},
     "source": [
      "Error rate with Maximal Ratio Combining (MRC)\n",
      "=============================================\n",
      "\n",
      "Now lets simulate an actual transmission with MRC. We simulate a BPSK transmission with MRC through a Rayleight channel.\n",
      "\n",
      "First lets reset the variables in the workspace to guarantee we are not using anything from previous cells"
     ]
    },
    {
     "cell_type": "code",
     "collapsed": false,
     "input": [
      "# Reset the variables in the workspace\n",
      "%reset -f\n",
      "from IPython.display import clear_output"
     ],
     "language": "python",
     "metadata": {},
     "outputs": [],
     "prompt_number": 6
    },
    {
     "cell_type": "markdown",
     "metadata": {},
     "source": [
      "Now lets make some initialization setting the Python path."
     ]
    },
    {
     "cell_type": "code",
     "collapsed": false,
     "input": [
      "# Add parent folder to path and import the required modules\n",
      "import numpy as np\n",
      "import sys\n",
      "sys.path.append('../')\n",
      "from pyphysim.util.conversion import dB2Linear\n",
      "from pyphysim.util.misc import randn_c, count_bit_errors\n",
      "from pyphysim.simulations.progressbar import ProgressbarText,ProgressbarText2"
     ],
     "language": "python",
     "metadata": {},
     "outputs": [],
     "prompt_number": 7
    },
    {
     "cell_type": "markdown",
     "metadata": {},
     "source": [
      "Now we define a function to simulate for the given transmission parameters."
     ]
    },
    {
     "cell_type": "code",
     "collapsed": false,
     "input": [
      "def simulate_MRC(SNR, N, NSymbs, num_reps):\n",
      "    \"\"\"Simulate the BPSK transmission with MRC with the given parameters\n",
      "\n",
      "    Params\n",
      "    ------\n",
      "    SNR : double\n",
      "        The desired SNR value (in dB)\n",
      "    N : int\n",
      "        The number of receive antennas (the number of transmit antennas is always 1).\n",
      "    NSymbs : int\n",
      "        The number of transmitted symbols at each iteration\n",
      "    num_reps : int\n",
      "        The number of iterations.\n",
      "    \"\"\"\n",
      "    bit_errors = 0.0\n",
      "    num_bits = NSymbs * num_reps\n",
      "    for rep in range(num_reps):\n",
      "        # Dependent Variables\n",
      "        noise_var = 1.0 / dB2Linear(SNR)\n",
      "\n",
      "        # Generates random data with 0 and 1\n",
      "        input_data = np.random.randint(0, 2, NSymbs)\n",
      "\n",
      "        # Modulate the data with BPSK\n",
      "        symbols = 1 - 2 * input_data\n",
      "\n",
      "        # Generate the complex channel\n",
      "        h = randn_c(N, 1)\n",
      "\n",
      "        # Pass the data through the channel\n",
      "        received_data = h * symbols + (np.sqrt(noise_var) * randn_c(1, NSymbs))  # This will use numpy broadcasting\n",
      "\n",
      "        # Apply the MRC\n",
      "        improved_received_data = np.dot(h.transpose().conjugate(), received_data)\n",
      "\n",
      "        # Decode the received data\n",
      "        decoded_data = np.zeros(NSymbs, dtype=int)\n",
      "        improved_received_data = np.squeeze(improved_received_data)\n",
      "        decoded_data[improved_received_data < 0] = 1\n",
      "\n",
      "        # Count the number of bit errors\n",
      "        bit_errors += count_bit_errors(input_data, decoded_data)\n",
      "\n",
      "    # Calculate the BER\n",
      "    BER = float(bit_errors) / num_bits\n",
      "\n",
      "    return BER"
     ],
     "language": "python",
     "metadata": {},
     "outputs": [],
     "prompt_number": 8
    },
    {
     "cell_type": "markdown",
     "metadata": {},
     "source": [
      "Now we can finally perform the simulation for varying sets of transmission parameters."
     ]
    },
    {
     "cell_type": "code",
     "collapsed": false,
     "input": [
      "# Transmission parameters\n",
      "NSymbs = 200  # Number of simulated symbols\n",
      "NBits = NSymbs\n",
      "all_SNR = np.linspace(0, 35, 14)\n",
      "num_reps = 30000\n",
      "\n",
      "# Number of SNR points\n",
      "num_points = all_SNR.size\n",
      "\n",
      "BER_NRx1 = np.zeros(num_points)\n",
      "BER_NRx2 = np.zeros(num_points)\n",
      "\n",
      "pbar = ProgressbarText2(num_points, message=\"Simulating\")\n",
      "\n",
      "for index in range(num_points):\n",
      "    pbar.progress(index)\n",
      "    SNR = all_SNR[index]\n",
      "    BER_NRx1[index] = simulate_MRC(SNR, 1, NSymbs, num_reps)\n",
      "    BER_NRx2[index] = simulate_MRC(SNR, 2, NSymbs, num_reps)\n",
      "\n",
      "pbar.progress(num_points)\n",
      "\n",
      "# Clear the progressbar output at the end\n",
      "clear_output()"
     ],
     "language": "python",
     "metadata": {},
     "outputs": [],
     "prompt_number": 9
    },
    {
     "cell_type": "markdown",
     "metadata": {},
     "source": [
      "Now we plot the results."
     ]
    },
    {
     "cell_type": "code",
     "collapsed": false,
     "input": [
      "from matplotlib import pyplot as plt\n",
      "\n",
      "plt.semilogy(all_SNR, BER_NRx1, '-ms')\n",
      "plt.semilogy(all_SNR, BER_NRx2,'-ks')\n",
      "plt.legend(['N=1', 'N=2'])\n",
      "plt.grid()\n",
      "plt.show()"
     ],
     "language": "python",
     "metadata": {},
     "outputs": [
      {
       "metadata": {},
       "output_type": "display_data",
       "png": "[encoded data removed]",
       "text": [
        "<matplotlib.figure.Figure at 0x4d356d0>"
       ]
      }
     ],
     "prompt_number": 10
    },
    {
     "cell_type": "code",
     "collapsed": false,
     "input": [
      "#%qtconsole"
     ],
     "language": "python",
     "metadata": {},
     "outputs": [],
     "prompt_number": 11
    }
   ],
   "metadata": {}
  }
 ]
}