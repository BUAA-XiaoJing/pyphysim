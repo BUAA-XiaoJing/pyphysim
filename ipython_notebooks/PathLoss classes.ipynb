{
 "metadata": {
  "name": "",
  "signature": "sha256:d28d16db2016c48712d6c6d62957fccb0c1c9444d55c4eb8ce2ddb190efd195b"
 },
 "nbformat": 3,
 "nbformat_minor": 0,
 "worksheets": [
  {
   "cells": [
    {
     "cell_type": "heading",
     "level": 1,
     "metadata": {},
     "source": [
      "Path Loss Implementation tests"
     ]
    },
    {
     "cell_type": "markdown",
     "metadata": {},
     "source": [
      "This notebook helps implementing path loss models."
     ]
    },
    {
     "cell_type": "heading",
     "level": 2,
     "metadata": {},
     "source": [
      "Initializations"
     ]
    },
    {
     "cell_type": "markdown",
     "metadata": {},
     "source": [
      "First we set the Python path and import some libraries."
     ]
    },
    {
     "cell_type": "code",
     "collapsed": false,
     "input": [
      "%pylab inline\n",
      "\n",
      "# xxxxxxxxxx Add the parent folder to the python path. xxxxxxxxxxxxxxxxxxxx\n",
      "import sys\n",
      "import os\n",
      "sys.path.append('../')\n",
      "# xxxxxxxxxxxxxxxxxxxxxxxxxxxxxxxxxxxxxxxxxxxxxxxxxxxxxxxxxxxxxxxxxxxxxxxxx\n",
      "\n",
      "import numpy as np\n",
      "from matplotlib import pyplot as plt"
     ],
     "language": "python",
     "metadata": {},
     "outputs": [
      {
       "output_type": "stream",
       "stream": "stdout",
       "text": [
        "Populating the interactive namespace from numpy and matplotlib\n"
       ]
      }
     ],
     "prompt_number": 1
    },
    {
     "cell_type": "markdown",
     "metadata": {},
     "source": [
      "Now we import some pyphysim stuff"
     ]
    },
    {
     "cell_type": "code",
     "collapsed": false,
     "input": [
      "from pyphysim.comm import pathloss"
     ],
     "language": "python",
     "metadata": {},
     "outputs": [],
     "prompt_number": 2
    },
    {
     "cell_type": "heading",
     "level": 2,
     "metadata": {},
     "source": [
      "Path Loss Classes Representation in IPython"
     ]
    },
    {
     "cell_type": "code",
     "collapsed": false,
     "input": [
      "pl_general = pathloss.PathLossGeneral(n=3.7, C=120)\n",
      "pl_general.handle_small_distances_bool = True\n",
      "pl_general"
     ],
     "language": "python",
     "metadata": {},
     "outputs": [
      {
       "latex": [
        "PathLossGeneral (n=3.7, C=120): $PL = 37.0 \\log_{10} (d) + 120$"
       ],
       "metadata": {},
       "output_type": "pyout",
       "prompt_number": 3,
       "text": [
        "<pyphysim.comm.pathloss.PathLossGeneral at 0x7fcfb4148d50>"
       ]
      }
     ],
     "prompt_number": 3
    },
    {
     "cell_type": "code",
     "collapsed": false,
     "input": [
      "pl_3gpp = pathloss.PathLoss3GPP1()\n",
      "pl_3gpp.handle_small_distances_bool = True\n",
      "pl_3gpp"
     ],
     "language": "python",
     "metadata": {},
     "outputs": [
      {
       "latex": [
        "PathLoss3GPP1: $PL = 37.6 \\log_{10} (d) + 128.1$"
       ],
       "metadata": {},
       "output_type": "pyout",
       "prompt_number": 4,
       "text": [
        "<pyphysim.comm.pathloss.PathLoss3GPP1 at 0x7fcfb3bb4cd0>"
       ]
      }
     ],
     "prompt_number": 4
    },
    {
     "cell_type": "code",
     "collapsed": false,
     "input": [
      "pl_fs = pathloss.PathLossFreeSpace()\n",
      "pl_fs.n = 2\n",
      "pl_fs.fc=900\n",
      "pl_fs.handle_small_distances_bool = True\n",
      "pl_fs"
     ],
     "language": "python",
     "metadata": {},
     "outputs": [
      {
       "latex": [
        "PathLossFreeSpace (n=2, fc=900): $PL = 20 \\log_{10} (d) + 91.5266223748$"
       ],
       "metadata": {},
       "output_type": "pyout",
       "prompt_number": 5,
       "text": [
        "<pyphysim.comm.pathloss.PathLossFreeSpace at 0x7fcfb3bb4c90>"
       ]
      }
     ],
     "prompt_number": 5
    },
    {
     "cell_type": "code",
     "collapsed": false,
     "input": [
      "d = np.linspace(0.01, 0.5, 100)\n",
      "fig, ax = plt.subplots()\n",
      "pl_general.plot_deterministic_path_loss_in_dB(d, ax, extra_args={'label': 'General'})\n",
      "pl_fs.plot_deterministic_path_loss_in_dB(d, ax, extra_args={'label': 'Free Space'})\n",
      "pl_3gpp.plot_deterministic_path_loss_in_dB(d, ax, extra_args={'label': '3GPP'})\n",
      "ax.grid()\n",
      "ax.set_ylabel('Path Loss (in dB)')\n",
      "ax.set_xlabel('Distance (in Km)')\n",
      "ax.legend(loc=5)\n",
      "plt.show()"
     ],
     "language": "python",
     "metadata": {},
     "outputs": [
      {
       "metadata": {},
       "output_type": "display_data",
       "png": "[encoded data removed]",
       "text": [
        "<matplotlib.figure.Figure at 0x7fcfb3bbef50>"
       ]
      }
     ],
     "prompt_number": 6
    }
   ],
   "metadata": {}
  }
 ]
}