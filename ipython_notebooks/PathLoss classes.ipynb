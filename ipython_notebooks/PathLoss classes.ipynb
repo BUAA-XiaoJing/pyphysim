{
 "cells": [
  {
   "cell_type": "markdown",
   "metadata": {},
   "source": [
    "# Path Loss Implementation tests"
   ]
  },
  {
   "cell_type": "markdown",
   "metadata": {},
   "source": [
    "This notebook helps implementing path loss models."
   ]
  },
  {
   "cell_type": "markdown",
   "metadata": {},
   "source": [
    "## Initializations"
   ]
  },
  {
   "cell_type": "markdown",
   "metadata": {},
   "source": [
    "First we set the Python path and import some libraries."
   ]
  },
  {
   "cell_type": "code",
   "execution_count": 1,
   "metadata": {
    "collapsed": false,
    "jupyter": {
     "outputs_hidden": false
    }
   },
   "outputs": [],
   "source": [
    "%matplotlib inline\n",
    "\n",
    "# xxxxxxxxxx Add the parent folder to the python path. xxxxxxxxxxxxxxxxxxxx\n",
    "import sys\n",
    "import os\n",
    "sys.path.append('../')\n",
    "# xxxxxxxxxxxxxxxxxxxxxxxxxxxxxxxxxxxxxxxxxxxxxxxxxxxxxxxxxxxxxxxxxxxxxxxxx\n",
    "\n",
    "import numpy as np\n",
    "from matplotlib import pyplot as plt"
   ]
  },
  {
   "cell_type": "markdown",
   "metadata": {},
   "source": [
    "Now we import some pyphysim stuff"
   ]
  },
  {
   "cell_type": "code",
   "execution_count": 2,
   "metadata": {
    "collapsed": false,
    "jupyter": {
     "outputs_hidden": false
    }
   },
   "outputs": [
    {
     "name": "stderr",
     "output_type": "stream",
     "text": [
      "/home/darlan/git_files/pyphysim/pyphysim/util/misc.py:1217: UserWarning: util.misc.count_bits will be slow, since cythonized version was not used\n",
      "  \"util.misc.count_bits will be slow, since cythonized version was not used\"\n"
     ]
    }
   ],
   "source": [
    "from pyphysim.channels import pathloss"
   ]
  },
  {
   "cell_type": "markdown",
   "metadata": {},
   "source": [
    "## Path Loss Classes Representation in IPython"
   ]
  },
  {
   "cell_type": "code",
   "execution_count": 3,
   "metadata": {
    "collapsed": false,
    "jupyter": {
     "outputs_hidden": false
    }
   },
   "outputs": [
    {
     "data": {
      "text/latex": [
       "PathLossGeneral (n=3.7, C=120): $PL = 37.0 \\log_{10} (d) + 120$"
      ],
      "text/plain": [
       "<pyphysim.channels.pathloss.PathLossGeneral at 0x7fc1cffed310>"
      ]
     },
     "execution_count": 3,
     "metadata": {},
     "output_type": "execute_result"
    }
   ],
   "source": [
    "pl_general = pathloss.PathLossGeneral(n=3.7, C=120)\n",
    "pl_general.handle_small_distances_bool = True\n",
    "pl_general"
   ]
  },
  {
   "cell_type": "code",
   "execution_count": 4,
   "metadata": {
    "collapsed": false,
    "jupyter": {
     "outputs_hidden": false
    }
   },
   "outputs": [
    {
     "data": {
      "text/latex": [
       "PathLoss3GPP1: $PL = 37.599999999999994 \\log_{10} (d) + 128.1$"
      ],
      "text/plain": [
       "<pyphysim.channels.pathloss.PathLoss3GPP1 at 0x7fc1d4bc6fd0>"
      ]
     },
     "execution_count": 4,
     "metadata": {},
     "output_type": "execute_result"
    }
   ],
   "source": [
    "pl_3gpp = pathloss.PathLoss3GPP1()\n",
    "pl_3gpp.handle_small_distances_bool = True\n",
    "pl_3gpp"
   ]
  },
  {
   "cell_type": "code",
   "execution_count": 5,
   "metadata": {
    "collapsed": false,
    "jupyter": {
     "outputs_hidden": false
    }
   },
   "outputs": [
    {
     "data": {
      "text/latex": [
       "PathLossFreeSpace (n=2, fc=900): $PL = 20 \\log_{10} (d) + 91.5266223748352$"
      ],
      "text/plain": [
       "<pyphysim.channels.pathloss.PathLossFreeSpace at 0x7fc1cffedc90>"
      ]
     },
     "execution_count": 5,
     "metadata": {},
     "output_type": "execute_result"
    }
   ],
   "source": [
    "pl_fs = pathloss.PathLossFreeSpace()\n",
    "pl_fs.n = 2\n",
    "pl_fs.fc=900\n",
    "pl_fs.handle_small_distances_bool = True\n",
    "pl_fs"
   ]
  },
  {
   "cell_type": "code",
   "execution_count": 6,
   "metadata": {
    "collapsed": false,
    "jupyter": {
     "outputs_hidden": false
    }
   },
   "outputs": [
    {
     "data": {
      "image/png": "[encoded data removed]",
      "text/plain": [
       "<Figure size 432x288 with 1 Axes>"
      ]
     },
     "metadata": {
      "needs_background": "light"
     },
     "output_type": "display_data"
    }
   ],
   "source": [
    "d = np.linspace(0.01, 0.5, 100)\n",
    "fig, ax = plt.subplots()\n",
    "pl_general.plot_deterministic_path_loss_in_dB(d, ax, extra_args={'label': 'General'})\n",
    "pl_fs.plot_deterministic_path_loss_in_dB(d, ax, extra_args={'label': 'Free Space'})\n",
    "pl_3gpp.plot_deterministic_path_loss_in_dB(d, ax, extra_args={'label': '3GPP'})\n",
    "ax.grid()\n",
    "ax.set_ylabel('Path Loss (in dB)')\n",
    "ax.set_xlabel('Distance (in Km)')\n",
    "ax.legend(loc=5)\n",
    "plt.show()"
   ]
  }
 ],
 "metadata": {
  "kernelspec": {
   "display_name": "Python 3",
   "language": "python",
   "name": "python3"
  },
  "language_info": {
   "codemirror_mode": {
    "name": "ipython",
    "version": 3
   },
   "file_extension": ".py",
   "mimetype": "text/x-python",
   "name": "python",
   "nbconvert_exporter": "python",
   "pygments_lexer": "ipython3",
   "version": "3.7.6"
  }
 },
 "nbformat": 4,
 "nbformat_minor": 4
}
