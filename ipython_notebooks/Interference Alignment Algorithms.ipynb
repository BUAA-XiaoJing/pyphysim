{
 "metadata": {
  "name": "Interference Alignment Algorithms"
 },
 "nbformat": 3,
 "nbformat_minor": 0,
 "worksheets": [
  {
   "cells": [
    {
     "cell_type": "markdown",
     "metadata": {},
     "source": [
      "$\\newcommand{\\Vt}[1]{\\mathbf{#1}}$\n",
      "$\\newcommand{\\Mt}[1]{\\mathbf{#1}}$\n",
      "$\\newcommand{\\vtA}{\\Vt{A}}$\n",
      "$\\newcommand{\\vtB}{\\Vt{B}}$\n",
      "$\\newcommand{\\vtC}{\\Vt{C}}$\n",
      "$\\newcommand{\\vtD}{\\Vt{D}}$\n",
      "$\\newcommand{\\vtE}{\\Vt{E}}$\n",
      "$\\newcommand{\\vtF}{\\Vt{F}}$\n",
      "$\\newcommand{\\vtG}{\\Vt{G}}$\n",
      "$\\newcommand{\\vtH}{\\Vt{H}}$\n",
      "$\\newcommand{\\vtI}{\\Vt{I}}$\n",
      "$\\newcommand{\\vtJ}{\\Vt{J}}$\n",
      "$\\newcommand{\\vtK}{\\Vt{K}}$\n",
      "$\\newcommand{\\vtL}{\\Vt{L}}$\n",
      "$\\newcommand{\\vtM}{\\Vt{M}}$\n",
      "$\\newcommand{\\vtN}{\\Vt{N}}$\n",
      "$\\newcommand{\\vtO}{\\Vt{P}}$\n",
      "$\\newcommand{\\vtP}{\\Vt{P}}$\n",
      "$\\newcommand{\\vtQ}{\\Vt{Q}}$\n",
      "$\\newcommand{\\vtR}{\\Vt{R}}$\n",
      "$\\newcommand{\\vtS}{\\Vt{S}}$\n",
      "$\\newcommand{\\vtT}{\\Vt{T}}$\n",
      "$\\newcommand{\\vtU}{\\Vt{U}}$\n",
      "$\\newcommand{\\vtV}{\\Vt{V}}$\n",
      "$\\newcommand{\\vtW}{\\Vt{W}}$\n",
      "$\\newcommand{\\vtX}{\\Vt{X}}$\n",
      "$\\newcommand{\\vtY}{\\Vt{Y}}$\n",
      "$\\newcommand{\\vtZ}{\\Vt{Z}}$\n",
      "$\\newcommand{\\mtA}{\\Mt{A}}$\n",
      "$\\newcommand{\\mtB}{\\Mt{B}}$\n",
      "$\\newcommand{\\mtC}{\\Mt{C}}$\n",
      "$\\newcommand{\\mtD}{\\Mt{D}}$\n",
      "$\\newcommand{\\mtE}{\\Mt{E}}$\n",
      "$\\newcommand{\\mtF}{\\Mt{F}}$\n",
      "$\\newcommand{\\mtG}{\\Mt{G}}$\n",
      "$\\newcommand{\\mtH}{\\Mt{H}}$\n",
      "$\\newcommand{\\mtI}{\\Mt{I}}$\n",
      "$\\newcommand{\\mtJ}{\\Mt{J}}$\n",
      "$\\newcommand{\\mtK}{\\Mt{K}}$\n",
      "$\\newcommand{\\mtL}{\\Mt{L}}$\n",
      "$\\newcommand{\\mtM}{\\Mt{M}}$\n",
      "$\\newcommand{\\mtN}{\\Mt{N}}$\n",
      "$\\newcommand{\\mtO}{\\Mt{P}}$\n",
      "$\\newcommand{\\mtP}{\\Mt{P}}$\n",
      "$\\newcommand{\\mtQ}{\\Mt{Q}}$\n",
      "$\\newcommand{\\mtR}{\\Mt{R}}$\n",
      "$\\newcommand{\\mtS}{\\Mt{S}}$\n",
      "$\\newcommand{\\mtT}{\\Mt{T}}$\n",
      "$\\newcommand{\\mtU}{\\Mt{U}}$\n",
      "$\\newcommand{\\mtV}{\\Mt{V}}$\n",
      "$\\newcommand{\\mtW}{\\Mt{W}}$\n",
      "$\\newcommand{\\mtX}{\\Mt{X}}$\n",
      "$\\newcommand{\\mtY}{\\Mt{Y}}$\n",
      "$\\newcommand{\\mtZ}{\\Mt{Z}}$"
     ]
    },
    {
     "cell_type": "heading",
     "level": 1,
     "metadata": {},
     "source": [
      "Interference Alignment Algorithms"
     ]
    },
    {
     "cell_type": "markdown",
     "metadata": {},
     "source": [
      "This notebook illustrates some Interference Alignment algorithms.\n",
      "\n",
      "The channel model used is the $K$-user MIMO IC channel, where we have $K$ pairs of transmitters and receivers and each transmitter sends useful information only to its intended receiver, while interfering with the other receivers.\n",
      "\n",
      "The received signal is given by\n",
      "\n",
      "$$\\vtY_i = \\mtH_{ii}\\mtP_i\\vtX_i + \\sum_{j=1,i \\neq j}^{K}\\mtH_{ij}\\mtP_j \\vtX_j + \\vtN_i$$"
     ]
    },
    {
     "cell_type": "code",
     "collapsed": false,
     "input": [
      "\n"
     ],
     "language": "python",
     "metadata": {},
     "outputs": [
      {
       "output_type": "stream",
       "stream": "stdout",
       "text": [
        "/home/darlan/cvs_files/pyphysim/ipython_notebooks\r\n"
       ]
      }
     ],
     "prompt_number": 7
    }
   ],
   "metadata": {}
  }
 ]
}