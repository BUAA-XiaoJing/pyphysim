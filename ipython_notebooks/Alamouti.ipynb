{
 "metadata": {
  "name": "Alamouti"
 },
 "nbformat": 3,
 "nbformat_minor": 0,
 "worksheets": [
  {
   "cells": [
    {
     "cell_type": "heading",
     "level": 1,
     "metadata": {},
     "source": [
      "Alamouti STBC"
     ]
    },
    {
     "cell_type": "markdown",
     "metadata": {},
     "source": [
      "This notebook illustrates the simulation of an Alamouti MIMO scheme transmission through a flat fading rayleight channel.\n",
      "\n",
      "We simulate the Alamouti STBC with a 16-QAM modulation, as well as BPSK modulation."
     ]
    },
    {
     "cell_type": "heading",
     "level": 2,
     "metadata": {},
     "source": [
      "Initializations"
     ]
    },
    {
     "cell_type": "markdown",
     "metadata": {},
     "source": [
      "First we set the Python path and import some libraries."
     ]
    },
    {
     "cell_type": "code",
     "collapsed": false,
     "input": [
      "%pylab inline\n",
      "from IPython.display import clear_output"
     ],
     "language": "python",
     "metadata": {},
     "outputs": [
      {
       "output_type": "stream",
       "stream": "stdout",
       "text": [
        "\n",
        "Welcome to pylab, a matplotlib-based Python environment [backend: module://IPython.zmq.pylab.backend_inline].\n",
        "For more information, type 'help(pylab)'.\n"
       ]
      }
     ],
     "prompt_number": 1
    },
    {
     "cell_type": "code",
     "collapsed": false,
     "input": [
      "# xxxxxxxxxx Add the parent folder to the python path. xxxxxxxxxxxxxxxxxxxx\n",
      "import sys\n",
      "import os\n",
      "sys.path.append('../')\n",
      "# xxxxxxxxxxxxxxxxxxxxxxxxxxxxxxxxxxxxxxxxxxxxxxxxxxxxxxxxxxxxxxxxxxxxxxxxx\n",
      "\n",
      "import numpy as np"
     ],
     "language": "python",
     "metadata": {},
     "outputs": [],
     "prompt_number": 2
    },
    {
     "cell_type": "markdown",
     "metadata": {},
     "source": [
      "Because there is already an Alamouti simulator implemented in the \"apps\" folder of PyPhysim, we simple import it here and set the desired simulation parameters."
     ]
    },
    {
     "cell_type": "code",
     "collapsed": false,
     "input": [
      "from comm.modulators import BPSK, QAM\n",
      "from apps.simulate_alamouti import AlamoutiSimulationRunner"
     ],
     "language": "python",
     "metadata": {},
     "outputs": [],
     "prompt_number": 3
    },
    {
     "cell_type": "heading",
     "level": 2,
     "metadata": {},
     "source": [
      "Simulation of Alamouti with 16-QAM"
     ]
    },
    {
     "cell_type": "markdown",
     "metadata": {},
     "source": [
      "First we create the SimulationRunner objects. Note that the actual simulator is already implemented as an application in PyPhysim and we are only setting the parameters here."
     ]
    },
    {
     "cell_type": "code",
     "collapsed": false,
     "input": [
      "sim = AlamoutiSimulationRunner()\n",
      "sim.NSymbs = 300\n",
      "sim.rep_max = 30000\n",
      "sim.params.add('SNR', np.linspace(0, 25, 11))\n",
      "sim.modulator = QAM(16)\n",
      "sim.Nr=1\n",
      "sim.update_progress_function_style = 'text2'\n",
      "# max_bit_errors is used in the _keep_going method to stop the\n",
      "# simulation earlier if possible. We stop the simulation if the\n",
      "# accumulated number of bit errors becomes greater then 0.1% of the\n",
      "# total number of simulated bits\n",
      "sim.max_bit_errors = sim.rep_max * sim.NSymbs * 0.001\n",
      "sim.clear()\n",
      "\n",
      "sim2 = AlamoutiSimulationRunner()\n",
      "sim2.NSymbs = 300\n",
      "sim2.rep_max = 30000\n",
      "sim2.params.add('SNR', np.linspace(0, 25, 11))\n",
      "sim2.modulator = QAM(16)\n",
      "sim2.Nr=2\n",
      "sim2.update_progress_function_style = 'text2'\n",
      "sim2.max_bit_errors = sim2.rep_max * sim2.NSymbs * 0.001\n",
      "sim2.clear()"
     ],
     "language": "python",
     "metadata": {},
     "outputs": [],
     "prompt_number": 5
    },
    {
     "cell_type": "markdown",
     "metadata": {},
     "source": [
      "During the simulation, we are only interested in the progressbar output for simulation of the current parameters. Therefore, lets set the _on_simulate_current_params_finish method of the SimulationRunner objects to a function that erases all the output from the cell."
     ]
    },
    {
     "cell_type": "code",
     "collapsed": false,
     "input": [
      "def clear_ipython_output(dummy1, dummy2=None):\n",
      "    clear_output()\n",
      "\n",
      "# Lets create a custom method to clear the output after the simulation of each combination of parameters\n",
      "sim._on_simulate_current_params_finish = clear_ipython_output\n",
      "sim2._on_simulate_current_params_finish = clear_ipython_output"
     ],
     "language": "python",
     "metadata": {},
     "outputs": [],
     "prompt_number": 6
    },
    {
     "cell_type": "markdown",
     "metadata": {},
     "source": [
      "Now we can run the simulations.\n",
      "\n",
      "First we run the simulations for **NRx=1** with **16-QAM** modulation"
     ]
    },
    {
     "cell_type": "code",
     "collapsed": false,
     "input": [
      "sim.simulate()\n",
      "clear_output()\n",
      "print \"Elapsed Time for simulation 1: {0}\".format(sim.elapsed_time)"
     ],
     "language": "python",
     "metadata": {},
     "outputs": [
      {
       "output_type": "stream",
       "stream": "stdout",
       "text": [
        "Elapsed Time for simulation 1: 2m:9s\n"
       ]
      }
     ],
     "prompt_number": 7
    },
    {
     "cell_type": "markdown",
     "metadata": {},
     "source": [
      "and then we run the simulations for **NRx=2** with **16-QAM** modulation."
     ]
    },
    {
     "cell_type": "code",
     "collapsed": false,
     "input": [
      "sim2.simulate()\n",
      "clear_output()\n",
      "print \"Elapsed Time for simulation 2: {0}\".format(sim2.elapsed_time)"
     ],
     "language": "python",
     "metadata": {},
     "outputs": [
      {
       "output_type": "stream",
       "stream": "stdout",
       "text": [
        "Elapsed Time for simulation 2: 10m:50s\n"
       ]
      }
     ],
     "prompt_number": 8
    },
    {
     "cell_type": "heading",
     "level": 3,
     "metadata": {},
     "source": [
      "Plot the Results"
     ]
    },
    {
     "cell_type": "code",
     "collapsed": false,
     "input": [
      "SNR, ber, ser = sim.get_data_to_be_plotted()\n",
      "semilogy(SNR, ber, '-k*', label='NTx=2, NRx=1')\n",
      "\n",
      "SNR, ber2, ser2 = sim2.get_data_to_be_plotted()\n",
      "semilogy(SNR, ber2, '-m*', label='NTx=2, NRx=2')\n",
      "\n",
      "xlabel('SNR')\n",
      "ylabel('Error')\n",
      "title('BER for QAM modulation with Alamouti (Rayleight channel)'.format(sim.modulator.name))\n",
      "legend()\n",
      "\n",
      "#grid(True, which='both', axis='both')\n",
      "grid()\n",
      "show()"
     ],
     "language": "python",
     "metadata": {},
     "outputs": [
      {
       "output_type": "display_data",
       "png": "[encoded data removed]"
      }
     ],
     "prompt_number": 9
    },
    {
     "cell_type": "markdown",
     "metadata": {},
     "source": [
      "----------------------------"
     ]
    },
    {
     "cell_type": "heading",
     "level": 2,
     "metadata": {},
     "source": [
      "Simulation of Alamouti with BPSK"
     ]
    },
    {
     "cell_type": "markdown",
     "metadata": {},
     "source": [
      "Now lets repeat the simulation, but for BPSK modulation.\n",
      "We can use the same SimulationRunner objects and only change the modulator, but we also need to call the \"clear\" method in both objects toerase results from the previous simulation."
     ]
    },
    {
     "cell_type": "code",
     "collapsed": false,
     "input": [
      "sim.modulator = BPSK()\n",
      "sim2.modulator = BPSK()\n",
      "\n",
      "sim.clear()   # Erase results from the previous simulation with 16-QAM\n",
      "sim2.clear()  # Erase results from the previous simulation with 16-QAM"
     ],
     "language": "python",
     "metadata": {},
     "outputs": [],
     "prompt_number": 10
    },
    {
     "cell_type": "markdown",
     "metadata": {},
     "source": [
      "Now we can run the simulations.\n",
      "\n",
      "First we run the simulations for **NRx=1** with **BPSK** modulation"
     ]
    },
    {
     "cell_type": "code",
     "collapsed": false,
     "input": [
      "sim.simulate()\n",
      "clear_output()\n",
      "print \"Elapsed Time for simulation 1: {0}\".format(sim.elapsed_time)"
     ],
     "language": "python",
     "metadata": {},
     "outputs": [
      {
       "output_type": "stream",
       "stream": "stdout",
       "text": [
        "Elapsed Time for simulation 1: 14m:10s\n"
       ]
      }
     ],
     "prompt_number": 11
    },
    {
     "cell_type": "markdown",
     "metadata": {},
     "source": [
      "and then we run the simulations for **NRx=2** with **BPSK** modulation."
     ]
    },
    {
     "cell_type": "code",
     "collapsed": false,
     "input": [
      "sim2.simulate()\n",
      "clear_output()\n",
      "print \"Elapsed Time for simulation 2: {0}\".format(sim2.elapsed_time)"
     ],
     "language": "python",
     "metadata": {},
     "outputs": [
      {
       "output_type": "stream",
       "stream": "stdout",
       "text": [
        "Elapsed Time for simulation 2: 21m:43s\n"
       ]
      }
     ],
     "prompt_number": 12
    },
    {
     "cell_type": "heading",
     "level": 3,
     "metadata": {},
     "source": [
      "Plot the Results"
     ]
    },
    {
     "cell_type": "code",
     "collapsed": false,
     "input": [
      "SNR, ber, ser = sim.get_data_to_be_plotted()\n",
      "len(SNR)\n",
      "semilogy(SNR, ber, '-k*', label='NTx=2, NRx=1')\n",
      "\n",
      "SNR, ber2, ser2 = sim2.get_data_to_be_plotted()\n",
      "semilogy(SNR, ber2, '-m*', label='NTx=2, NRx=2')\n",
      "\n",
      "xlabel('SNR')\n",
      "ylabel('Error')\n",
      "title('BER for BPSK modulation with Alamouti (Rayleight channel)'.format(sim.modulator.name))\n",
      "legend()\n",
      "\n",
      "#grid(True, which='both', axis='both')\n",
      "grid()\n",
      "show()"
     ],
     "language": "python",
     "metadata": {},
     "outputs": [
      {
       "output_type": "display_data",
       "png": "[encoded data removed]"
      }
     ],
     "prompt_number": 13
    },
    {
     "cell_type": "code",
     "collapsed": false,
     "input": [
      "#%qtconsole"
     ],
     "language": "python",
     "metadata": {},
     "outputs": []
    }
   ],
   "metadata": {}
  }
 ]
}