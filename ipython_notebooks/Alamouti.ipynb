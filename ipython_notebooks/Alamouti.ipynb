{
 "metadata": {
  "name": "",
  "signature": "sha256:0828e33d939d9691487121d1cfd275f55ffc7d1b0c658ecb43898eb539001d2a"
 },
 "nbformat": 3,
 "nbformat_minor": 0,
 "worksheets": [
  {
   "cells": [
    {
     "cell_type": "heading",
     "level": 1,
     "metadata": {},
     "source": [
      "Alamouti STBC"
     ]
    },
    {
     "cell_type": "markdown",
     "metadata": {},
     "source": [
      "This notebook illustrates the simulation of an Alamouti MIMO scheme transmission through a flat fading rayleight channel.\n",
      "\n",
      "We simulate the Alamouti STBC with a 16-QAM modulation, as well as BPSK modulation."
     ]
    },
    {
     "cell_type": "heading",
     "level": 2,
     "metadata": {},
     "source": [
      "Initializations"
     ]
    },
    {
     "cell_type": "markdown",
     "metadata": {},
     "source": [
      "First we set the Python path and import some libraries."
     ]
    },
    {
     "cell_type": "code",
     "collapsed": false,
     "input": [
      "%pylab inline\n",
      "from IPython.display import clear_output"
     ],
     "language": "python",
     "metadata": {},
     "outputs": [
      {
       "output_type": "stream",
       "stream": "stdout",
       "text": [
        "Populating the interactive namespace from numpy and matplotlib\n"
       ]
      }
     ],
     "prompt_number": 1
    },
    {
     "cell_type": "code",
     "collapsed": false,
     "input": [
      "# xxxxxxxxxx Add the parent folder to the python path. xxxxxxxxxxxxxxxxxxxx\n",
      "import sys\n",
      "import os\n",
      "sys.path.append('../')\n",
      "# xxxxxxxxxxxxxxxxxxxxxxxxxxxxxxxxxxxxxxxxxxxxxxxxxxxxxxxxxxxxxxxxxxxxxxxxx\n",
      "\n",
      "import numpy as np"
     ],
     "language": "python",
     "metadata": {},
     "outputs": [],
     "prompt_number": 2
    },
    {
     "cell_type": "markdown",
     "metadata": {},
     "source": [
      "Because there is already an Alamouti simulator implemented in the \"apps\" folder of PyPhysim, we simple import it here and set the desired simulation parameters."
     ]
    },
    {
     "cell_type": "code",
     "collapsed": false,
     "input": [
      "from pyphysim.comm.modulators import BPSK, QAM\n",
      "from apps.simulate_mimo import AlamoutiSimulationRunner, plot_ber, plot_ser, plot_ber_and_ser"
     ],
     "language": "python",
     "metadata": {},
     "outputs": [],
     "prompt_number": 3
    },
    {
     "cell_type": "heading",
     "level": 2,
     "metadata": {},
     "source": [
      "Simulation of Alamouti with 16-QAM"
     ]
    },
    {
     "cell_type": "markdown",
     "metadata": {},
     "source": [
      "First we create the SimulationRunner objects. Note that the actual simulator is already implemented as an application in PyPhysim and we are only setting the parameters here."
     ]
    },
    {
     "cell_type": "code",
     "collapsed": false,
     "input": [
      "sim = AlamoutiSimulationRunner('mimo_alamouti_config_file.txt', read_command_line_args=False)\n",
      "sim.NSymbs = 300\n",
      "sim.rep_max = 10000\n",
      "sim.params.add('SNR', np.linspace(0, 25, 11))\n",
      "sim.modulator = QAM(16)\n",
      "sim.Nr=1\n",
      "sim.update_progress_function_style = 'ipython'\n",
      "sim.progressbar_message = 'Simulating for SNR {SNR}'\n",
      "# max_bit_errors is used in the _keep_going method to stop the\n",
      "# simulation earlier if possible. We stop the simulation if the\n",
      "# accumulated number of bit errors becomes greater then 0.1% of the\n",
      "# total number of simulated bits\n",
      "sim.max_bit_errors = sim.rep_max * sim.NSymbs * 0.001\n",
      "sim.clear()\n",
      "\n",
      "sim2 = AlamoutiSimulationRunner('mimo_alamouti_config_file.txt', read_command_line_args=False)\n",
      "sim2.NSymbs = 300\n",
      "sim2.rep_max = 10000\n",
      "sim2.params.add('SNR', np.linspace(0, 25, 11))\n",
      "sim2.modulator = QAM(16)\n",
      "sim2.Nr=2\n",
      "sim2.update_progress_function_style = 'ipython'\n",
      "sim2.progressbar_message = 'Simulating for SNR {SNR}'\n",
      "sim2.max_bit_errors = sim2.rep_max * sim2.NSymbs * 0.001\n",
      "sim2.clear()"
     ],
     "language": "python",
     "metadata": {},
     "outputs": [],
     "prompt_number": 4
    },
    {
     "cell_type": "code",
     "collapsed": false,
     "input": [
      "print sim.params\n",
      "print sim2.params"
     ],
     "language": "python",
     "metadata": {},
     "outputs": [
      {
       "output_type": "stream",
       "stream": "stdout",
       "text": [
        "{'modulator': QAM, 'NSymbs': 200, 'M': 16, 'unpacked_parameters': ['SNR'], 'SNR*': [  0.    2.5   5.    7.5  10.   12.5  15.   17.5  20.   22.5  25. ], 'max_bit_errors': 3000, 'rep_max': 5000, 'Nr': 1, 'Nt': 2}\n",
        "{'modulator': QAM, 'NSymbs': 200, 'M': 16, 'unpacked_parameters': ['SNR'], 'SNR*': [  0.    2.5   5.    7.5  10.   12.5  15.   17.5  20.   22.5  25. ], 'max_bit_errors': 3000, 'rep_max': 5000, 'Nr': 1, 'Nt': 2}\n"
       ]
      }
     ],
     "prompt_number": 5
    },
    {
     "cell_type": "markdown",
     "metadata": {},
     "source": [
      "During the simulation, we are only interested in the progressbar output for simulation of the current parameters. Therefore, lets set the _on_simulate_current_params_finish method of the SimulationRunner objects to a function that erases all the output from the cell."
     ]
    },
    {
     "cell_type": "code",
     "collapsed": false,
     "input": [
      "def clear_ipython_output(dummy1, dummy2=None):\n",
      "    clear_output()\n",
      "\n",
      "# Lets create a custom method to clear the output after the simulation of each combination of parameters\n",
      "sim._on_simulate_current_params_finish = clear_ipython_output\n",
      "sim2._on_simulate_current_params_finish = clear_ipython_output"
     ],
     "language": "python",
     "metadata": {},
     "outputs": [],
     "prompt_number": 6
    },
    {
     "cell_type": "markdown",
     "metadata": {},
     "source": [
      "Now we can run the simulations.\n",
      "\n",
      "First we run the simulations for **NRx=1** with **16-QAM** modulation"
     ]
    },
    {
     "cell_type": "code",
     "collapsed": false,
     "input": [
      "sim.simulate()\n",
      "clear_output()\n",
      "print \"Elapsed Time for simulation 1: {0}\".format(sim.elapsed_time)"
     ],
     "language": "python",
     "metadata": {},
     "outputs": [
      {
       "output_type": "stream",
       "stream": "stdout",
       "text": [
        "Elapsed Time for simulation 1: 4m:50s\n"
       ]
      }
     ],
     "prompt_number": 7
    },
    {
     "cell_type": "markdown",
     "metadata": {},
     "source": [
      "and then we run the simulations for **NRx=2** with **16-QAM** modulation."
     ]
    },
    {
     "cell_type": "code",
     "collapsed": false,
     "input": [
      "sim2.simulate()\n",
      "clear_output()\n",
      "print \"Elapsed Time for simulation 2: {0}\".format(sim2.elapsed_time)"
     ],
     "language": "python",
     "metadata": {},
     "outputs": [
      {
       "output_type": "stream",
       "stream": "stdout",
       "text": [
        "Elapsed Time for simulation 2: 5m:03s\n"
       ]
      }
     ],
     "prompt_number": 8
    },
    {
     "cell_type": "heading",
     "level": 3,
     "metadata": {},
     "source": [
      "Plot the Results"
     ]
    },
    {
     "cell_type": "code",
     "collapsed": false,
     "input": [
      "SNR = np.array(sim.results.params['SNR'])\n",
      "ber = sim.results.get_result_values_list('ber')\n",
      "ser = sim.results.get_result_values_list('ser')\n",
      "\n",
      "semilogy(SNR, ber, '-k*', label='NTx=2, NRx=1')\n",
      "\n",
      "ber2 = sim2.results.get_result_values_list('ber')\n",
      "ser2 = sim2.results.get_result_values_list('ser')\n",
      "semilogy(SNR, ber2, '-m*', label='NTx=2, NRx=2')\n",
      "\n",
      "xlabel('SNR')\n",
      "ylabel('Error')\n",
      "title('BER for QAM modulation with Alamouti (Rayleight channel)'.format(sim.modulator.name))\n",
      "legend()\n",
      "\n",
      "#grid(True, which='both', axis='both')\n",
      "grid()\n",
      "show()"
     ],
     "language": "python",
     "metadata": {},
     "outputs": [
      {
       "metadata": {},
       "output_type": "display_data",
       "png": "[encoded data removed]",
       "text": [
        "<matplotlib.figure.Figure at 0x7f84ace3ff90>"
       ]
      }
     ],
     "prompt_number": 9
    },
    {
     "cell_type": "markdown",
     "metadata": {},
     "source": [
      "----------------------------"
     ]
    },
    {
     "cell_type": "heading",
     "level": 2,
     "metadata": {},
     "source": [
      "Simulation of Alamouti with BPSK"
     ]
    },
    {
     "cell_type": "markdown",
     "metadata": {},
     "source": [
      "Now lets repeat the simulation, but for BPSK modulation.\n",
      "We can use the same SimulationRunner objects and only change the modulator, but we also need to call the \"clear\" method in both objects toerase results from the previous simulation."
     ]
    },
    {
     "cell_type": "code",
     "collapsed": false,
     "input": [
      "sim.modulator = BPSK()\n",
      "sim2.modulator = BPSK()\n",
      "\n",
      "sim.clear()   # Erase results from the previous simulation with 16-QAM\n",
      "sim2.clear()  # Erase results from the previous simulation with 16-QAM"
     ],
     "language": "python",
     "metadata": {},
     "outputs": [],
     "prompt_number": 10
    },
    {
     "cell_type": "markdown",
     "metadata": {},
     "source": [
      "Now we can run the simulations.\n",
      "\n",
      "First we run the simulations for **NRx=1** with **BPSK** modulation"
     ]
    },
    {
     "cell_type": "code",
     "collapsed": false,
     "input": [
      "sim.simulate()\n",
      "clear_output()\n",
      "print \"Elapsed Time for simulation 1: {0}\".format(sim.elapsed_time)"
     ],
     "language": "python",
     "metadata": {},
     "outputs": [
      {
       "output_type": "stream",
       "stream": "stdout",
       "text": [
        "Elapsed Time for simulation 1: 4m:13s\n"
       ]
      }
     ],
     "prompt_number": 11
    },
    {
     "cell_type": "markdown",
     "metadata": {},
     "source": [
      "and then we run the simulations for **NRx=2** with **BPSK** modulation."
     ]
    },
    {
     "cell_type": "code",
     "collapsed": false,
     "input": [
      "sim2.simulate()\n",
      "clear_output()\n",
      "print \"Elapsed Time for simulation 2: {0}\".format(sim2.elapsed_time)"
     ],
     "language": "python",
     "metadata": {},
     "outputs": [
      {
       "output_type": "stream",
       "stream": "stdout",
       "text": [
        "Elapsed Time for simulation 2: 4m:14s\n"
       ]
      }
     ],
     "prompt_number": 12
    },
    {
     "cell_type": "heading",
     "level": 3,
     "metadata": {},
     "source": [
      "Plot the Results"
     ]
    },
    {
     "cell_type": "code",
     "collapsed": false,
     "input": [
      "SNR = np.array(sim.results.params['SNR'])\n",
      "ber = sim.results.get_result_values_list('ber')\n",
      "ser = sim.results.get_result_values_list('ser')\n",
      "len(SNR)\n",
      "semilogy(SNR, ber, '-k*', label='NTx=2, NRx=1')\n",
      "\n",
      "ber2 = sim2.results.get_result_values_list('ber')\n",
      "ser2 = sim2.results.get_result_values_list('ser')\n",
      "semilogy(SNR, ber2, '-m*', label='NTx=2, NRx=2')\n",
      "\n",
      "xlabel('SNR')\n",
      "ylabel('Error')\n",
      "title('BER for BPSK modulation with Alamouti (Rayleight channel)'.format(sim.modulator.name))\n",
      "legend()\n",
      "\n",
      "#grid(True, which='both', axis='both')\n",
      "grid()\n",
      "show()"
     ],
     "language": "python",
     "metadata": {},
     "outputs": [
      {
       "metadata": {},
       "output_type": "display_data",
       "png": "[encoded data removed]",
       "text": [
        "<matplotlib.figure.Figure at 0x7f84acc80490>"
       ]
      }
     ],
     "prompt_number": 13
    }
   ],
   "metadata": {}
  }
 ]
}