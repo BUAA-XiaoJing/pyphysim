{
 "cells": [
  {
   "cell_type": "code",
   "execution_count": null,
   "metadata": {
    "collapsed": false,
    "tags": [
     "worksheet-0"
    ]
   },
   "outputs": [],
   "source": [
    "%matplotlib inline"
   ]
  },
  {
   "cell_type": "code",
   "execution_count": null,
   "metadata": {
    "collapsed": false,
    "tags": [
     "worksheet-0"
    ]
   },
   "outputs": [],
   "source": [
    "import sys\n",
    "sys.path.append('../')\n",
    "from matplotlib import pyplot as plt\n",
    "import numpy as np"
   ]
  },
  {
   "cell_type": "code",
   "execution_count": null,
   "metadata": {
    "collapsed": false,
    "tags": [
     "worksheet-0"
    ]
   },
   "outputs": [],
   "source": [
    "from pyphysim.reference_signals.zadoffchu import calcBaseZC, get_shifted_root_seq\n",
    "from pyphysim.channels.fading import TdlChannel, TdlChannelProfile, COST259_TUx\n",
    "from pyphysim.channels.fading_generators import JakesSampleGenerator\n",
    "from pyphysim.channels.multiuser import MuChannel\n",
    "from pyphysim.util.conversion import linear2dB\n",
    "from pyphysim.reference_signals.srs import SrsUeSequence\n",
    "from pyphysim.reference_signals.channel_estimation import CazacBasedChannelEstimator\n",
    "from pyphysim.reference_signals.root_sequence import RootSequence\n",
    "#SrsRootSequence, "
   ]
  },
  {
   "cell_type": "code",
   "execution_count": null,
   "metadata": {
    "collapsed": true
   },
   "outputs": [],
   "source": [
    "num_prbs = 25;        # Number of PRBs to simulate\n",
    "Nsc = 12 * num_prbs;  # Number of subcarriers\n",
    "Nzc = 139;            # Size of the sequence\n",
    "u1 = 25;              # Root sequence index\n",
    "u2 = u1#12;           # Root sequence index\n",
    "u3 = u1#7;            # Root sequence index"
   ]
  },
  {
   "cell_type": "markdown",
   "metadata": {
    "collapsed": true,
    "tags": [
     "worksheet-0"
    ]
   },
   "source": [
    "Note that the sequence size Nzc is lower then the number of subcarriers that will have elements of the Zadoff-Chu sequence. That is $Nzc \\leq 300/2 = 150$. Therefore, we will append new elements (creating a cyclic sequence)."
   ]
  },
  {
   "cell_type": "code",
   "execution_count": null,
   "metadata": {
    "collapsed": false
   },
   "outputs": [],
   "source": [
    "# Create root sequence objects\n",
    "a_u1 = RootSequence(u1, size=Nsc//2, Nzc=Nzc)\n",
    "a_u2 = RootSequence(u1, size=Nsc//2, Nzc=Nzc)\n",
    "a_u3 = RootSequence(u1, size=Nsc//2, Nzc=Nzc)"
   ]
  },
  {
   "cell_type": "markdown",
   "metadata": {
    "collapsed": true,
    "tags": [
     "worksheet-0"
    ]
   },
   "source": [
    "# Create shifted sequences for 3 users\n",
    "\n",
    "First we arbitrarely choose some cyclic shift indexes and then we call `zadoffchu.getShiftedZF` to get the shifted sequence."
   ]
  },
  {
   "cell_type": "code",
   "execution_count": null,
   "metadata": {
    "collapsed": false
   },
   "outputs": [],
   "source": [
    "m_u1 = 1 # Cyclic shift index\n",
    "m_u2 = 4\n",
    "m_u3 = 7\n",
    "\n",
    "r1 = SrsUeSequence(a_u1, m_u1)\n",
    "r2 = SrsUeSequence(a_u2, m_u2)\n",
    "r3 = SrsUeSequence(a_u3, m_u3)"
   ]
  },
  {
   "cell_type": "markdown",
   "metadata": {
    "collapsed": true,
    "tags": [
     "worksheet-0"
    ]
   },
   "source": [
    "# Generate channels from users to the BS\n",
    "\n",
    "Now it's time to transmit the shifted sequences. We need to create the fading channels from two users to some BS."
   ]
  },
  {
   "cell_type": "code",
   "execution_count": null,
   "metadata": {
    "collapsed": false,
    "tags": [
     "worksheet-0"
    ]
   },
   "outputs": [],
   "source": [
    "speedTerminal = 3/3.6        # Speed in m/s\n",
    "fcDbl = 2.6e9                # Central carrier frequency (in Hz)\n",
    "timeTTIDbl = 1e-3            # Time of a single TTI\n",
    "subcarrierBandDbl = 15e3     # Subcarrier bandwidth (in Hz)\n",
    "numOfSubcarriersPRBInt = 12  # Number of subcarriers in each PRB          \n",
    "\n",
    "# xxxxxxxxxx Dependent parametersxxxxxxxxxxxxxxxxxxxxxxxxxxxxxxxx\n",
    "lambdaDbl = 3e8/fcDbl        # Carrier wave length\n",
    "Fd = speedTerminal / lambdaDbl\n",
    "Ts = 1./(Nsc * subcarrierBandDbl)\n",
    "\n",
    "# xxxxxxxxxx Channel parameters xxxxxxxxxxxxxxxxxxxxxxxxxxxxxxxxx\n",
    "L = 16      # The number of rays for the Jakes model."
   ]
  },
  {
   "cell_type": "code",
   "execution_count": null,
   "metadata": {
    "collapsed": false
   },
   "outputs": [],
   "source": [
    "# Create the MuSisoChannel\n",
    "jakes = JakesSampleGenerator(Fd, Ts, L)\n",
    "musisochannel = MuChannel(N=(1, 3), fading_generator=jakes, channel_profile=COST259_TUx)"
   ]
  },
  {
   "cell_type": "markdown",
   "metadata": {
    "collapsed": true,
    "tags": [
     "worksheet-0"
    ]
   },
   "source": [
    "## Perform the transmission\n",
    "\n",
    "First we need to prepare the input data from our shifted Zadoff-Chu sequences.\n",
    "\n",
    "To makes things clear, let's start transmiting a single sequence and we **won't** include the white noise. Since we use a *comb* to transmit the SRS sequence, we will use Nsc/2 subcarriers from the Nsc subcarriers from a **comb like pattern**."
   ]
  },
  {
   "cell_type": "code",
   "execution_count": null,
   "metadata": {
    "collapsed": false
   },
   "outputs": [],
   "source": [
    "comb_indexes = np.arange(0, Nsc, 2)\n",
    "data = np.vstack([r1.seq_array(),r2.seq_array(),r3.seq_array()])\n",
    "Y = musisochannel.corrupt_data_in_freq_domain(data, Nsc, comb_indexes)\n",
    "Y = Y[0]  # We only have one receiver"
   ]
  },
  {
   "cell_type": "code",
   "execution_count": null,
   "metadata": {
    "collapsed": false
   },
   "outputs": [],
   "source": [
    "impulse_response0 = musisochannel.get_last_impulse_response(0, 0)\n",
    "impulse_response1 = musisochannel.get_last_impulse_response(0, 1)\n",
    "impulse_response2 = musisochannel.get_last_impulse_response(0, 2)\n",
    "\n",
    "H1 = impulse_response0.get_freq_response(Nsc)[:, 0]\n",
    "H2 = impulse_response1.get_freq_response(Nsc)[:, 0]\n",
    "H3 = impulse_response2.get_freq_response(Nsc)[:, 0]\n",
    "\n",
    "h1 = np.fft.ifft(H1)\n",
    "h2 = np.fft.ifft(H2)\n",
    "h3 = np.fft.ifft(H3)"
   ]
  },
  {
   "cell_type": "markdown",
   "metadata": {
    "collapsed": true,
    "tags": [
     "worksheet-0"
    ]
   },
   "source": [
    "According to the paper, \n",
    "\n",
    "> ... the received\n",
    "frequency-domain sequence Y is element-wise multiplied with\n",
    "the complex conjugate of the expected root sequence X before\n",
    "the IDFT. This provides in one shot\n",
    "the concatenated CIRs of all UEs multiplexed on the same root\n",
    "sequence."
   ]
  },
  {
   "cell_type": "markdown",
   "metadata": {
    "collapsed": true,
    "tags": [
     "worksheet-0"
    ]
   },
   "source": [
    "Now let's get the plot of the signal considering that all users transmitted. Notice how the part due to user 1 in the plot is the same channel when only user 1 transmitted. This indicates that Zadoff-chu 0 cross correlation is indeed working."
   ]
  },
  {
   "cell_type": "code",
   "execution_count": null,
   "metadata": {
    "collapsed": false,
    "tags": [
     "worksheet-0"
    ]
   },
   "outputs": [],
   "source": [
    "y = np.fft.ifft(np.conj(a_u1) * Y, 150)\n",
    "plt.figure(figsize=(12,6))\n",
    "plt.stem(np.abs(y))\n",
    "plt.show()"
   ]
  },
  {
   "cell_type": "markdown",
   "metadata": {
    "collapsed": true,
    "tags": [
     "worksheet-0"
    ]
   },
   "source": [
    "# Estimate the channels\n",
    "\n",
    "Since we get a concatenation of the impulse response of the different users, we need to know for each users we need to know the first and the last sample index corresponding to the particular user's impulse response.\n",
    "\n",
    "Since we have Nsc subcarriers, from which we will use $Nsc/2$, and we have 3 users, we can imagine that each user can have up to $Nsc/(2*3)$ samples, which for $Nsc=300$ corresponds to 50 subcarriers.\n",
    "\n",
    "\n",
    "Now let's estimate the channel of the first user.\n",
    "First let's check again what is the shift used by the first user."
   ]
  },
  {
   "cell_type": "code",
   "execution_count": null,
   "metadata": {
    "collapsed": false,
    "tags": [
     "worksheet-0"
    ]
   },
   "outputs": [],
   "source": [
    "m_u1"
   ]
  },
  {
   "cell_type": "code",
   "execution_count": null,
   "metadata": {
    "collapsed": false
   },
   "outputs": [],
   "source": [
    "estimator1 = CazacBasedChannelEstimator(r1)\n",
    "estimator2 = CazacBasedChannelEstimator(r2)\n",
    "estimator3 = CazacBasedChannelEstimator(r3)"
   ]
  },
  {
   "cell_type": "markdown",
   "metadata": {
    "collapsed": true,
    "tags": [
     "worksheet-0"
    ]
   },
   "source": [
    "For an index equal to 1 the starting sample of the first user will be 101 and the ending sample will be 101+50-1=150."
   ]
  },
  {
   "cell_type": "code",
   "execution_count": null,
   "metadata": {
    "collapsed": false,
    "tags": [
     "worksheet-0"
    ]
   },
   "outputs": [],
   "source": [
    "def plot_channel_responses(h, tilde_h):\n",
    "    \"\"\"Plot the estimated and true channel responses\n",
    "\n",
    "    Parameters\n",
    "    ----------\n",
    "    h : numpy complex array\n",
    "        The true channel impulse response\n",
    "    tilde_h : numpy complex array\n",
    "        The estimated channel impulse response\n",
    "    \"\"\"\n",
    "    H = np.fft.fft(h)\n",
    "    tilde_H = np.fft.fft(tilde_h, Nsc)\n",
    "\n",
    "    plt.figure(figsize=(16,12))\n",
    "\n",
    "    # Plot estimated impulse response\n",
    "    ax1 = plt.subplot2grid((3,2), (0,0))\n",
    "    ax1.stem(np.abs(tilde_h[0:20]))\n",
    "    plt.xlabel(\"Time sample\")\n",
    "    plt.ylabel(\"Amplitude (abs)\")\n",
    "    plt.title(\"Estimated Impulse Response\")\n",
    "    plt.grid()\n",
    "\n",
    "    # Plot TRUE impulse response\n",
    "    ax2 = plt.subplot2grid((3,2), (0,1))\n",
    "    ax2.stem(np.abs(h[0:20]),'g')\n",
    "    plt.xlabel(\"Time sample\")\n",
    "    plt.ylabel(\"Amplitude (abs)\")\n",
    "    plt.xlabel(\"Time sample\")\n",
    "    plt.title(\"True Impulse Response\")\n",
    "    plt.grid()\n",
    "\n",
    "    # Plot estimated frequency response (absolute value)\n",
    "    ax3 = plt.subplot2grid((3,2), (1,0), colspan=2)\n",
    "    plt.plot(np.abs(tilde_H))\n",
    "    #plt.xlabel(\"Subcarrier\")\n",
    "    plt.ylabel(\"Amplitude (abs)\")\n",
    "    plt.title(\"Frequency Response (abs)\")\n",
    "    ax3.hold(True)\n",
    "\n",
    "    # Plot TRUE frequency response (absolute value)\n",
    "    #plt.subplot(3,2,4)\n",
    "    ax3.plot(np.abs(H), 'g')\n",
    "    plt.grid()\n",
    "    plt.legend([\"Estimated Value\", \"True Value\"], loc='upper left')\n",
    "\n",
    "    # Plot estimated frequency response (angle)\n",
    "    ax4 = plt.subplot2grid((3,2), (2,0), colspan=2)\n",
    "    ax4.plot(np.angle(tilde_H))\n",
    "    plt.xlabel(\"Subcarrier\")\n",
    "    plt.ylabel(\"Angle (phase)\")\n",
    "    plt.title(\"Frequency Response (phase)\")\n",
    "    ax4.hold(True)\n",
    "\n",
    "    # Plot TRUE frequency response (angle)\n",
    "    ax4.plot(np.angle(H),'g')\n",
    "    plt.grid()\n",
    "    plt.legend([\"Estimated Value\", \"True Value\"], loc='upper left')\n",
    "\n",
    "    # Show the plots\n",
    "    plt.show()\n"
   ]
  },
  {
   "cell_type": "code",
   "execution_count": null,
   "metadata": {
    "collapsed": true
   },
   "outputs": [],
   "source": [
    "def plot_normalized_squared_error(H, tilde_H):\n",
    "    \"\"\"Plot the normalized squared error (in dB).\n",
    "\n",
    "    Parameters\n",
    "    ----------\n",
    "    H : numpy complex array\n",
    "        The true channel frequency response\n",
    "    tilde_H : numpy complex array\n",
    "        The estimated channel frequency response\n",
    "    \"\"\"\n",
    "    plt.figure(figsize=(12,8))\n",
    "    error = np.abs(tilde_H - H)**2 / (np.abs(H)**2)\n",
    "    plt.plot(linear2dB(error))\n",
    "    plt.title(\"Normalized Squared Error\")\n",
    "    plt.xlabel(\"Subcarrier\")\n",
    "    plt.ylabel(\"Normalized Squared Error (in dB)\")\n",
    "    plt.grid()\n",
    "    plt.show()"
   ]
  },
  {
   "cell_type": "code",
   "execution_count": null,
   "metadata": {
    "collapsed": false,
    "tags": [
     "worksheet-0"
    ]
   },
   "outputs": [],
   "source": [
    "# y = np.fft.ifft(np.conj(r1) * Y, 150)\n",
    "# tilde_h1 = y[0:20]\n",
    "# tilde_H1 = np.fft.fft(tilde_h1, Nsc)\n",
    "# tilde_Y1 = tilde_H1[comb_indexes] * r1\n",
    "\n",
    "tilde_H1 = estimator1.estimate_channel_freq_domain(Y, num_taps_to_keep=20)\n",
    "tilde_h1 = np.fft.ifft(tilde_H1)[0:20]\n",
    "\n",
    "plot_channel_responses(h1, tilde_h1)"
   ]
  },
  {
   "cell_type": "markdown",
   "metadata": {
    "collapsed": true,
    "tags": [
     "worksheet-0"
    ]
   },
   "source": [
    "Now we will compute the squared error in each subcarrier."
   ]
  },
  {
   "cell_type": "code",
   "execution_count": null,
   "metadata": {
    "collapsed": false,
    "tags": [
     "worksheet-0"
    ]
   },
   "outputs": [],
   "source": [
    "tilde_H1 = np.fft.fft(tilde_h1, Nsc)\n",
    "plot_normalized_squared_error(H1, tilde_H1)"
   ]
  },
  {
   "cell_type": "code",
   "execution_count": null,
   "metadata": {
    "collapsed": false,
    "tags": [
     "worksheet-0"
    ]
   },
   "outputs": [],
   "source": [
    "# y = np.fft.ifft(np.conj(r2) * (Y), 150)\n",
    "# tilde_h2 = y[0:20]\n",
    "# tilde_H2 = np.fft.fft(tilde_h2, Nsc)\n",
    "# tilde_Y2 = tilde_H2[comb_indexes] * r2\n",
    "\n",
    "tilde_H2 = estimator2.estimate_channel_freq_domain(Y, num_taps_to_keep=20)\n",
    "tilde_h2 = np.fft.ifft(tilde_H2)[0:20]\n",
    "\n",
    "plot_channel_responses(h2, tilde_h2)"
   ]
  },
  {
   "cell_type": "code",
   "execution_count": null,
   "metadata": {
    "collapsed": false
   },
   "outputs": [],
   "source": [
    "tilde_H2 = np.fft.fft(tilde_h2, Nsc)\n",
    "plot_normalized_squared_error(H2, tilde_H2)"
   ]
  },
  {
   "cell_type": "code",
   "execution_count": null,
   "metadata": {
    "collapsed": false,
    "tags": [
     "worksheet-0"
    ]
   },
   "outputs": [],
   "source": [
    "# y = np.fft.ifft(np.conj(r3) * (Y), 150)\n",
    "# tilde_h3 = y[0:11]\n",
    "# tilde_H3 = np.fft.fft(tilde_h3, Nsc)\n",
    "# tilde_Y3 = tilde_H3[comb_indexes] * r3\n",
    "\n",
    "tilde_H3 = estimator3.estimate_channel_freq_domain(Y, num_taps_to_keep=20)\n",
    "tilde_h3 = np.fft.ifft(tilde_H3)[0:20]\n",
    "\n",
    "plot_channel_responses(h3, tilde_h3)"
   ]
  },
  {
   "cell_type": "code",
   "execution_count": null,
   "metadata": {
    "collapsed": false
   },
   "outputs": [],
   "source": [
    "tilde_H3 = np.fft.fft(tilde_h3, Nsc)\n",
    "plot_normalized_squared_error(H3, tilde_H3)"
   ]
  },
  {
   "cell_type": "markdown",
   "metadata": {},
   "source": [
    "## Estimated the channels from corrupted (white noise) signal\n",
    "\n",
    "Now we will add some white noise to Y"
   ]
  },
  {
   "cell_type": "code",
   "execution_count": null,
   "metadata": {
    "collapsed": false
   },
   "outputs": [],
   "source": [
    "# Add white noise\n",
    "noise_var = 1e-2\n",
    "Y_noised = Y + np.sqrt(noise_var/2.) * (np.random.randn(Nsc//2) + 1j * np.random.randn(Nsc//2))"
   ]
  },
  {
   "cell_type": "code",
   "execution_count": null,
   "metadata": {
    "collapsed": false
   },
   "outputs": [],
   "source": [
    "# y_noised = np.fft.ifft(np.conj(r2) * (Y_noised), 150)\n",
    "# tilde_h2_noised = y_noised[0:20]\n",
    "\n",
    "tilde_H2_noised = estimator2.estimate_channel_freq_domain(Y_noised, num_taps_to_keep=20)\n",
    "tilde_h2_noised = np.fft.ifft(tilde_H2_noised)[0:20]\n",
    "\n",
    "plot_channel_responses(h2, tilde_h2_noised)"
   ]
  },
  {
   "cell_type": "code",
   "execution_count": null,
   "metadata": {
    "collapsed": false
   },
   "outputs": [],
   "source": [
    "tilde_H2_noised = np.fft.fft(tilde_h2_noised, Nsc)\n",
    "plot_normalized_squared_error(H2, tilde_H2_noised)"
   ]
  }
 ],
 "metadata": {
  "kernelspec": {
   "display_name": "IPython (Python 3)",
   "language": "python",
   "name": "python3"
  },
  "language_info": {
   "codemirror_mode": {
    "name": "ipython",
    "version": 3
   },
   "file_extension": ".py",
   "mimetype": "text/x-python",
   "name": "python",
   "nbconvert_exporter": "python",
   "pygments_lexer": "ipython3",
   "version": "3.5.0+"
  },
  "name": "ZadoffchuChannelEstimation.ipynb"
 },
 "nbformat": 4,
 "nbformat_minor": 0
}
