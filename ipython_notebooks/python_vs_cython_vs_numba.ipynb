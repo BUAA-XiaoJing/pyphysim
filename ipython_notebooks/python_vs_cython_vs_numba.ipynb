{
 "cells": [
  {
   "cell_type": "code",
   "execution_count": 2,
   "metadata": {},
   "outputs": [],
   "source": [
    "import numpy as np\n",
    "from typing import Any, Dict, List, Optional, Tuple, TypeVar, Union, cast\n",
    "\n",
    "import numba\n",
    "import cython\n",
    "import pythran\n",
    "\n",
    "IntOrIntArray = TypeVar(\"IntOrIntArray\", np.ndarray, int)\n",
    "NumberOrArrayUnion = Union[np.ndarray, float]"
   ]
  },
  {
   "cell_type": "code",
   "execution_count": 3,
   "metadata": {},
   "outputs": [],
   "source": [
    "%load_ext cython"
   ]
  },
  {
   "cell_type": "code",
   "execution_count": 4,
   "metadata": {},
   "outputs": [],
   "source": [
    "import pythran\n",
    "%load_ext pythran.magic"
   ]
  },
  {
   "cell_type": "code",
   "execution_count": 5,
   "metadata": {},
   "outputs": [],
   "source": [
    "a = np.array([10])"
   ]
  },
  {
   "cell_type": "markdown",
   "metadata": {},
   "source": [
    "## Regular Python"
   ]
  },
  {
   "cell_type": "code",
   "execution_count": 6,
   "metadata": {},
   "outputs": [],
   "source": [
    "def count_bits_single_element(n: IntOrIntArray\n",
    "                               ) -> IntOrIntArray:  # pragma: no cover\n",
    "    \"\"\"\n",
    "    Count the number of bits that are set in `n`.\n",
    "\n",
    "    Parameters\n",
    "    ----------\n",
    "    n : int | np.ndarray\n",
    "        An integer number or a numpy array of integer numbers.\n",
    "\n",
    "    Returns\n",
    "    -------\n",
    "    Number of bits that are equal to 1 in the bit representation of the\n",
    "    number `n`.\n",
    "\n",
    "    Examples\n",
    "    --------\n",
    "    >>> a = np.array([3, 0, 2])\n",
    "    >>> print(count_bits(a))\n",
    "    [2 0 1]\n",
    "\n",
    "    \"\"\"\n",
    "    count = 0\n",
    "    while n > 0:\n",
    "        if n & 1 == 1:\n",
    "            count += 1\n",
    "        n >>= 1\n",
    "    return count\n",
    "\n",
    "\n",
    "count_bits = np.vectorize(count_bits_single_element)"
   ]
  },
  {
   "cell_type": "code",
   "execution_count": 7,
   "metadata": {},
   "outputs": [
    {
     "name": "stdout",
     "output_type": "stream",
     "text": [
      "402 ns ± 12.7 ns per loop (mean ± std. dev. of 7 runs, 1000000 loops each)\n"
     ]
    }
   ],
   "source": [
    "time_regular_python_single_element = %timeit -o count_bits_single_element(10)"
   ]
  },
  {
   "cell_type": "code",
   "execution_count": 8,
   "metadata": {},
   "outputs": [
    {
     "name": "stdout",
     "output_type": "stream",
     "text": [
      "12.2 µs ± 121 ns per loop (mean ± std. dev. of 7 runs, 100000 loops each)\n"
     ]
    }
   ],
   "source": [
    "time_regular_python = %timeit -o count_bits(a)"
   ]
  },
  {
   "cell_type": "markdown",
   "metadata": {},
   "source": [
    "## Cython"
   ]
  },
  {
   "cell_type": "code",
   "execution_count": 9,
   "metadata": {},
   "outputs": [],
   "source": [
    "%%cython\n",
    "\n",
    "cimport numpy as np\n",
    "import numpy as np\n",
    "cimport cython\n",
    "\n",
    "cdef int count_bits_single_element_cython(int n):\n",
    "    \"\"\"\n",
    "    Count the number of bits that are set in an integer number.\n",
    "\n",
    "    Parameters\n",
    "    ----------\n",
    "    n : int\n",
    "        The integer number.\n",
    "\n",
    "    Returns\n",
    "    -------\n",
    "    int\n",
    "        Number of bits that are equal to 1 in the bit representation of\n",
    "        the number `n`.\n",
    "    \"\"\"\n",
    "    cdef int count = 0\n",
    "    while n > 0:\n",
    "        if n & 1 == 1:\n",
    "            count += 1\n",
    "        n >>= 1\n",
    "    return count\n",
    "\n",
    "def count_bits_single_element_cython2(int n):\n",
    "    \"\"\"\n",
    "    Count the number of bits that are set in an integer number.\n",
    "\n",
    "    Parameters\n",
    "    ----------\n",
    "    n : int\n",
    "        The integer number.\n",
    "\n",
    "    Returns\n",
    "    -------\n",
    "    int\n",
    "        Number of bits that are equal to 1 in the bit representation of\n",
    "        the number `n`.\n",
    "    \"\"\"\n",
    "    cdef int count = 0\n",
    "    while n > 0:\n",
    "        if n & 1 == 1:\n",
    "            count += 1\n",
    "        n >>= 1\n",
    "    return count\n",
    "\n",
    "\n",
    "\n",
    "@cython.boundscheck(False)\n",
    "@cython.wraparound(False)\n",
    "def count_bits_1D_array(np.ndarray[np.int_t, ndim=1] n):\n",
    "    \"\"\"\n",
    "    Count the number of bits that are set.\n",
    "\n",
    "    Parameters\n",
    "    ----------\n",
    "    n : np.ndarray\n",
    "        An integer number or a numpy array of integer numbers.\n",
    "\n",
    "    Returns\n",
    "    -------\n",
    "    num_bits : np.ndarray\n",
    "        1D numpy array with the number of bits that are set for each\n",
    "        element in `n`\n",
    "\n",
    "    \"\"\"\n",
    "    assert n.dtype == np.int\n",
    "\n",
    "    cdef int num_el = len(n)\n",
    "    cdef Py_ssize_t index  # Since we will use index for indexing 'n', then\n",
    "                           # using Py_ssize_t as the type for index give\n",
    "                           # faster results then using a simple int.\n",
    "    cdef np.ndarray[np.int_t, ndim=1] num_bits = np.empty(num_el, dtype=np.int)\n",
    "    for index in range(num_el):\n",
    "        num_bits[index] = count_bits_single_element_cython(n[index])\n",
    "\n",
    "    return num_bits\n",
    "\n",
    "@cython.boundscheck(False)\n",
    "@cython.wraparound(False)\n",
    "def count_bits_ND_array(n):\n",
    "    cdef np.ndarray[np.int_t, ndim=1] flattened_input = n.flatten()\n",
    "\n",
    "    cdef int num_el = len(flattened_input)\n",
    "    cdef Py_ssize_t index  # Since we will use index for indexing 'n', then\n",
    "                           # using Py_ssize_t as the type for index give\n",
    "                           # faster results then using a simple int.\n",
    "    cdef np.ndarray[np.int_t, ndim=1] num_bits_flat = np.empty(num_el, dtype=np.int)\n",
    "    for index in range(num_el):\n",
    "        num_bits_flat[index] = count_bits_single_element_cython(\n",
    "            flattened_input[index])\n",
    "\n",
    "    return np.reshape(num_bits_flat, n.shape)\n",
    "\n",
    "\n",
    "def count_bits_cython(n):\n",
    "    \"\"\"\n",
    "    Count the number of bits that are set in `n`.\n",
    "\n",
    "    Parameters\n",
    "    ----------\n",
    "    n : int | np.ndarray\n",
    "        An integer number or a numpy array of integer numbers.\n",
    "\n",
    "    Returns\n",
    "    -------\n",
    "    num_bits : int | np.ndarray\n",
    "        Number of bits that are set in `n`. If `n` is a numpy array then\n",
    "        `num_bits` will also be a numpy array with the number of bits that\n",
    "        are set for each element in `n`\n",
    "    \"\"\"\n",
    "    if not isinstance(n, np.ndarray):\n",
    "        # If the input is not a numpy array we assume it to be an integer\n",
    "        # and we call _count_bits_single_element directly\n",
    "        return count_bits_single_element_cython(n)\n",
    "\n",
    "    assert n.dtype == np.int\n",
    "\n",
    "    if n.ndim == 1:\n",
    "        return count_bits_1D_array(n)\n",
    "\n",
    "    # General case\n",
    "    return count_bits_ND_array(n)"
   ]
  },
  {
   "cell_type": "code",
   "execution_count": 10,
   "metadata": {},
   "outputs": [
    {
     "name": "stdout",
     "output_type": "stream",
     "text": [
      "29.6 ns ± 0.275 ns per loop (mean ± std. dev. of 7 runs, 10000000 loops each)\n"
     ]
    }
   ],
   "source": [
    "time_cython_single_element = %timeit -o count_bits_single_element_cython2(10)"
   ]
  },
  {
   "cell_type": "code",
   "execution_count": 11,
   "metadata": {},
   "outputs": [
    {
     "name": "stdout",
     "output_type": "stream",
     "text": [
      "1.37 µs ± 10.6 ns per loop (mean ± std. dev. of 7 runs, 1000000 loops each)\n"
     ]
    }
   ],
   "source": [
    "time_cython = %timeit -o count_bits_cython(a)"
   ]
  },
  {
   "cell_type": "markdown",
   "metadata": {},
   "source": [
    "## Numba"
   ]
  },
  {
   "cell_type": "code",
   "execution_count": 12,
   "metadata": {},
   "outputs": [],
   "source": [
    "@numba.jit(nopython=True)\n",
    "def count_bits_single_element_jit(n: IntOrIntArray\n",
    "                               ) -> IntOrIntArray:  # pragma: no cover\n",
    "    \"\"\"\n",
    "    Count the number of bits that are set in `n`.\n",
    "\n",
    "    Parameters\n",
    "    ----------\n",
    "    n : int | np.ndarray\n",
    "        An integer number or a numpy array of integer numbers.\n",
    "\n",
    "    Returns\n",
    "    -------\n",
    "    Number of bits that are equal to 1 in the bit representation of the\n",
    "    number `n`.\n",
    "\n",
    "    Examples\n",
    "    --------\n",
    "    >>> a = np.array([3, 0, 2])\n",
    "    >>> print(count_bits(a))\n",
    "    [2 0 1]\n",
    "\n",
    "    \"\"\"\n",
    "    count = 0\n",
    "    while n > 0:\n",
    "        if n & 1 == 1:\n",
    "            count += 1\n",
    "        n >>= 1\n",
    "    return count"
   ]
  },
  {
   "cell_type": "code",
   "execution_count": 13,
   "metadata": {},
   "outputs": [],
   "source": [
    "@numba.vectorize\n",
    "def count_bits_numba(n: IntOrIntArray\n",
    "                               ) -> IntOrIntArray:  # pragma: no cover\n",
    "    \"\"\"\n",
    "    Count the number of bits that are set in `n`.\n",
    "\n",
    "    Parameters\n",
    "    ----------\n",
    "    n : int | np.ndarray\n",
    "        An integer number or a numpy array of integer numbers.\n",
    "\n",
    "    Returns\n",
    "    -------\n",
    "    Number of bits that are equal to 1 in the bit representation of the\n",
    "    number `n`.\n",
    "\n",
    "    Examples\n",
    "    --------\n",
    "    >>> a = np.array([3, 0, 2])\n",
    "    >>> print(count_bits(a))\n",
    "    [2 0 1]\n",
    "\n",
    "    \"\"\"\n",
    "    count = 0\n",
    "    while n > 0:\n",
    "        if n & 1 == 1:\n",
    "            count += 1\n",
    "        n >>= 1\n",
    "    return count"
   ]
  },
  {
   "cell_type": "code",
   "execution_count": 14,
   "metadata": {},
   "outputs": [
    {
     "data": {
      "text/plain": [
       "array([2])"
      ]
     },
     "execution_count": 14,
     "metadata": {},
     "output_type": "execute_result"
    }
   ],
   "source": [
    "count_bits_single_element_jit(10)\n",
    "count_bits_numba(np.array([10]))"
   ]
  },
  {
   "cell_type": "code",
   "execution_count": 15,
   "metadata": {},
   "outputs": [
    {
     "name": "stdout",
     "output_type": "stream",
     "text": [
      "131 ns ± 0.248 ns per loop (mean ± std. dev. of 7 runs, 10000000 loops each)\n"
     ]
    }
   ],
   "source": [
    "time_numba_single_element = %timeit -o count_bits_single_element_jit(10)"
   ]
  },
  {
   "cell_type": "code",
   "execution_count": 16,
   "metadata": {},
   "outputs": [
    {
     "name": "stdout",
     "output_type": "stream",
     "text": [
      "320 ns ± 1.81 ns per loop (mean ± std. dev. of 7 runs, 1000000 loops each)\n"
     ]
    }
   ],
   "source": [
    "time_numba = %timeit -o count_bits_numba(a)"
   ]
  },
  {
   "cell_type": "markdown",
   "metadata": {},
   "source": [
    "## Pythran"
   ]
  },
  {
   "cell_type": "code",
   "execution_count": 30,
   "metadata": {},
   "outputs": [],
   "source": [
    "%%pythran\n",
    "#pythran export count_bits_single_element_pythran(int)\n",
    "def count_bits_single_element_pythran(n):\n",
    "    \"\"\"\n",
    "    Count the number of bits that are set in `n`.\n",
    "\n",
    "    Parameters\n",
    "    ----------\n",
    "    n : int | np.ndarray\n",
    "        An integer number or a numpy array of integer numbers.\n",
    "\n",
    "    Returns\n",
    "    -------\n",
    "    Number of bits that are equal to 1 in the bit representation of the\n",
    "    number `n`.\n",
    "\n",
    "    Examples\n",
    "    --------\n",
    "    >>> a = np.array([3, 0, 2])\n",
    "    >>> print(count_bits(a))\n",
    "    [2 0 1]\n",
    "\n",
    "    \"\"\"\n",
    "    count = 0\n",
    "    while n > 0:\n",
    "        if n & 1 == 1:\n",
    "            count += 1\n",
    "        n >>= 1\n",
    "    return count\n",
    "\n",
    "#pythran export count_bits_pythran(int[])\n",
    "def count_bits_pythran(n_arr):    \n",
    "    return [count_bits_single_element_pythran(n) for n in n_arr]\n",
    "    "
   ]
  },
  {
   "cell_type": "code",
   "execution_count": 18,
   "metadata": {},
   "outputs": [
    {
     "name": "stdout",
     "output_type": "stream",
     "text": [
      "115 ns ± 0.346 ns per loop (mean ± std. dev. of 7 runs, 10000000 loops each)\n"
     ]
    }
   ],
   "source": [
    "time_pythran_single_element = %timeit -o count_bits_single_element_pythran(10)"
   ]
  },
  {
   "cell_type": "code",
   "execution_count": 31,
   "metadata": {},
   "outputs": [
    {
     "name": "stdout",
     "output_type": "stream",
     "text": [
      "208 ns ± 8.36 ns per loop (mean ± std. dev. of 7 runs, 1000000 loops each)\n"
     ]
    }
   ],
   "source": [
    "time_pythran = %timeit -o count_bits_pythran(a)"
   ]
  },
  {
   "cell_type": "markdown",
   "metadata": {},
   "source": [
    "# Reports"
   ]
  },
  {
   "cell_type": "code",
   "execution_count": 20,
   "metadata": {},
   "outputs": [
    {
     "name": "stdout",
     "output_type": "stream",
     "text": [
      "Python Single element (micro seconds): 0.4\n",
      "Cython Single element (micro seconds): 0.03\n",
      "Numba Single element (micro seconds): 0.13\n",
      "Pythran Single element (micro seconds): 0.12\n"
     ]
    }
   ],
   "source": [
    "print(f\"Python Single element (micro seconds): {1e6 * time_regular_python_single_element.average:.2}\")\n",
    "print(f\"Cython Single element (micro seconds): {1e6 * time_cython_single_element.average:.2}\")\n",
    "print(f\"Numba Single element (micro seconds): {1e6 * time_numba_single_element.average:.2}\")\n",
    "print(f\"Pythran Single element (micro seconds): {1e6 * time_pythran_single_element.average:.2}\")"
   ]
  },
  {
   "cell_type": "code",
   "execution_count": 32,
   "metadata": {},
   "outputs": [
    {
     "name": "stdout",
     "output_type": "stream",
     "text": [
      "Python (micro seconds): 1.2e+01\n",
      "Cython (micro seconds): 1.4\n",
      "Numba (micro seconds): 0.32\n",
      "Pythran (micro seconds): 0.21\n"
     ]
    }
   ],
   "source": [
    "print(f\"Python (micro seconds): {1e6 * time_regular_python.average:.2}\")\n",
    "print(f\"Cython (micro seconds): {1e6 * time_cython.average:.2}\")\n",
    "print(f\"Numba (micro seconds): {1e6 * time_numba.average:.2}\")\n",
    "print(f\"Pythran (micro seconds): {1e6 * time_pythran.average:.2}\")"
   ]
  }
 ],
 "metadata": {
  "kernelspec": {
   "display_name": "Python 3",
   "language": "python",
   "name": "python3"
  },
  "language_info": {
   "codemirror_mode": {
    "name": "ipython",
    "version": 3
   },
   "file_extension": ".py",
   "mimetype": "text/x-python",
   "name": "python",
   "nbconvert_exporter": "python",
   "pygments_lexer": "ipython3",
   "version": "3.8.2"
  }
 },
 "nbformat": 4,
 "nbformat_minor": 4
}
