{
 "metadata": {
  "name": "Alamouti Parallel"
 },
 "nbformat": 3,
 "nbformat_minor": 0,
 "worksheets": [
  {
   "cells": [
    {
     "cell_type": "markdown",
     "metadata": {},
     "source": [
      "Alamouti STBC\n",
      "=============\n",
      "\n",
      "This notebook illustrates the simulation of an Alamouti MIMO scheme transmission through a flat fading rayleight channel.\n",
      "\n",
      "We simulate the Alamouti STBC with a 16-QAM modulation, as well as BPSK modulation with 1 and two receive antennas.\n",
      "\n",
      "**Note: This notebook uses the parallel capabilities of IPython. Thus you need to start the engines in the cluster pannel before running the code here.**\n",
      "\n",
      "Initializations\n",
      "---------------\n",
      "\n",
      "First we create a IPython parallel client so that we can communicate with the engines."
     ]
    },
    {
     "cell_type": "code",
     "collapsed": false,
     "input": [
      "from IPython.parallel import Client\n",
      "cl = Client()\n",
      "cl.clear()  # Erases the workspace of the engines.\n",
      "bview = cl.load_balanced_view()  # Create a load balanced view that we will use later."
     ],
     "language": "python",
     "metadata": {},
     "outputs": []
    },
    {
     "cell_type": "markdown",
     "metadata": {},
     "source": [
      "Then we initialize the pylab inline in each engine.\n",
      "Note that we use the **%px** IPython cell magic to run the code in the cell for each engine."
     ]
    },
    {
     "cell_type": "code",
     "collapsed": false,
     "input": [
      "%%px\n",
      "%pylab inline\n",
      "from IPython.display import clear_output"
     ],
     "language": "python",
     "metadata": {},
     "outputs": []
    },
    {
     "cell_type": "markdown",
     "metadata": {},
     "source": [
      "Similarly, we set the Python path and import some libraries at each engine."
     ]
    },
    {
     "cell_type": "code",
     "collapsed": false,
     "input": [
      "%%px\n",
      "# xxxxxxxxxx Add the parent folder to the python path. xxxxxxxxxxxxxxxxxxxx\n",
      "import sys\n",
      "import os\n",
      "sys.path.append('../')\n",
      "# xxxxxxxxxxxxxxxxxxxxxxxxxxxxxxxxxxxxxxxxxxxxxxxxxxxxxxxxxxxxxxxxxxxxxxxxx\n",
      "\n",
      "import numpy as np"
     ],
     "language": "python",
     "metadata": {},
     "outputs": []
    },
    {
     "cell_type": "markdown",
     "metadata": {},
     "source": [
      "Because there is already an Alamouti simulator implemented in the \"apps\" folder of PyPhysim, we simple import it here and set the desired simulation parameters."
     ]
    },
    {
     "cell_type": "code",
     "collapsed": false,
     "input": [
      "%%px\n",
      "from comm.modulators import BPSK, QAM\n",
      "from apps.simulate_alamouti import AlamoutiSimulationRunner"
     ],
     "language": "python",
     "metadata": {},
     "outputs": []
    },
    {
     "cell_type": "markdown",
     "metadata": {},
     "source": [
      "## Simulation of Alamouti with 16-QAM\n",
      "\n",
      "First we create the SimulationRunner objects at each engine and set the parameters which are common to all engines. \n",
      "\n",
      "Note that the actual simulator is already implemented as an application in PyPhysim and we are only setting the parameters here."
     ]
    },
    {
     "cell_type": "code",
     "collapsed": false,
     "input": [
      "%%px\n",
      "sim = AlamoutiSimulationRunner()\n",
      "sim.NSymbs = 300\n",
      "sim.rep_max = 30000\n",
      "sim.params.add('SNR', np.linspace(0, 25, 11))\n",
      "#sim.modulator = QAM(16)\n",
      "#sim.Nr=1\n",
      "sim.update_progress_function_style = None\n",
      "# max_bit_errors is used in the _keep_going method to stop the\n",
      "# simulation earlier if possible. We stop the simulation if the\n",
      "# accumulated number of bit errors becomes greater then 0.1% of the\n",
      "# total number of simulated bits\n",
      "sim.max_bit_errors = sim.rep_max * sim.NSymbs * 0.001\n",
      "sim.clear()"
     ],
     "language": "python",
     "metadata": {},
     "outputs": []
    },
    {
     "cell_type": "markdown",
     "metadata": {},
     "source": [
      "We still need to set the **self.modulator** parameter with the desired modulator as well as the **self.Nr** parameter with the desired number of receive antennas. These values will differ at each engine.\n",
      "After that, we can call the simulate method to perform the actual simulation.\n",
      "\n",
      "Lets create a function that sets the modulator and number of receive antennas in the SimulationRunner object, calls its simulate method and then return the object. This is so that we can use the **map** method of a load_balanced_view."
     ]
    },
    {
     "cell_type": "code",
     "collapsed": false,
     "input": [
      "# Note that we run this on the local instance, instead of in the remote engines. That is, we do not use the %%px cell magic here.\n",
      "def set_params_and_simulate(params_list):\n",
      "    \"\"\"params_list must be a list with two elements, the modulator object, and the number of receive antennas.\"\"\"\n",
      "    modulator, Nr = params_list\n",
      "    sim.modulator = modulator\n",
      "    sim.Nr = Nr\n",
      "    \n",
      "    sim.simulate()\n",
      "    return sim"
     ],
     "language": "python",
     "metadata": {},
     "outputs": []
    },
    {
     "cell_type": "markdown",
     "metadata": {},
     "source": [
      "Now lets create all the combination of modulator and number of receive antennas."
     ]
    },
    {
     "cell_type": "code",
     "collapsed": false,
     "input": [
      "# xxxxxxxxxx Add the parent folder to the python path. xxxxxxxxxxxxxxxxxxxx\n",
      "import sys\n",
      "import os\n",
      "sys.path.append('../')\n",
      "# xxxxxxxxxxxxxxxxxxxxxxxxxxxxxxxxxxxxxxxxxxxxxxxxxxxxxxxxxxxxxxxxxxxxxxxxx\n",
      "from comm.modulators import BPSK, QAM\n",
      "combinations = [[QAM(16), 1], [QAM(16), 2], [BPSK(), 1], [BPSK(), 2]]"
     ],
     "language": "python",
     "metadata": {},
     "outputs": []
    },
    {
     "cell_type": "markdown",
     "metadata": {},
     "source": [
      "Now we can call the map_sync method of the balanced view to perform the simulations in parallel."
     ]
    },
    {
     "cell_type": "code",
     "collapsed": false,
     "input": [
      "from util.misc import pretty_time\n",
      "from time import time, sleep\n",
      "tic = time()\n",
      "results = bview.map_sync(set_params_and_simulate, combinations)\n",
      "toc = time()\n",
      "\n",
      "print \"Total elapsed time: {0}\".format(pretty_time(toc-tic))"
     ],
     "language": "python",
     "metadata": {},
     "outputs": []
    },
    {
     "cell_type": "markdown",
     "metadata": {},
     "source": [
      "Since we used the map_sync method, then **results** will be a list containing the SimulationRunner objects (since set_params_and_simulate returns the SimulationRunner object)\n",
      "\n",
      "Therefore, lets get the individual SimulationRunner objects."
     ]
    },
    {
     "cell_type": "code",
     "collapsed": false,
     "input": [
      "sim1, sim2, sim3, sim4 = results\n",
      "print \"Elapsed time sim1: {0}\".format(sim1.elapsed_time)\n",
      "print \"Elapsed time sim2: {0}\".format(sim2.elapsed_time)\n",
      "print \"Elapsed time sim3: {0}\".format(sim3.elapsed_time)\n",
      "print \"Elapsed time sim4: {0}\".format(sim4.elapsed_time)"
     ],
     "language": "python",
     "metadata": {},
     "outputs": []
    },
    {
     "cell_type": "markdown",
     "metadata": {},
     "source": [
      "## Plot the results"
     ]
    },
    {
     "cell_type": "markdown",
     "metadata": {},
     "source": [
      "With the SimulationRunner objects we can now get the results for each configuration.\n",
      "\n",
      "Lets get the results for 16-QAM modulation"
     ]
    },
    {
     "cell_type": "code",
     "collapsed": false,
     "input": [
      "SNR, ber1, ser1 = sim1.get_data_to_be_plotted()\n",
      "SNR, ber2, ser2 = sim2.get_data_to_be_plotted()"
     ],
     "language": "python",
     "metadata": {},
     "outputs": []
    },
    {
     "cell_type": "markdown",
     "metadata": {},
     "source": [
      "and now the results for BPSK modulation"
     ]
    },
    {
     "cell_type": "code",
     "collapsed": false,
     "input": [
      "SNR, ber3, ser3 = sim3.get_data_to_be_plotted()\n",
      "SNR, ber4, ser4 = sim4.get_data_to_be_plotted()"
     ],
     "language": "python",
     "metadata": {},
     "outputs": []
    },
    {
     "cell_type": "markdown",
     "metadata": {},
     "source": [
      "Now we have what we need to plot everything."
     ]
    },
    {
     "cell_type": "code",
     "collapsed": false,
     "input": [
      "fig, ax = subplots(1, 2, figsize=(16,5))\n",
      "ax1, ax2 = ax\n",
      "\n",
      "# Plot the 16-QAM results\n",
      "ax1.semilogy(SNR, ber1, '-k*', label='NTx=2, NRx=1')\n",
      "ax1.semilogy(SNR, ber2, '-m*', label='NTx=2, NRx=2')\n",
      "ax1.set_title('BER for {0} modulation with Alamouti (Rayleight channel)'.format(sim1.modulator.name))\n",
      "ax1.set_xlabel('SNR')\n",
      "ax1.set_ylabel('Error')\n",
      "ax1.legend()\n",
      "ax1.grid()\n",
      "\n",
      "# Plot the BPSK results\n",
      "ax2.semilogy(SNR, ber3, '-k*', label='NTx=2, NRx=1')\n",
      "ax2.semilogy(SNR, ber4, '-m*', label='NTx=2, NRx=2')\n",
      "ax2.set_title('BER for {0} modulation with Alamouti (Rayleight channel)'.format(sim3.modulator.name))\n",
      "ax2.set_xlabel('SNR')\n",
      "ax2.set_ylabel('Error')\n",
      "ax2.legend()\n",
      "ax2.grid()"
     ],
     "language": "python",
     "metadata": {},
     "outputs": []
    },
    {
     "cell_type": "markdown",
     "metadata": {},
     "source": [
      "--------------------------------"
     ]
    },
    {
     "cell_type": "code",
     "collapsed": false,
     "input": [
      "#%qtconsole"
     ],
     "language": "python",
     "metadata": {},
     "outputs": []
    }
   ],
   "metadata": {}
  }
 ]
}