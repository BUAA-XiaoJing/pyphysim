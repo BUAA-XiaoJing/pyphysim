{
 "cells": [
  {
   "cell_type": "code",
   "execution_count": null,
   "metadata": {
    "collapsed": false,
    "tags": [
     "worksheet-0"
    ]
   },
   "outputs": [],
   "source": [
    "%matplotlib inline"
   ]
  },
  {
   "cell_type": "code",
   "execution_count": null,
   "metadata": {
    "collapsed": false,
    "tags": [
     "worksheet-0"
    ]
   },
   "outputs": [],
   "source": [
    "import sys\n",
    "sys.path.append('../')\n",
    "from matplotlib import pyplot as plt"
   ]
  },
  {
   "cell_type": "code",
   "execution_count": null,
   "metadata": {
    "collapsed": false,
    "tags": [
     "worksheet-0"
    ]
   },
   "outputs": [],
   "source": [
    "from pyphysim.util.zadoffchu import calcBaseZC, getShiftedZF\n",
    "from pyphysim.comm.channels import TdlChannel, TdlChannelProfile, COST259_TUx, JakesSampleGenerator\n",
    "from pyphysim.util.conversion import linear2dB"
   ]
  },
  {
   "cell_type": "code",
   "execution_count": null,
   "metadata": {
    "collapsed": false,
    "tags": [
     "worksheet-0"
    ]
   },
   "outputs": [],
   "source": [
    "num_prbs = 25;        # Number of PRBs to simulate\n",
    "Nsc = 12 * num_prbs;  # Number of subcarriers\n",
    "Nzc = 139;            # Size of the sequence\n",
    "u = 25;               # Root sequence index\n",
    "\n",
    "# Generate the root sequence\n",
    "a_u = calcBaseZC(Nzc, u);\n",
    "\n",
    "print(\"Nsc: {0}\".format(Nsc))\n",
    "print(\"a_u.shape: {0}\".format(a_u.shape))"
   ]
  },
  {
   "cell_type": "markdown",
   "metadata": {
    "collapsed": true,
    "tags": [
     "worksheet-0"
    ]
   },
   "source": [
    "Note that the sequence size Nzc is lower then the number of subcarriers that will have elements of the Zadoff-Chu sequence. That is $Nzc \\leq 300/2 = 150$. Therefore, we will append new elements (creating a cyclic sequence)."
   ]
  },
  {
   "cell_type": "code",
   "execution_count": null,
   "metadata": {
    "collapsed": false,
    "tags": [
     "worksheet-0"
    ]
   },
   "outputs": [],
   "source": [
    "# Considering a_u currently has 139 elements, we need to append 11 elements to make 150\n",
    "# TODO: Make this automatically depending on the Nsc and Nzc values\n",
    "a_u = np.hstack([a_u, a_u[0:11]]);"
   ]
  },
  {
   "cell_type": "markdown",
   "metadata": {
    "collapsed": true,
    "tags": [
     "worksheet-0"
    ]
   },
   "source": [
    "# Create shifted sequences for 3 users\n",
    "\n",
    "First we arbitrarely choose some cyclic shift indexes and then we call `zadoffchu.getShiftedZF` to get the shifted sequence."
   ]
  },
  {
   "cell_type": "code",
   "execution_count": null,
   "metadata": {
    "collapsed": false,
    "tags": [
     "worksheet-0"
    ]
   },
   "outputs": [],
   "source": [
    "m_u1 = 1 # Cyclic shift index\n",
    "m_u2 = 4\n",
    "m_u3 = 7\n",
    "r1 = getShiftedZF(a_u, m_u1);\n",
    "r2 = getShiftedZF(a_u, m_u2);\n",
    "r3 = getShiftedZF(a_u, m_u3);"
   ]
  },
  {
   "cell_type": "markdown",
   "metadata": {
    "collapsed": true,
    "tags": [
     "worksheet-0"
    ]
   },
   "source": [
    "# Generate channels from users to the BS\n",
    "\n",
    "Now it's time to transmit the shifted sequences. We need to create the fading channels from two users to some BS."
   ]
  },
  {
   "cell_type": "code",
   "execution_count": null,
   "metadata": {
    "collapsed": false,
    "tags": [
     "worksheet-0"
    ]
   },
   "outputs": [],
   "source": [
    "speedTerminal = 3/3.6        # Speed in m/s\n",
    "fcDbl = 2.6e9                # Central carrier frequency (in Hz)\n",
    "timeTTIDbl = 1e-3            # Time of a single TTI\n",
    "subcarrierBandDbl = 15e3     # Subcarrier bandwidth (in Hz)\n",
    "numOfSubcarriersPRBInt = 12  # Number of subcarriers in each PRB          \n",
    "\n",
    "# xxxxxxxxxx Dependent parametersxxxxxxxxxxxxxxxxxxxxxxxxxxxxxxxx\n",
    "lambdaDbl = 3e8/fcDbl        # Carrier wave length\n",
    "Fd = speedTerminal / lambdaDbl\n",
    "Ts = 1./(Nsc * subcarrierBandDbl)"
   ]
  },
  {
   "cell_type": "code",
   "execution_count": null,
   "metadata": {
    "collapsed": false,
    "tags": [
     "worksheet-0"
    ]
   },
   "outputs": [],
   "source": [
    "L = 16      # The number of rays for the Jakes model.\n",
    "# Jakes sample generator for each user.\n",
    "jakes1 = JakesSampleGenerator(Fd, Ts, L)\n",
    "jakes2 = JakesSampleGenerator(Fd, Ts, L)\n",
    "jakes3 = JakesSampleGenerator(Fd, Ts, L)\n",
    "\n",
    "# Create a TDL channel object for each user\n",
    "tdlchannel1 = TdlChannel(jakes1, \n",
    "                         COST259_TUx.tap_powers, \n",
    "                         COST259_TUx.tap_delays)\n",
    "tdlchannel2 = TdlChannel(jakes2, \n",
    "                         COST259_TUx.tap_powers, \n",
    "                         COST259_TUx.tap_delays)\n",
    "tdlchannel3 = TdlChannel(jakes3, \n",
    "                         COST259_TUx.tap_powers, \n",
    "                         COST259_TUx.tap_delays)\n",
    "\n",
    "# Compute the fading map for each user\n",
    "fadingmap1 = tdlchannel1.get_fading_map(1)\n",
    "fadingmap2 = tdlchannel2.get_fading_map(1)\n",
    "fadingmap3 = tdlchannel3.get_fading_map(1)\n",
    "\n",
    "freqResponse1 = tdlchannel1.get_channel_freq_response(fadingmap1, Nsc)\n",
    "freqResponse2 = tdlchannel2.get_channel_freq_response(fadingmap2, Nsc)\n",
    "freqResponse3 = tdlchannel3.get_channel_freq_response(fadingmap3, Nsc)"
   ]
  },
  {
   "cell_type": "code",
   "execution_count": null,
   "metadata": {
    "collapsed": true
   },
   "outputs": [],
   "source": [
    "# OPTIONAL: Save the channels for loading in MATLAB\n",
    "import scipy.io as sio\n",
    "sio.savemat('channel_freq_resp.mat', {\n",
    "        'freqResponse1':freqResponse1, \n",
    "        'freqResponse2':freqResponse2,\n",
    "        'freqResponse3':freqResponse3})"
   ]
  },
  {
   "cell_type": "markdown",
   "metadata": {
    "collapsed": true,
    "tags": [
     "worksheet-0"
    ]
   },
   "source": [
    "Finally we have a channel (freq. response) for each user."
   ]
  },
  {
   "cell_type": "code",
   "execution_count": null,
   "metadata": {
    "collapsed": false,
    "tags": [
     "worksheet-0"
    ]
   },
   "outputs": [],
   "source": [
    "# Each channel is the frequency response in 300 subcarriers\n",
    "H1 = freqResponse1[:,0]\n",
    "H2 = freqResponse2[:,0]\n",
    "H3 = freqResponse3[:,0]\n",
    "\n",
    "h1 = np.fft.ifft(H1)\n",
    "h2 = np.fft.ifft(H2)\n",
    "h3 = np.fft.ifft(H3)"
   ]
  },
  {
   "cell_type": "code",
   "execution_count": null,
   "metadata": {
    "collapsed": false,
    "tags": [
     "worksheet-0"
    ]
   },
   "outputs": [],
   "source": [
    "plt.figure(figsize=(16,6))\n",
    "plt.subplot(1,2,1)\n",
    "plt.plot(np.abs(H1))\n",
    "plt.title('Channel in Freq. Domain')\n",
    "plt.subplot(1,2,2)\n",
    "plt.stem(np.abs(h1[0:40]))\n",
    "plt.title('Channel Impulse Response')\n",
    "plt.show()"
   ]
  },
  {
   "cell_type": "code",
   "execution_count": null,
   "metadata": {
    "collapsed": false,
    "tags": [
     "worksheet-0"
    ]
   },
   "outputs": [],
   "source": [
    "plt.figure(figsize=(16,6))\n",
    "plt.subplot(1,2,1)\n",
    "plt.plot(np.abs(H2))\n",
    "plt.title('Channel in Freq. Domain')\n",
    "plt.subplot(1,2,2)\n",
    "plt.stem(np.abs(h2[0:40]))\n",
    "plt.title('Channel Impulse Response')\n",
    "plt.show()"
   ]
  },
  {
   "cell_type": "code",
   "execution_count": null,
   "metadata": {
    "collapsed": false,
    "tags": [
     "worksheet-0"
    ]
   },
   "outputs": [],
   "source": [
    "plt.figure(figsize=(16,6))\n",
    "plt.subplot(1,2,1)\n",
    "plt.plot(np.abs(H3))\n",
    "plt.title('Channel in Freq. Domain')\n",
    "plt.subplot(1,2,2)\n",
    "plt.stem(np.abs(h3[0:40]))\n",
    "plt.title('Channel Impulse Response')\n",
    "plt.show()"
   ]
  },
  {
   "cell_type": "markdown",
   "metadata": {
    "collapsed": true,
    "tags": [
     "worksheet-0"
    ]
   },
   "source": [
    "## Perform the transmission\n",
    "\n",
    "First we need to prepare the input data from our shifted Zadoff-Chu sequences.\n",
    "\n",
    "To makes things clear, let's start transmiting a single sequence and we **won't** include the white noise. Since we use a *comb* to transmit the SRS sequence, we will use Nsc/2 subcarriers from the Nsc subcarriers from a **comb like pattern**."
   ]
  },
  {
   "cell_type": "code",
   "execution_count": null,
   "metadata": {
    "collapsed": false,
    "tags": [
     "worksheet-0"
    ]
   },
   "outputs": [],
   "source": [
    "comb_indexes = np.arange(0, Nsc, 2)\n",
    "\n",
    "# Note that this is the received signal in the frequency domain\n",
    "# Here we are not summing users\n",
    "Y1 = H1[comb_indexes] * r1\n",
    "Y2 = H2[comb_indexes] * r2\n",
    "Y3 = H3[comb_indexes] * r3\n",
    "\n",
    "# Complete transmit signal summing all users\n",
    "Y = Y1 + Y2 + Y3;\n",
    "\n",
    "print(\"Size of Y: {0}\".format(Y.size))"
   ]
  },
  {
   "cell_type": "markdown",
   "metadata": {
    "collapsed": true,
    "tags": [
     "worksheet-0"
    ]
   },
   "source": [
    "According to the paper, \n",
    "\n",
    "> ... the received\n",
    "frequency-domain sequence Y is element-wise multiplied with\n",
    "the complex conjugate of the expected root sequence X before\n",
    "the IDFT. This provides in one shot\n",
    "the concatenated CIRs of all UEs multiplexed on the same root\n",
    "sequence."
   ]
  },
  {
   "cell_type": "markdown",
   "metadata": {
    "collapsed": true,
    "tags": [
     "worksheet-0"
    ]
   },
   "source": [
    "Just for checking let's get the plot of the received signal if **only** users 1 transmits."
   ]
  },
  {
   "cell_type": "code",
   "execution_count": null,
   "metadata": {
    "collapsed": false,
    "tags": [
     "worksheet-0"
    ]
   },
   "outputs": [],
   "source": [
    "# Just for checking let's get the plot of the received signal if only users 1 transmits.\n",
    "y1 = np.fft.ifft(np.conj(r1) * Y1)\n",
    "plt.figure(figsize=(16,6))\n",
    "plt.subplot(1,2,1)\n",
    "plt.stem(np.abs(y1[0:40]))\n",
    "plt.title(\"Estimated impulse response\")\n",
    "plt.subplot(1,2,2)\n",
    "plt.stem(np.abs(h1[0:40]))\n",
    "plt.title(\"True impulse response\")\n",
    "plt.show()"
   ]
  },
  {
   "cell_type": "markdown",
   "metadata": {
    "collapsed": true,
    "tags": [
     "worksheet-0"
    ]
   },
   "source": [
    "And for user 2."
   ]
  },
  {
   "cell_type": "code",
   "execution_count": null,
   "metadata": {
    "collapsed": false,
    "tags": [
     "worksheet-0"
    ]
   },
   "outputs": [],
   "source": [
    "# Just for checking let's get the plot of the received signal if only users 1 transmits.\n",
    "y2 = np.fft.ifft(np.conj(r2) * Y2)\n",
    "plt.figure(figsize=(16,6))\n",
    "plt.subplot(1,2,1)\n",
    "plt.stem(np.abs(y2[0:40]))\n",
    "plt.title(\"Estimated impulse response\")\n",
    "plt.subplot(1,2,2)\n",
    "plt.stem(np.abs(h2[0:40]))\n",
    "plt.title(\"True impulse response\")\n",
    "plt.show()"
   ]
  },
  {
   "cell_type": "markdown",
   "metadata": {
    "collapsed": true,
    "tags": [
     "worksheet-0"
    ]
   },
   "source": [
    "And for user 3."
   ]
  },
  {
   "cell_type": "code",
   "execution_count": null,
   "metadata": {
    "collapsed": false,
    "tags": [
     "worksheet-0"
    ]
   },
   "outputs": [],
   "source": [
    "# Just for checking let's get the plot of the received signal if only users 1 transmits.\n",
    "y3 = np.fft.ifft(np.conj(r3) * Y3)\n",
    "plt.figure(figsize=(16,6))\n",
    "plt.subplot(1,2,1)\n",
    "plt.stem(np.abs(y3[0:40]))\n",
    "plt.title(\"Estimated impulse response\")\n",
    "plt.subplot(1,2,2)\n",
    "plt.stem(np.abs(h3[0:40]))\n",
    "plt.title(\"True impulse response\")\n",
    "plt.show()"
   ]
  },
  {
   "cell_type": "markdown",
   "metadata": {
    "collapsed": true,
    "tags": [
     "worksheet-0"
    ]
   },
   "source": [
    "Now let's get the plot of the signal considering that all users transmitted. Notice how the part due to user 1 in the plot is the same channel when only user 1 transmitted. This indicates that Zadoff-chu 0 cross correlation is indeed working."
   ]
  },
  {
   "cell_type": "code",
   "execution_count": null,
   "metadata": {
    "collapsed": false,
    "tags": [
     "worksheet-0"
    ]
   },
   "outputs": [],
   "source": [
    "y = np.fft.ifft(np.conj(a_u) * Y, 150)\n",
    "plt.figure(figsize=(12,6))\n",
    "plt.stem(np.abs(y))\n",
    "plt.show()\n"
   ]
  },
  {
   "cell_type": "markdown",
   "metadata": {
    "collapsed": true,
    "tags": [
     "worksheet-0"
    ]
   },
   "source": [
    "# Estimate the channels\n",
    "\n",
    "Since we get a concatenation of the impulse response of the different users, we need to know for each users we need to know the first and the last sample index corresponding to the particular user's impulse response.\n",
    "\n",
    "Since we have Nsc subcarriers, from which we will use $Nsc/2$, and we have 3 users, we can imagine that each user can have up to $Nsc/(2*3)$ samples, which for $Nsc=300$ corresponds to 50 subcarriers.\n",
    "\n",
    "\n",
    "Now let's estimate the channel of the first user.\n",
    "First let's check again what is the shift used by the first user."
   ]
  },
  {
   "cell_type": "code",
   "execution_count": null,
   "metadata": {
    "collapsed": false,
    "tags": [
     "worksheet-0"
    ]
   },
   "outputs": [],
   "source": [
    "m_u1"
   ]
  },
  {
   "cell_type": "markdown",
   "metadata": {
    "collapsed": true,
    "tags": [
     "worksheet-0"
    ]
   },
   "source": [
    "For an index equal to 1 the starting sample of the first user will be 101 and the ending sample will be 101+50-1=150."
   ]
  },
  {
   "cell_type": "code",
   "execution_count": null,
   "metadata": {
    "collapsed": false,
    "tags": [
     "worksheet-0"
    ]
   },
   "outputs": [],
   "source": [
    "def plot_channel_responses(h, tilde_h):\n",
    "    \"\"\"Plot the estimated and true channel responses\n",
    "\n",
    "    Parameters\n",
    "    ----------\n",
    "    h : numpy complex array\n",
    "        The true channel impulse response\n",
    "    tilde_h : numpy complex array\n",
    "        The estimated channel impulse response\n",
    "    \"\"\"\n",
    "    H = np.fft.fft(h)\n",
    "    tilde_H = np.fft.fft(tilde_h, Nsc)\n",
    "\n",
    "    plt.figure(figsize=(16,12))\n",
    "\n",
    "    # Plot estimated impulse response\n",
    "    ax1 = plt.subplot2grid((3,2), (0,0))\n",
    "    ax1.stem(np.abs(tilde_h[0:20]))\n",
    "    plt.xlabel(\"Time sample\")\n",
    "    plt.ylabel(\"Amplitude (abs)\")\n",
    "    plt.title(\"Estimated Impulse Response\")\n",
    "    plt.grid()\n",
    "\n",
    "    # Plot TRUE impulse response\n",
    "    ax2 = plt.subplot2grid((3,2), (0,1))\n",
    "    ax2.stem(np.abs(h[0:20]),'g')\n",
    "    plt.xlabel(\"Time sample\")\n",
    "    plt.ylabel(\"Amplitude (abs)\")\n",
    "    plt.xlabel(\"Time sample\")\n",
    "    plt.title(\"True Impulse Response\")\n",
    "    plt.grid()\n",
    "\n",
    "    # Plot estimated frequency response (absolute value)\n",
    "    ax3 = plt.subplot2grid((3,2), (1,0), colspan=2)\n",
    "    plt.plot(np.abs(tilde_H))\n",
    "    #plt.xlabel(\"Subcarrier\")\n",
    "    plt.ylabel(\"Amplitude (abs)\")\n",
    "    plt.title(\"Frequency Response (abs)\")\n",
    "    ax3.hold(True)\n",
    "\n",
    "    # Plot TRUE frequency response (absolute value)\n",
    "    #plt.subplot(3,2,4)\n",
    "    ax3.plot(np.abs(H), 'g')\n",
    "    plt.grid()\n",
    "    plt.legend([\"Estimated Value\", \"True Value\"], loc='upper left')\n",
    "\n",
    "    # Plot estimated frequency response (angle)\n",
    "    ax4 = plt.subplot2grid((3,2), (2,0), colspan=2)\n",
    "    ax4.plot(np.angle(tilde_H))\n",
    "    plt.xlabel(\"Subcarrier\")\n",
    "    plt.ylabel(\"Angle (phase)\")\n",
    "    plt.title(\"Frequency Response (phase)\")\n",
    "    ax4.hold(True)\n",
    "\n",
    "    # Plot TRUE frequency response (angle)\n",
    "    ax4.plot(np.angle(H),'g')\n",
    "    plt.grid()\n",
    "    plt.legend([\"Estimated Value\", \"True Value\"], loc='upper left')\n",
    "\n",
    "    # Show the plots\n",
    "    plt.show()\n"
   ]
  },
  {
   "cell_type": "code",
   "execution_count": null,
   "metadata": {
    "collapsed": true
   },
   "outputs": [],
   "source": [
    "def plot_normalized_squared_error(H, tilde_H):\n",
    "    \"\"\"Plot the normalized squared error (in dB).\n",
    "\n",
    "    Parameters\n",
    "    ----------\n",
    "    H : numpy complex array\n",
    "        The true channel frequency response\n",
    "    tilde_H : numpy complex array\n",
    "        The estimated channel frequency response\n",
    "    \"\"\"\n",
    "    plt.figure(figsize=(12,8))\n",
    "    error = np.abs(tilde_H - H)**2 / (np.abs(H)**2)\n",
    "    plt.plot(linear2dB(error))\n",
    "    plt.title(\"Normalized Squared Error\")\n",
    "    plt.xlabel(\"Subcarrier\")\n",
    "    plt.ylabel(\"Normalized Squared Error (in dB)\")\n",
    "    plt.grid()\n",
    "    plt.show()"
   ]
  },
  {
   "cell_type": "code",
   "execution_count": null,
   "metadata": {
    "collapsed": false,
    "tags": [
     "worksheet-0"
    ]
   },
   "outputs": [],
   "source": [
    "y = np.fft.ifft(np.conj(r1) * Y, 150)\n",
    "tilde_h1 = y[0:20]\n",
    "\n",
    "plot_channel_responses(h1, tilde_h1)"
   ]
  },
  {
   "cell_type": "markdown",
   "metadata": {
    "collapsed": true,
    "tags": [
     "worksheet-0"
    ]
   },
   "source": [
    "Now we will compute the squared error in each subcarrier."
   ]
  },
  {
   "cell_type": "code",
   "execution_count": null,
   "metadata": {
    "collapsed": false,
    "tags": [
     "worksheet-0"
    ]
   },
   "outputs": [],
   "source": [
    "tilde_H1 = np.fft.fft(tilde_h1, Nsc)\n",
    "plot_normalized_squared_error(H1, tilde_H1)"
   ]
  },
  {
   "cell_type": "code",
   "execution_count": null,
   "metadata": {
    "collapsed": false,
    "tags": [
     "worksheet-0"
    ]
   },
   "outputs": [],
   "source": [
    "y = np.fft.ifft(np.conj(r2) * Y, 150)\n",
    "tilde_h2 = y[0:20]\n",
    "\n",
    "plot_channel_responses(h2, tilde_h2)"
   ]
  },
  {
   "cell_type": "code",
   "execution_count": null,
   "metadata": {
    "collapsed": false
   },
   "outputs": [],
   "source": [
    "tilde_H2 = np.fft.fft(tilde_h2, Nsc)\n",
    "plot_normalized_squared_error(H2, tilde_H2)"
   ]
  },
  {
   "cell_type": "code",
   "execution_count": null,
   "metadata": {
    "collapsed": false,
    "tags": [
     "worksheet-0"
    ]
   },
   "outputs": [],
   "source": [
    "y = np.fft.ifft(np.conj(r3) * Y, 150)\n",
    "tilde_h3 = y[0:11]\n",
    "\n",
    "plot_channel_responses(h3, tilde_h3)"
   ]
  },
  {
   "cell_type": "code",
   "execution_count": null,
   "metadata": {
    "collapsed": false
   },
   "outputs": [],
   "source": [
    "tilde_H3 = np.fft.fft(tilde_h3, Nsc)\n",
    "plot_normalized_squared_error(H3, tilde_H3)"
   ]
  },
  {
   "cell_type": "markdown",
   "metadata": {},
   "source": [
    "## Estimated the channels from corrupted (white noise) signal\n",
    "\n",
    "Now we will add some white noise to Y"
   ]
  },
  {
   "cell_type": "code",
   "execution_count": null,
   "metadata": {
    "collapsed": false
   },
   "outputs": [],
   "source": [
    "# Add white noise\n",
    "noise_var = 1e-2\n",
    "Y_noised = Y + np.sqrt(noise_var/2.) * (np.random.randn(Nsc//2) + 1j * np.random.randn(Nsc//2))"
   ]
  },
  {
   "cell_type": "code",
   "execution_count": null,
   "metadata": {
    "collapsed": false
   },
   "outputs": [],
   "source": [
    "y_noised = np.fft.ifft(np.conj(r2) * Y_noised, 150)\n",
    "tilde_h2_noised = y_noised[0:20]\n",
    "\n",
    "plot_channel_responses(h2, tilde_h2_noised)"
   ]
  },
  {
   "cell_type": "code",
   "execution_count": null,
   "metadata": {
    "collapsed": false
   },
   "outputs": [],
   "source": [
    "tilde_H2_noised = np.fft.fft(tilde_h2_noised, Nsc)\n",
    "plot_normalized_squared_error(H2, tilde_H2_noised)"
   ]
  }
 ],
 "metadata": {
  "kernelspec": {
   "display_name": "IPython (Python 3)",
   "language": "python",
   "name": "python3"
  },
  "language_info": {
   "codemirror_mode": {
    "name": "ipython",
    "version": 3
   },
   "file_extension": ".py",
   "mimetype": "text/x-python",
   "name": "python",
   "nbconvert_exporter": "python",
   "pygments_lexer": "ipython3",
   "version": "3.4.3"
  },
  "name": "ZadoffchuChannelEstimation.ipynb"
 },
 "nbformat": 4,
 "nbformat_minor": 0
}
