{
 "cells": [
  {
   "cell_type": "markdown",
   "metadata": {},
   "source": [
    "# Simulation of the METIS scenario with rooms in one floor"
   ]
  },
  {
   "cell_type": "markdown",
   "metadata": {},
   "source": [
    "This notebook simulates a scenario with different access point densities. The access points are placed in every other room and each room has walls that causes some signal power loss."
   ]
  },
  {
   "cell_type": "markdown",
   "metadata": {},
   "source": [
    "<span style=\"color:red;\">Note</span>: In order for `%matplotlib widget` to work in jupyterlab you need to install the `ipympl` package as well as two jupyterlab extensions.\n",
    "The package can be installed with \n",
    "    \n",
    "```bash\n",
    "conda install -c conda-forge ipympl\n",
    "```\n",
    "\n",
    "The extensions can be installed with\n",
    "    \n",
    "```bash\n",
    "jupyter labextension install @jupyter-widgets/jupyterlab-manager\n",
    "jupyter labextension install jupyter-matplotlib\n",
    "```"
   ]
  },
  {
   "cell_type": "code",
   "execution_count": 7,
   "metadata": {
    "collapsed": false,
    "jupyter": {
     "outputs_hidden": false
    }
   },
   "outputs": [],
   "source": [
    "%matplotlib widget\n",
    "\n",
    "# xxxxxxxxxx Add the parent folder to the python path. xxxxxxxxxxxxxxxxxxxx\n",
    "import sys\n",
    "import os\n",
    "sys.path.append('../')\n",
    "# xxxxxxxxxxxxxxxxxxxxxxxxxxxxxxxxxxxxxxxxxxxxxxxxxxxxxxxxxxxxxxxxxxxxxxxxx\n",
    "from matplotlib import pyplot as plt\n",
    "import numpy as np\n",
    "\n",
    "from ipywidgets.widgets import interact, interactive, fixed\n",
    "from IPython.html import widgets\n",
    "from IPython.display import display_latex\n",
    "\n",
    "# Import the simulation runner\n",
    "from apps.metis_scenarios.simulate_metis_scenario2 import *"
   ]
  },
  {
   "cell_type": "markdown",
   "metadata": {},
   "source": [
    "## Simulation Configuration"
   ]
  },
  {
   "cell_type": "markdown",
   "metadata": {},
   "source": [
    "Now we set the simulation configuration."
   ]
  },
  {
   "cell_type": "code",
   "execution_count": 5,
   "metadata": {
    "collapsed": false,
    "jupyter": {
     "outputs_hidden": false
    }
   },
   "outputs": [],
   "source": [
    "scenario_params = {\n",
    "    'side_length': 10,  # 10 meters side length\n",
    "    'single_wall_loss_dB': 5,\n",
    "    'num_rooms_per_side': 12,\n",
    "    'ap_decimation': 2}\n",
    "\n",
    "power_params = {\n",
    "    'Pt_dBm': 20,  # 20 dBm transmit power\n",
    "    'noise_power_dBm': -300  # Very low noise power\n",
    "}"
   ]
  },
  {
   "cell_type": "markdown",
   "metadata": {},
   "source": [
    "## Perform the Simulation"
   ]
  },
  {
   "cell_type": "markdown",
   "metadata": {},
   "source": [
    "calculate the SINRs and capacity"
   ]
  },
  {
   "cell_type": "code",
   "execution_count": 8,
   "metadata": {
    "collapsed": false,
    "jupyter": {
     "outputs_hidden": false
    }
   },
   "outputs": [
    {
     "name": "stdout",
     "output_type": "stream",
     "text": [
      "\n",
      "Min/Mean/Max SINR value (METIS PS7):\n",
      "    -2.8825177951152354\n",
      "    24.786521205502535\n",
      "    54.89042989166305\n",
      "\n",
      "Min/Mean/Max Capacity value (METIS PS7):\n",
      "    0.24557410367953877\n",
      "    4.053835497453433\n",
      "    14.500528637845253\n"
     ]
    },
    {
     "data": {
      "application/vnd.jupyter.widget-view+json": {
       "model_id": "3c0218b8700c4aa2a1ff032259c294cf",
       "version_major": 2,
       "version_minor": 0
      },
      "text/plain": [
       "Canvas(toolbar=Toolbar(toolitems=[('Home', 'Reset original view', 'home', 'home'), ('Back', 'Back to previous …"
      ]
     },
     "metadata": {},
     "output_type": "display_data"
    }
   ],
   "source": [
    "out = perform_simulation(scenario_params, power_params)\n",
    "sinr_array_pl_metis_ps7_dB, capacity_metis_ps7 = out"
   ]
  }
 ],
 "metadata": {
  "kernelspec": {
   "display_name": "Python 3",
   "language": "python",
   "name": "python3"
  },
  "language_info": {
   "codemirror_mode": {
    "name": "ipython",
    "version": 3
   },
   "file_extension": ".py",
   "mimetype": "text/x-python",
   "name": "python",
   "nbconvert_exporter": "python",
   "pygments_lexer": "ipython3",
   "version": "3.7.6"
  }
 },
 "nbformat": 4,
 "nbformat_minor": 4
}
