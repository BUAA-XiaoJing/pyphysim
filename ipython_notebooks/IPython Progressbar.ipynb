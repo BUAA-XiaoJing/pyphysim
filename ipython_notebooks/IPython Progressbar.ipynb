{
 "metadata": {
  "name": "",
  "signature": "sha256:f7ff54a9a173bc8a04fcdf964ef80659cfcdd797715f2c9a711dd9845d022803"
 },
 "nbformat": 3,
 "nbformat_minor": 0,
 "worksheets": [
  {
   "cells": [
    {
     "cell_type": "code",
     "collapsed": false,
     "input": [
      "from IPython.display import clear_output, display"
     ],
     "language": "python",
     "metadata": {},
     "outputs": [],
     "prompt_number": 1
    },
    {
     "cell_type": "code",
     "collapsed": false,
     "input": [
      "# xxxxxxxxxx Add the parent folder to the python path. xxxxxxxxxxxxxxxxxxxx\n",
      "import sys\n",
      "import os\n",
      "sys.path.append('../')\n",
      "# xxxxxxxxxxxxxxxxxxxxxxxxxxxxxxxxxxxxxxxxxxxxxxxxxxxxxxxxxxxxxxxxxxxxxxxxx\n",
      "\n",
      "import numpy as np\n",
      "from time import sleep"
     ],
     "language": "python",
     "metadata": {},
     "outputs": [],
     "prompt_number": 2
    },
    {
     "cell_type": "code",
     "collapsed": false,
     "input": [
      "from pyphysim.simulations.progressbar import *\n",
      "from pyphysim.simulations.runner import *\n",
      "from pyphysim.simulations.results import *"
     ],
     "language": "python",
     "metadata": {},
     "outputs": [],
     "prompt_number": 3
    },
    {
     "cell_type": "code",
     "collapsed": false,
     "input": [
      "bar = ProgressBarIPython(20, 'Simulating $a+2^2$')\n",
      "\n",
      "bar.progress(2)"
     ],
     "language": "python",
     "metadata": {},
     "outputs": [],
     "prompt_number": 4
    },
    {
     "cell_type": "code",
     "collapsed": false,
     "input": [
      "bar.progress(10)"
     ],
     "language": "python",
     "metadata": {},
     "outputs": [],
     "prompt_number": 5
    },
    {
     "cell_type": "code",
     "collapsed": false,
     "input": [
      "from IPython.html.widgets import *"
     ],
     "language": "python",
     "metadata": {},
     "outputs": [],
     "prompt_number": 6
    },
    {
     "cell_type": "code",
     "collapsed": false,
     "input": [
      "bar2 = IntProgressWidget(description='lala')"
     ],
     "language": "python",
     "metadata": {},
     "outputs": [],
     "prompt_number": 7
    },
    {
     "cell_type": "code",
     "collapsed": false,
     "input": [
      "bar2.value=50.5\n",
      "bar.prog_bar.value=50.5"
     ],
     "language": "python",
     "metadata": {},
     "outputs": [],
     "prompt_number": 8
    },
    {
     "cell_type": "code",
     "collapsed": false,
     "input": [
      "p = FloatProgressWidget()\n",
      "p.value = 30\n",
      "t = TextWidget()\n",
      "t.value = ''\n",
      "t.visible = True\n",
      "container = ContainerWidget()\n",
      "container.children = [p, t]\n",
      "display(container)\n",
      "container.remove_class('vbox')\n",
      "container.add_class('hbox')"
     ],
     "language": "python",
     "metadata": {},
     "outputs": [],
     "prompt_number": 9
    },
    {
     "cell_type": "heading",
     "level": 1,
     "metadata": {},
     "source": [
      "Vamos tentar com o SImulationRunner"
     ]
    },
    {
     "cell_type": "code",
     "collapsed": false,
     "input": [
      "class MyRunner(SimulationRunner):\n",
      "    def __init__(self):\n",
      "        SimulationRunner.__init__(self, read_command_line_args=False)\n",
      "        self.rep_max = 50\n",
      "        self.update_progress_function_style = 'ipython' #'ipython'\n",
      "        \n",
      "    def _run_simulation(self, current_parameters):\n",
      "        sleep(0.1)\n",
      "        return SimulationResults()\n",
      "    \n",
      "runner = MyRunner()\n",
      "runner.simulate()    "
     ],
     "language": "python",
     "metadata": {},
     "outputs": [],
     "prompt_number": 10
    },
    {
     "cell_type": "code",
     "collapsed": false,
     "input": [
      "rep_max = 30\n",
      "barra = ProgressBarIPython(rep_max, 'This is the message')\n",
      "barra.side_message.set_css({\n",
      "        'margin-left': '10pt',\n",
      "        #'margin-bottom': '20pt',\n",
      "    })\n",
      "for i in range(rep_max+1):\n",
      "    sleep(0.1)\n",
      "    barra.progress(i)"
     ],
     "language": "python",
     "metadata": {},
     "outputs": [],
     "prompt_number": 11
    }
   ],
   "metadata": {}
  }
 ]
}