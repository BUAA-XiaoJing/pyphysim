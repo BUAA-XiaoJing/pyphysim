{
 "metadata": {
  "name": ""
 },
 "nbformat": 3,
 "nbformat_minor": 0,
 "worksheets": [
  {
   "cells": [
    {
     "cell_type": "heading",
     "level": 1,
     "metadata": {},
     "source": [
      "Max SINR IA Algorithm"
     ]
    },
    {
     "cell_type": "markdown",
     "metadata": {},
     "source": [
      "This notebook simulates the Closed Form Interference Alignment algorithm."
     ]
    },
    {
     "cell_type": "heading",
     "level": 2,
     "metadata": {},
     "source": [
      "Some initialization code"
     ]
    },
    {
     "cell_type": "code",
     "collapsed": false,
     "input": [
      "%pylab inline\n",
      "# xxxxxxxxxx Add the parent folder to the python path. xxxxxxxxxxxxxxxxxxxx\n",
      "import sys\n",
      "import os\n",
      "pyphysim_folder = \"~/cvs_files/pyphysim/\"\n",
      "pyphysim_folder = os.path.expanduser(pyphysim_folder)\n",
      "sys.path.append(pyphysim_folder)\n",
      "# xxxxxxxxxxxxxxxxxxxxxxxxxxxxxxxxxxxxxxxxxxxxxxxxxxxxxxxxxxxxxxxxxxxxxxxxx\n",
      "\n",
      "import numpy as np\n",
      "\n",
      "# Import the simulation runner\n",
      "from apps.simulate_ia import MaxSINRSimulationRunner\n",
      "from pyphysim.simulations import results\n",
      "\n",
      "# We will use clear_output to erase the progressbar after the simulation has finished.\n",
      "from IPython.display import clear_output\n",
      "\n",
      "# We will use pprint to print the simulation parameters\n",
      "from pprint import pprint"
     ],
     "language": "python",
     "metadata": {},
     "outputs": [
      {
       "output_type": "stream",
       "stream": "stdout",
       "text": [
        "Populating the interactive namespace from numpy and matplotlib\n"
       ]
      }
     ],
     "prompt_number": 1
    },
    {
     "cell_type": "heading",
     "level": 2,
     "metadata": {},
     "source": [
      "Run the algorithm with 120 iterations"
     ]
    },
    {
     "cell_type": "markdown",
     "metadata": {},
     "source": [
      "The configuration of the simulation is in the 'ia_config_file_120.txt' file. You can edit and run the cell below to update the configuration file."
     ]
    },
    {
     "cell_type": "code",
     "collapsed": false,
     "input": [
      "%%file ia_config_file_120.txt\n",
      "\n",
      "[Scenario]\n",
      "        SNR = [  0.   5.  10.  15.  20.  25.  30.]\n",
      "        M = 4\n",
      "        modulator = PSK\n",
      "        NSymbs = 100\n",
      "        K = 3\n",
      "        Nr = 2\n",
      "        Nt = 2\n",
      "        Ns = 1\n",
      "[IA Algorithm]\n",
      "        max_iterations = 120\n",
      "[General]\n",
      "        rep_max = 50\n",
      "        max_bit_errors = 10000\n",
      "        unpacked_parameters = SNR,"
     ],
     "language": "python",
     "metadata": {},
     "outputs": [
      {
       "output_type": "stream",
       "stream": "stdout",
       "text": [
        "Overwriting ia_config_file_120.txt\n"
       ]
      }
     ],
     "prompt_number": 2
    },
    {
     "cell_type": "markdown",
     "metadata": {},
     "source": [
      "First we need to create a \"view\" of the engines. Note that you need to start the engines before calling the code below."
     ]
    },
    {
     "cell_type": "code",
     "collapsed": false,
     "input": [
      "from IPython.parallel import Client\n",
      "cl = Client()\n",
      "dview = cl.direct_view()\n",
      "\n",
      "# Add the folder containing PyPhysim to the python path in all the\n",
      "# engines\n",
      "dview.execute('import sys')\n",
      "dview.execute('sys.path.append(\"{0}\")'.format(pyphysim_folder))"
     ],
     "language": "python",
     "metadata": {},
     "outputs": [
      {
       "metadata": {},
       "output_type": "pyout",
       "prompt_number": 3,
       "text": [
        "<AsyncResult: execute>"
       ]
      }
     ],
     "prompt_number": 3
    },
    {
     "cell_type": "markdown",
     "metadata": {},
     "source": [
      "All we need to do now is creating the runner object, call its \"simulate\" method (or the simulate_in_parallel method) and save the results to a file."
     ]
    },
    {
     "cell_type": "code",
     "collapsed": false,
     "input": [
      "runner_parallel = MaxSINRSimulationRunner('ia_config_file_120.txt', read_command_line_args=False)\n",
      "pprint(runner_parallel.params.parameters)\n",
      "runner_parallel.simulate_in_parallel(dview)\n",
      "\n",
      "# xxxxxxxxxx Get the parameters xxxxxxxxxxxxxxxxxxxxxxxxxxxxxxxxxxxxxxx\n",
      "K = 3  # Always 3 form the closed form IA algorithm\n",
      "Nr = runner_parallel.params[\"Nr\"]\n",
      "Nt = runner_parallel.params[\"Nt\"]\n",
      "Ns = runner_parallel.params[\"Ns\"]\n",
      "modulator_name = runner_parallel.modulator.name\n",
      "# xxxxxxxxxxxxxxxxxxxxxxxxxxxxxxxxxxxxxxxxxxxxxxxxxxxxxxxxxxxxxxxxxxxxx\n",
      "\n",
      "# xxxxxxxxxxxxxxxxxxxxxxxxxxxxxxxxxxxxxxxxxxxxxxxxxxxxxxxxxxxxxxxxxxxxx\n",
      "# File name (without extension) for the figure and result files.\n",
      "results_filename_parallel = 'ia_maxsinr_results_{0}_{1}x{2}({3})_120_parallel'.format(\n",
      "    modulator_name,\n",
      "    Nr,\n",
      "    Nt,\n",
      "    Ns)\n",
      "# xxxxxxxxxxxxxxxxxxxxxxxxxxxxxxxxxxxxxxxxxxxxxxxxxxxxxxxxxxxxxxxxxxxxx\n",
      "\n",
      "# xxxxxxxxxx Save the simulation results to a file xxxxxxxxxxxxxxxxxxxx\n",
      "runner_parallel.results.save_to_file('{0}.pickle'.format(results_filename_parallel))\n",
      "# xxxxxxxxxxxxxxxxxxxxxxxxxxxxxxxxxxxxxxxxxxxxxxxxxxxxxxxxxxxxxxxxxxxxx\n",
      "\n",
      "print \"Runned iterations: {0}\".format(runner_parallel.runned_reps)\n",
      "print \"Elapsed Time: {0}\".format(runner_parallel.elapsed_time)"
     ],
     "language": "python",
     "metadata": {},
     "outputs": [
      {
       "output_type": "stream",
       "stream": "stdout",
       "text": [
        "{'K': 3,\n",
        " 'M': 4,\n",
        " 'NSymbs': 100,\n",
        " 'Nr': 2,\n",
        " 'Ns': 1,\n",
        " 'Nt': 2,\n",
        " 'SNR': array([  0.,   5.,  10.,  15.,  20.,  25.,  30.]),\n",
        " 'max_bit_errors': 10000,\n",
        " 'max_iterations': array([120]),\n",
        " 'modulator': 'PSK',\n",
        " 'rep_max': 50,\n",
        " 'unpacked_parameters': ['SNR']}\n"
       ]
      },
      {
       "output_type": "stream",
       "stream": "stdout",
       "text": [
        "Runned iterations: [50, 50, 50, 50, 50, 50, 50]\n",
        "Elapsed Time: 14.90s\n",
        "\r",
        "[**                     6%                       ]  SNR: [  0.   5.  10.  15.  20.  25.  30.]\r",
        "[*******                15%                      ]  SNR: [  0.   5.  10.  15.  20.  25.  30.]\r",
        "[************           26%                      ]  SNR: [  0.   5.  10.  15.  20.  25.  30.]\r",
        "[*****************      36%                      ]  SNR: [  0.   5.  10.  15.  20.  25.  30.]\r",
        "[*********************  44%                      ]  SNR: [  0.   5.  10.  15.  20.  25.  30.]\r",
        "[***********************54%                      ]  SNR: [  0.   5.  10.  15.  20.  25.  30.]\r",
        "[***********************62%***                   ]  SNR: [  0.   5.  10.  15.  20.  25.  30.]\r",
        "[***********************71%********              ]  SNR: [  0.   5.  10.  15.  20.  25.  30.]\r",
        "[***********************78%***********           ]  SNR: [  0.   5.  10.  15.  20.  25.  30.]\r",
        "[***********************82%*************         ]  SNR: [  0.   5.  10.  15.  20.  25.  30.]\r",
        "[***********************86%***************       ]  SNR: [  0.   5.  10.  15.  20.  25.  30.]\r",
        "[***********************90%*****************     ]  SNR: [  0.   5.  10.  15.  20.  25.  30.]\r",
        "[***********************93%******************    ]  SNR: [  0.   5.  10.  15.  20.  25.  30.]\r",
        "[***********************98%********************* ]  SNR: [  0.   5.  10.  15.  20.  25.  30.]\r",
        "[***********************98%********************* ]  SNR: [  0.   5.  10.  15.  20.  25.  30.]\r",
        "[**********************100%**********************]  SNR: [  0.   5.  10.  15.  20.  25.  30.]\n"
       ]
      }
     ],
     "prompt_number": 4
    },
    {
     "cell_type": "heading",
     "level": 2,
     "metadata": {},
     "source": [
      "Plot the results"
     ]
    },
    {
     "cell_type": "code",
     "collapsed": false,
     "input": [
      "results_parallel = results.SimulationResults.load_from_file('{0}.pickle'.format(\n",
      "    results_filename_parallel))\n",
      "\n",
      "# Get the BER and SER from the results object\n",
      "ber_parallel = results_parallel.get_result_values_list('ber')\n",
      "ser_parallel = results_parallel.get_result_values_list('ser')\n",
      "ia_iterations_parallel = results_parallel.params['max_iterations']\n",
      "\n",
      "# Get the SNR from the simulation parameters\n",
      "SNR_parallel = np.array(results_parallel.params['SNR'])\n",
      "\n",
      "# Can only plot if we simulated for more then one value of SNR\n",
      "if SNR_parallel.size > 1:\n",
      "    fig = figure(figsize=(12,9))\n",
      "    semilogy(SNR_parallel, ber_parallel, '--g*', label='BER')\n",
      "    semilogy(SNR_parallel, ser_parallel, '--b*', label='SER')\n",
      "    xlabel('SNR')\n",
      "    ylabel('Error')\n",
      "    title('Min Leakage IA Algorithm ({5} Iterations)\\nK={0}, Nr={1}, Nt={2}, Ns={3}, {4}'.format(K, Nr, Nt, Ns, modulator_name, ia_iterations_parallel))\n",
      "    legend()\n",
      "\n",
      "    grid(True, which='both', axis='both')\n",
      "    show()"
     ],
     "language": "python",
     "metadata": {},
     "outputs": [
      {
       "metadata": {},
       "output_type": "display_data",
       "png": "[encoded data removed]",
       "text": [
        "<matplotlib.figure.Figure at 0x4494a50>"
       ]
      }
     ],
     "prompt_number": 5
    }
   ],
   "metadata": {}
  }
 ]
}