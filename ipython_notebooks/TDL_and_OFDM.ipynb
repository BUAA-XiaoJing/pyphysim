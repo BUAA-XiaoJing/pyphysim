{
 "cells": [
  {
   "cell_type": "markdown",
   "metadata": {
    "collapsed": false
   },
   "source": [
    "In this notebook we will modulate and transmit QAM symbols using OFDM. The transmit signal will be sent through a frequency selective channel, modeled as a *tapped delay line* channel. Even though this channel is frequency selective, OFDM make the channel appears flat at each subcarrier, although each subcarrier has a different channel gain that we will need to compensate. This compensasion is equivalent to a 1-tap equalizer and its simplicity is one of the main OFDM advantages."
   ]
  },
  {
   "cell_type": "markdown",
   "metadata": {},
   "source": [
    "## Initializations"
   ]
  },
  {
   "cell_type": "markdown",
   "metadata": {},
   "source": [
    "First we do some initializations and import some packages we will use."
   ]
  },
  {
   "cell_type": "code",
   "execution_count": null,
   "metadata": {
    "collapsed": true
   },
   "outputs": [],
   "source": [
    "%matplotlib notebook"
   ]
  },
  {
   "cell_type": "code",
   "execution_count": null,
   "metadata": {
    "collapsed": false
   },
   "outputs": [],
   "source": [
    "import sys\n",
    "sys.path.append('/home/darlan/cvs_files/pyphysim/')\n",
    "import math\n",
    "import numpy as np\n",
    "from matplotlib import pyplot as plt\n",
    "from pyphysim import channels\n",
    "from pyphysim.channels.fading import TdlChannel, COST259_RAx\n",
    "from pyphysim.channels.fading_generators import JakesSampleGenerator\n",
    "from pyphysim.modulators import OFDM, QAM, PSK\n",
    "from pyphysim.modulators.ofdm import OfdmOneTapEqualizer\n",
    "from pyphysim.util.misc import randn_c"
   ]
  },
  {
   "cell_type": "markdown",
   "metadata": {},
   "source": [
    "## Simulation Parameters"
   ]
  },
  {
   "cell_type": "markdown",
   "metadata": {},
   "source": [
    "Now we can set the simulation parameters."
   ]
  },
  {
   "cell_type": "code",
   "execution_count": null,
   "metadata": {
    "collapsed": true
   },
   "outputs": [],
   "source": [
    "M = 16  # Size of the modulation constelation\n",
    "noise_var = 0#1e-3\n",
    "bandwidth = 5e6    # 20 MHz bandwidth\n",
    "Fd = 10             # Doppler frequency (in Hz)\n",
    "Ts = 1./bandwidth  # Sampling interval\n",
    "fft_size = 1024\n",
    "num_used_subcarriers = 600\n",
    "num_ofdm_symbols = 10\n",
    "num_symbols = num_ofdm_symbols * num_used_subcarriers\n",
    "cp_size = 10"
   ]
  },
  {
   "cell_type": "markdown",
   "metadata": {},
   "source": [
    "## Perform the Simulation"
   ]
  },
  {
   "cell_type": "markdown",
   "metadata": {},
   "source": [
    "Now we can create the QAM and OFDM objects and generate the transmit signal."
   ]
  },
  {
   "cell_type": "code",
   "execution_count": null,
   "metadata": {
    "collapsed": false
   },
   "outputs": [],
   "source": [
    "# Creates the required objects\n",
    "qam = QAM(M)\n",
    "ofdm = OFDM(fft_size, cp_size, num_used_subcarriers)\n",
    "\n",
    "# Generate some random data\n",
    "data = np.random.randint(0,M, num_symbols)\n",
    "\n",
    "# Modulate the data\n",
    "qam_symbols = qam.modulate(data)\n",
    "\n",
    "# OFDM Modulate the QAM symbols\n",
    "ofdm_symbols = ofdm.modulate(qam_symbols)"
   ]
  },
  {
   "cell_type": "markdown",
   "metadata": {},
   "source": [
    "Let's see the QAM symbols in a scatter plot. Since the symbols were not corrupted yet all symbols should only be one of the 16 possible symbols in the QAM-16 constellation. Also, note that the mean power of the symbols is close to 1."
   ]
  },
  {
   "cell_type": "code",
   "execution_count": null,
   "metadata": {
    "collapsed": false
   },
   "outputs": [],
   "source": [
    "plt.figure()\n",
    "plt.plot(np.real(qam_symbols), np.imag(qam_symbols), 'r*')\n",
    "plt.title('QAM symbols')\n",
    "# The QAM symbols have an average power equal to 1.0\n",
    "print(\"Mean symbol power: {0}\".format(np.mean(np.abs(qam_symbols)**2)))\n",
    "\n",
    "plt.show()"
   ]
  },
  {
   "cell_type": "markdown",
   "metadata": {},
   "source": [
    "We can also plot the OFDM modulated data."
   ]
  },
  {
   "cell_type": "code",
   "execution_count": null,
   "metadata": {
    "collapsed": false
   },
   "outputs": [],
   "source": [
    "plt.figure()\n",
    "plt.plot(np.real(ofdm_symbols), np.imag(ofdm_symbols), 'r*')\n",
    "\n",
    "# The power is divided among all subcarriers. \n",
    "# The whole OFMD still has an average power equal to 1.0.\n",
    "print(\"Mean symbol power: {0}\".format(\n",
    "        np.mean(np.abs(ofdm_symbols)**2)))\n",
    "\n",
    "plt.show()"
   ]
  },
  {
   "cell_type": "code",
   "execution_count": null,
   "metadata": {
    "collapsed": false
   },
   "outputs": [],
   "source": [
    "# Create a jakes object with 20 rays. \n",
    "# This will be passed to the TDL channel object.\n",
    "jakesObj = JakesSampleGenerator(Fd, Ts, L=20)\n",
    "tdlchannel = TdlChannel(jakesObj, COST259_RAx)"
   ]
  },
  {
   "cell_type": "code",
   "execution_count": null,
   "metadata": {
    "collapsed": false
   },
   "outputs": [],
   "source": [
    "# Transmit the ofdm modulated signal through the TDL channel\n",
    "received_ofdm_symbols = tdlchannel.corrupt_data(ofdm_symbols)\n",
    "\n",
    "received_ofdm_symbols += math.sqrt(noise_var) * randn_c(\n",
    "    received_ofdm_symbols.size)"
   ]
  },
  {
   "cell_type": "code",
   "execution_count": null,
   "metadata": {
    "collapsed": false
   },
   "outputs": [],
   "source": [
    "# OFDM Demodulate received data (the last samples corresponding \n",
    "# only to channel memory are not included)\n",
    "ofdm_demodulated_data = ofdm.demodulate(\n",
    "    received_ofdm_symbols[0:ofdm_symbols.size])\n",
    "\n",
    "ofdm_demodulated_data = np.reshape(ofdm_demodulated_data, [-1, num_used_subcarriers], order='C')\n",
    "\n",
    "received_ofdm_symbol1 = ofdm_demodulated_data[0]\n",
    "received_ofdm_symbol2 = ofdm_demodulated_data[1]"
   ]
  },
  {
   "cell_type": "markdown",
   "metadata": {},
   "source": [
    "## Plot the data of the first 2 received OFDM symbols\n",
    "\n",
    "Note that it is not correct and does not appear like the QAM symbols we want."
   ]
  },
  {
   "cell_type": "code",
   "execution_count": null,
   "metadata": {
    "collapsed": false
   },
   "outputs": [],
   "source": [
    "plt.figure(figsize=(12,12))\n",
    "plt.subplot(2,1,1)\n",
    "plt.plot(np.real(received_ofdm_symbol1), np.imag(received_ofdm_symbol1), 'r*')\n",
    "plt.title('First demodulated OFDM symbol')\n",
    "\n",
    "plt.subplot(2,1,2)\n",
    "plt.plot(np.real(received_ofdm_symbol2), np.imag(received_ofdm_symbol2), 'r*')\n",
    "plt.title('Second demodulated OFDM symbol')\n",
    "plt.show()"
   ]
  },
  {
   "cell_type": "markdown",
   "metadata": {},
   "source": [
    "## Perform the one-tap equalization\n",
    "\n",
    "First we get the frequence response at each subcarrier. This will be sligtly different for each OFDM symbol due to channel variation in time. In fact, it varies even during the transmission of a single OFDM symbol, but we are simulating for a low dopper frequency value. We will thus average the frequency response during the transmission of a single OFDM symbol."
   ]
  },
  {
   "cell_type": "markdown",
   "metadata": {},
   "source": [
    "Let's plot the average frequency response in different OFDM symbols to visualize the channel variation."
   ]
  },
  {
   "cell_type": "code",
   "execution_count": null,
   "metadata": {
    "collapsed": false
   },
   "outputs": [],
   "source": [
    "# Plot the channel mean frequency response that the different OFDM symbols perceived\n",
    "impulse_response = tdlchannel.get_last_impulse_response()\n",
    "freq_response = impulse_response.get_freq_response(fft_size)\n",
    "freq_response = np.reshape(freq_response, (fft_size, num_ofdm_symbols, -1))\n",
    "mean_freq_response = np.mean(freq_response, axis=2)\n",
    "subcarrier_idx = np.arange(-fft_size//2, fft_size//2)\n",
    "plt.figure()\n",
    "plt.plot(subcarrier_idx, np.abs(mean_freq_response[:,0]))\n",
    "plt.hold(True)\n",
    "plt.plot(subcarrier_idx, np.abs(mean_freq_response[:,2]))\n",
    "plt.plot(subcarrier_idx, np.abs(mean_freq_response[:,5]))\n",
    "plt.plot(subcarrier_idx, np.abs(mean_freq_response[:,-1]))\n",
    "plt.legend(['OFDM Symb 1', 'OFDM Symb 2', 'OFDM Symb 5', 'OFDM Symb 10'])\n",
    "plt.xlabel('Subcarrier')\n",
    "plt.ylabel('Amplitude')\n",
    "plt.xlim([-fft_size//2,fft_size//2])\n",
    "plt.show()"
   ]
  },
  {
   "cell_type": "markdown",
   "metadata": {},
   "source": [
    "Now let's perform the one-tap equalization. For that we define the equalize function below."
   ]
  },
  {
   "cell_type": "code",
   "execution_count": null,
   "metadata": {
    "collapsed": false
   },
   "outputs": [],
   "source": [
    "# This function can perform the one-tap-equalization\n",
    "def equalize(ofdm_obj, data, impulse_response):\n",
    "    freq_response = impulse_response.get_freq_response(fft_size)\n",
    "\n",
    "    print(freq_response.shape)\n",
    "    # Reshape and get the average frequency response for all samples in each OFDM symbol\n",
    "    freq_response = np.reshape(freq_response, (fft_size, num_ofdm_symbols, -1))\n",
    "    mean_freq_response = np.mean(freq_response, axis=2)\n",
    "\n",
    "    # Apply the fftshift so that we have the frequency response at the correct locations (natural order)\n",
    "    #mean_freq_response = np.fft.fftshift(mean_freq_response, axes=0)\n",
    "    mean_freq_response_T = mean_freq_response.T\n",
    "    \n",
    "    num_unused_subcarriers = fft_size - num_used_subcarriers\n",
    "    \n",
    "    equalized_ofdm_demodulated_data = data / \\\n",
    "        mean_freq_response_T[:, ofdm_obj._get_used_subcarrier_indexes_proper()]\n",
    "    #mean_freq_response_T[:, num_unused_subcarriers//2:-num_unused_subcarriers//2]\n",
    "    \n",
    "    equalized_ofdm_demodulated_data = equalized_ofdm_demodulated_data.flatten()\n",
    "    return equalized_ofdm_demodulated_data\n",
    "\n",
    "# impulse_response = tdlchannel.get_last_impulse_response()\n",
    "# equalized_ofdm_demodulated_data = equalize(ofdm, ofdm_demodulated_data, impulse_response)\n",
    "\n",
    "# plt.figure(figsize=(8,8))\n",
    "# plt.plot(np.real(equalized_ofdm_demodulated_data), np.imag(equalized_ofdm_demodulated_data), 'r*')\n",
    "# plt.title('QAM symbols transmitted in the OFDM symbols')\n",
    "# plt.xlim([-1.15, 1.15])\n",
    "# plt.ylim([-1.15, 1.15])\n",
    "# plt.xlabel('Real part')\n",
    "# plt.ylabel('Imaginary part')\n",
    "# plt.show()"
   ]
  },
  {
   "cell_type": "code",
   "execution_count": null,
   "metadata": {
    "collapsed": true
   },
   "outputs": [],
   "source": [
    "# Note that in pyphysim we have a class that can perform this one-tap-equalization as well\n",
    "ofdm_equalizer = OfdmOneTapEqualizer(ofdm)\n",
    "equalized_ofdm_demodulated_data = ofdm_equalizer.equalize_data(ofdm_demodulated_data, impulse_response)"
   ]
  },
  {
   "cell_type": "markdown",
   "metadata": {},
   "source": [
    "In the plot we can clearly see that now we have the correct QAM symbols."
   ]
  },
  {
   "cell_type": "code",
   "execution_count": null,
   "metadata": {
    "collapsed": false
   },
   "outputs": [],
   "source": [
    "plt.figure(figsize=(8,8))\n",
    "plt.plot(np.real(equalized_ofdm_demodulated_data), np.imag(equalized_ofdm_demodulated_data), 'r*')\n",
    "plt.title('QAM symbols transmitted in the OFDM symbols')\n",
    "plt.xlim([-1.15, 1.15])\n",
    "plt.ylim([-1.15, 1.15])\n",
    "plt.xlabel('Real part')\n",
    "plt.ylabel('Imaginary part')\n",
    "plt.show()"
   ]
  },
  {
   "cell_type": "markdown",
   "metadata": {},
   "source": [
    "Let's compute the symbol error rate."
   ]
  },
  {
   "cell_type": "code",
   "execution_count": null,
   "metadata": {
    "collapsed": false
   },
   "outputs": [],
   "source": [
    "received_data = qam.demodulate(equalized_ofdm_demodulated_data)\n",
    "\n",
    "# Compare received data with transmitted data\n",
    "ser = 1 - np.sum(data == received_data) / data.size\n",
    "print(\"Symbol Error Rate: {0}\".format(ser))"
   ]
  }
 ],
 "metadata": {
  "kernelspec": {
   "display_name": "IPython (Python 3)",
   "language": "python",
   "name": "python3"
  },
  "language_info": {
   "codemirror_mode": {
    "name": "ipython",
    "version": 3
   },
   "file_extension": ".py",
   "mimetype": "text/x-python",
   "name": "python",
   "nbconvert_exporter": "python",
   "pygments_lexer": "ipython3",
   "version": "3.5.0+"
  }
 },
 "nbformat": 4,
 "nbformat_minor": 0
}
