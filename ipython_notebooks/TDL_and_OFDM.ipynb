{
 "cells": [
  {
   "cell_type": "markdown",
   "metadata": {
    "collapsed": false
   },
   "source": [
    "In this notebook we will modulate and transmit QAM symbols using OFDM. The transmit signal will be sent through a frequency selective channel, modeled as a *tapped delay line*. Even though this channel is frequency selective, OFDM make the channel appears flat at each subcarrier, although each subcarrier has a different channel gain that we will need to compensate. This compensasion is equivalent to a 1-tap equalizer and its simplicity is one of the main OFDM advantages."
   ]
  },
  {
   "cell_type": "markdown",
   "metadata": {},
   "source": [
    "First we do some initializations and import some packages we will use."
   ]
  },
  {
   "cell_type": "code",
   "execution_count": null,
   "metadata": {
    "collapsed": true
   },
   "outputs": [],
   "source": [
    "%matplotlib inline"
   ]
  },
  {
   "cell_type": "code",
   "execution_count": null,
   "metadata": {
    "collapsed": true
   },
   "outputs": [],
   "source": [
    "import sys\n",
    "sys.path.append('/home/darlan/cvs_files/pyphysim/')\n",
    "import math\n",
    "from matplotlib import pyplot as plt\n",
    "from pyphysim.comm import channels\n",
    "from pyphysim.comm.ofdm import OFDM\n",
    "from pyphysim.comm.modulators import QAM\n",
    "from pyphysim.util.misc import randn_c"
   ]
  },
  {
   "cell_type": "markdown",
   "metadata": {},
   "source": [
    "Now we can set the simulation parameters."
   ]
  },
  {
   "cell_type": "code",
   "execution_count": null,
   "metadata": {
    "collapsed": true
   },
   "outputs": [],
   "source": [
    "noise_var = 1e-3\n",
    "bandwidth = 5e6    # 20 MHz bandwidth\n",
    "Fd = 0             # Doppler frequency (in Hz)\n",
    "Ts = 1./bandwidth  # Sampling interval\n",
    "fft_size = 1024\n",
    "num_used_subcarriers = 600\n",
    "num_symbols = 10*num_used_subcarriers\n",
    "cp_size = 10"
   ]
  },
  {
   "cell_type": "markdown",
   "metadata": {},
   "source": [
    "Now we can create the QAM and OFDM objects and generate the transmit signal."
   ]
  },
  {
   "cell_type": "code",
   "execution_count": null,
   "metadata": {
    "collapsed": false
   },
   "outputs": [],
   "source": [
    "# Creates the required objects\n",
    "qam = QAM(16)\n",
    "ofdm = OFDM(fft_size, cp_size, num_used_subcarriers)\n",
    "\n",
    "# Generate some random data\n",
    "data = np.random.randint(0,16, num_symbols)\n",
    "\n",
    "# Modulate the data\n",
    "qam_symbols = qam.modulate(data)\n",
    "\n",
    "# OFDM Modulate the QAM symbols\n",
    "ofdm_symbols = ofdm.modulate(qam_symbols)"
   ]
  },
  {
   "cell_type": "markdown",
   "metadata": {},
   "source": [
    "Let's see the QAM symbols in a scatter plot. Since the symbols were not corrupted yet all symbols should only be one of the 16 possible symbols in the QAM-16 constellation. Also, note that the mean power of the symbols is close to 1."
   ]
  },
  {
   "cell_type": "code",
   "execution_count": null,
   "metadata": {
    "collapsed": false
   },
   "outputs": [],
   "source": [
    "plt.plot(np.real(qam_symbols), np.imag(qam_symbols), 'r*')\n",
    "plt.title('QAM symbols')\n",
    "plt.show()\n",
    "\n",
    "# The QAM symbols have an average power equal to 1.0\n",
    "print(\"Mean symbol power: {0}\".format(np.mean(np.abs(qam_symbols)**2)))"
   ]
  },
  {
   "cell_type": "code",
   "execution_count": null,
   "metadata": {
    "collapsed": false
   },
   "outputs": [],
   "source": [
    "plt.plot(np.real(ofdm_symbols), np.imag(ofdm_symbols), 'r*')\n",
    "plt.show()\n",
    "\n",
    "# The power is divided among all subcarriers. \n",
    "# The whole OFMD still has an average power equal to 1.0.\n",
    "print(\"Mean symbol power: {0}\".format(\n",
    "        np.mean(np.abs(ofdm_symbols)**2)))"
   ]
  },
  {
   "cell_type": "code",
   "execution_count": null,
   "metadata": {
    "collapsed": false
   },
   "outputs": [],
   "source": [
    "# Create a jakes object with 20 rays. \n",
    "# This will be passed to the TDL channel object.\n",
    "jakesObj = channels.JakesSampleGenerator(Fd, Ts, L=20)\n",
    "tdlchannel = channels.TdlChannel.create_from_channel_profile(\n",
    "    jakesObj, channels.COST259_RAx)"
   ]
  },
  {
   "cell_type": "code",
   "execution_count": null,
   "metadata": {
    "collapsed": true
   },
   "outputs": [],
   "source": [
    "fading_map = tdlchannel.get_fading_map(ofdm_symbols.size)"
   ]
  },
  {
   "cell_type": "code",
   "execution_count": null,
   "metadata": {
    "collapsed": false
   },
   "outputs": [],
   "source": [
    "print(fading_map.shape)\n",
    "plt.stem(np.abs(fading_map[:,0]))\n",
    "plt.show()"
   ]
  },
  {
   "cell_type": "code",
   "execution_count": null,
   "metadata": {
    "collapsed": false
   },
   "outputs": [],
   "source": [
    "# Transmit the ofdm modulated signal through the TDL channel\n",
    "received_ofdm_symbols = tdlchannel.transmit_signal_with_known_fading_map(\n",
    "    ofdm_symbols, fading_map)\n",
    "\n",
    "received_ofdm_symbols += math.sqrt(noise_var) * randn_c(\n",
    "    received_ofdm_symbols.size)"
   ]
  },
  {
   "cell_type": "code",
   "execution_count": null,
   "metadata": {
    "collapsed": false
   },
   "outputs": [],
   "source": [
    "ofdm_demodulated_data = ofdm.demodulate(\n",
    "    received_ofdm_symbols[0:ofdm_symbols.size])\n",
    "\n",
    "ofdm_demodulated_data = np.reshape(ofdm_demodulated_data, [-1, num_used_subcarriers], order='C')\n",
    "\n",
    "received_ofdm_symbol1 = ofdm_demodulated_data[0]\n",
    "received_ofdm_symbol2 = ofdm_demodulated_data[1]"
   ]
  },
  {
   "cell_type": "code",
   "execution_count": null,
   "metadata": {
    "collapsed": false
   },
   "outputs": [],
   "source": [
    "plt.figure(figsize=(12,12))\n",
    "plt.subplot(2,1,1)\n",
    "plt.plot(np.real(received_ofdm_symbol1), np.imag(received_ofdm_symbol1), 'r*')\n",
    "plt.title('First demodulated OFDM symbol')\n",
    "\n",
    "plt.subplot(2,1,2)\n",
    "plt.plot(np.real(received_ofdm_symbol2), np.imag(received_ofdm_symbol2), 'r*')\n",
    "plt.title('Second demodulated OFDM symbol')\n",
    "plt.show()"
   ]
  },
  {
   "cell_type": "code",
   "execution_count": null,
   "metadata": {
    "collapsed": true
   },
   "outputs": [],
   "source": [
    "# Get the channel frequency response\n",
    "full_fading_map = tdlchannel.include_the_zeros_in_fading_map(fading_map)\n",
    "channel_freq_resp = tdlchannel.get_channel_freq_response(\n",
    "    full_fading_map, fft_size)\n",
    "\n",
    "# Mean (delay domain average) frequency response\n",
    "mean_freq_response = np.mean(channel_freq_resp, axis=1)\n",
    "\n",
    "num_unused_subcarriers = fft_size - num_used_subcarriers\n",
    "\n",
    "# Note that we need to use fftshift to reorder the frequency \n",
    "# response into the natural subcarrier order\n",
    "mean_freq_response = np.fft.fftshift(mean_freq_response)"
   ]
  },
  {
   "cell_type": "code",
   "execution_count": null,
   "metadata": {
    "collapsed": false
   },
   "outputs": [],
   "source": [
    "# Plot channel frequency response at different time samples\n",
    "plt.plot(np.abs(channel_freq_resp[:,0]))\n",
    "plt.hold(True)\n",
    "plt.plot(np.abs(channel_freq_resp[:,0]))\n",
    "plt.plot(np.abs(channel_freq_resp[:,512]))\n",
    "plt.plot(np.abs(channel_freq_resp[:,1024]))\n",
    "plt.legend(['Sample 0', 'Sample 512', 'Sample 1024'])\n",
    "plt.xlim([0,1024])\n",
    "plt.show()"
   ]
  },
  {
   "cell_type": "code",
   "execution_count": null,
   "metadata": {
    "collapsed": false
   },
   "outputs": [],
   "source": [
    "equalized_ofdm_demodulated_data = ofdm_demodulated_data \\\n",
    "    / mean_freq_response[np.newaxis, num_unused_subcarriers//2:-num_unused_subcarriers//2]\n",
    "equalized_ofdm_demodulated_data = equalized_ofdm_demodulated_data.flatten()"
   ]
  },
  {
   "cell_type": "code",
   "execution_count": null,
   "metadata": {
    "collapsed": false
   },
   "outputs": [],
   "source": [
    "plt.figure(figsize=(8,8))\n",
    "plt.plot(np.real(equalized_ofdm_demodulated_data), np.imag(equalized_ofdm_demodulated_data), 'r*')\n",
    "plt.title('QAM symbols transmitted in the OFDM symbols')\n",
    "plt.xlabel('Real part')\n",
    "plt.ylabel('Imaginary part')\n",
    "plt.show()"
   ]
  },
  {
   "cell_type": "code",
   "execution_count": null,
   "metadata": {
    "collapsed": false
   },
   "outputs": [],
   "source": [
    "# Compare transmitted data with received data\n",
    "#received_qam_symbols = np.hstack(\n",
    " #   [equalized_received_ofdm_symbol1, equalized_received_ofdm_symbol2])\n",
    "\n",
    "received_data = qam.demodulate(equalized_ofdm_demodulated_data)\n",
    "\n",
    "# Compare received data with transmitted data\n",
    "ser = 1 - np.sum(data == received_data) / data.size\n",
    "print(\"Symbol Error Rate: {0}\".format(ser))"
   ]
  },
  {
   "cell_type": "markdown",
   "metadata": {},
   "source": [
    "## Convolution as Matrix Multiplication\n",
    "\n",
    "Remove this section if you don't finish it."
   ]
  },
  {
   "cell_type": "code",
   "execution_count": null,
   "metadata": {
    "collapsed": true
   },
   "outputs": [],
   "source": [
    "from scipy.linalg import circulant, toeplitz"
   ]
  },
  {
   "cell_type": "code",
   "execution_count": null,
   "metadata": {
    "collapsed": false
   },
   "outputs": [],
   "source": [
    "num_channel_taps = fading_map.shape[0]\n",
    "num_zero_padding = fft_size - num_channel_taps\n",
    "print(\"Number of channel taps: {0}\".format(num_channel_taps))\n",
    "\n",
    "print(\"Number of zero padding: {0}\".format(num_zero_padding))"
   ]
  },
  {
   "cell_type": "markdown",
   "metadata": {},
   "source": [
    "$$(f * g)[n]\\ \\stackrel{\\mathrm{def}}{=}\\ \\sum_{m=-\\infty}^\\infty f[m]\\, g[n - m]$$\n",
    "\n",
    "$$(f*g)[n]=\\sum_{m=-M}^M f[n-m]g[m]$$\n",
    "\n"
   ]
  },
  {
   "cell_type": "code",
   "execution_count": null,
   "metadata": {
    "collapsed": false
   },
   "outputs": [],
   "source": [
    "\n",
    "h = fading_map[:,0]\n",
    "\n",
    "H = toeplitz(h, np.zeros(h.size))\n",
    "x = np.array([1,2,3, 0])\n",
    "\n",
    "\n",
    "#[1, 2, 3, 0, 0, 0] * h[0]\n",
    "#[0, 1, 2, 3, 0, 0] * h[1]\n",
    "#[0, 0, 1, 2, 3, 0] * h[2]\n",
    "#[0, 0, 0, 1, 2, 3] * h[3]\n",
    "    \n",
    "#out = np.zeros(3+4-1, dtype=complex)\n",
    "#out[0] = x[0]*0 + \n",
    "\n",
    "print(H.dot(x))\n",
    "print(np.convolve(x,h, mode='full'))\n",
    "\n"
   ]
  }
 ],
 "metadata": {
  "kernelspec": {
   "display_name": "IPython (Python 3)",
   "language": "python",
   "name": "python3"
  },
  "language_info": {
   "codemirror_mode": {
    "name": "ipython",
    "version": 3
   },
   "file_extension": ".py",
   "mimetype": "text/x-python",
   "name": "python",
   "nbconvert_exporter": "python",
   "pygments_lexer": "ipython3",
   "version": "3.4.3"
  }
 },
 "nbformat": 4,
 "nbformat_minor": 0
}
